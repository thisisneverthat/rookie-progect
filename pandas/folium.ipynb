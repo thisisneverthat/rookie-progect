{
 "cells": [
  {
   "cell_type": "code",
   "execution_count": 52,
   "id": "4eb09780",
   "metadata": {},
   "outputs": [],
   "source": [
    "import folium"
   ]
  },
  {
   "cell_type": "code",
   "execution_count": null,
   "id": "f1c861a8",
   "metadata": {},
   "outputs": [],
   "source": [
    "!pip install folium"
   ]
  },
  {
   "cell_type": "code",
   "execution_count": 53,
   "id": "5101c882",
   "metadata": {},
   "outputs": [],
   "source": [
    "import folium\n",
    "\n",
    "seoul_map = folium.Map(location=[37.55,126.98], zoom_start=12)\n",
    "\n",
    "#지도를 html 파일로 저장\n",
    "seoul_map.save('.seoul.html')"
   ]
  },
  {
   "cell_type": "code",
   "execution_count": 22,
   "id": "9ae9e799",
   "metadata": {},
   "outputs": [],
   "source": [
    "seoul_map2 = folium.Map(location=[37.55,126.98], tiles='Stamen Terrain',\n",
    "                       zoom_start=12)\n",
    "seoul_map3 = folium.Map(location=[37.55,126.98], tiles='Stamen Toner',\n",
    "                       zoom_start=15)\n",
    "\n",
    "seoul_map2.save('./seoul2.html')\n",
    "seoul_map3.save('./seoul3.html')"
   ]
  },
  {
   "cell_type": "code",
   "execution_count": 48,
   "id": "1668ddd6",
   "metadata": {},
   "outputs": [],
   "source": [
    "#!/usr/bin/env python\n",
    "# coding: utf-8\n",
    "\n",
    "# In[ ]:\n",
    "\n",
    "\n",
    "# matplotlib 한글 폰트 문제 해결\n",
    "import matplotlib.pyplot as plt\n",
    "from matplotlib import rc\n",
    "import platform \n",
    "\n",
    "if platform.system() == 'Darwin':   # Mac 환경 폰트 지정\n",
    "    plt.rc('font', family='AppleGothic')\n",
    "elif platform.system() == 'Windows':\n",
    "    rc('font', family='Malgun Gothic')\n",
    "    \n",
    "plt.rc('axes', unicode_minus=False)\n"
   ]
  },
  {
   "cell_type": "code",
   "execution_count": 66,
   "id": "8ae961c5",
   "metadata": {},
   "outputs": [],
   "source": [
    "import pandas as pd\n",
    "\n",
    "df = pd.read_excel('./서울지역 대학교 위치.xlsx')\n",
    "df.head()\n",
    "\n",
    "seoul_map = folium.Map(location=[37.55,126.98], tiles='Stamen Terrain',\n",
    "                      zoom_start=12)\n",
    "\n",
    "#대학교 위치 정보를 Marker로 표시\n",
    "for name, lat, lng, in zip(df.index, df.위도, df.경도):\n",
    "    folium.Marker([lat,lng], popup=name).add_to(seoul_map)\n",
    "seoul_map.save('./seoul_colleges.html')"
   ]
  },
  {
   "cell_type": "code",
   "execution_count": 69,
   "id": "0f955518",
   "metadata": {},
   "outputs": [],
   "source": [
    "seoul_map = folium.Map(location=[37.55,126.98], zoom_start=12)\n",
    "\n",
    "for name, lat, lng in zip(df.index, df.위도, df.경도):\n",
    "    folium.CircleMarker([lat, lng],\n",
    "                        radius=10, # 원의 반지름\n",
    "                        fill=True, # 원을 채움\n",
    "                        fill_color='coral', # 원을 채우는 색\n",
    "                        fill_opacity=0.9,\n",
    "                        popup=name).add_to(seoul_map)\n",
    "    \n",
    "    \n",
    "seoul_map.save('./seoul_colleges2.html')\n",
    "    \n",
    "    "
   ]
  }
 ],
 "metadata": {
  "kernelspec": {
   "display_name": "Python 3 (ipykernel)",
   "language": "python",
   "name": "python3"
  },
  "language_info": {
   "codemirror_mode": {
    "name": "ipython",
    "version": 3
   },
   "file_extension": ".py",
   "mimetype": "text/x-python",
   "name": "python",
   "nbconvert_exporter": "python",
   "pygments_lexer": "ipython3",
   "version": "3.9.12"
  }
 },
 "nbformat": 4,
 "nbformat_minor": 5
}
