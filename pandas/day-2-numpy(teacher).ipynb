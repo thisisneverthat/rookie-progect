{
 "cells": [
  {
   "cell_type": "code",
   "execution_count": 1,
   "id": "01c027cc",
   "metadata": {},
   "outputs": [],
   "source": [
    "#  numpy : 배열을 처리하기 쉽게 제공하는 모듈\n",
    "import numpy as np"
   ]
  },
  {
   "cell_type": "code",
   "execution_count": 5,
   "id": "dea94157",
   "metadata": {},
   "outputs": [
    {
     "name": "stdout",
     "output_type": "stream",
     "text": [
      "<class 'list'> [0, 1, 2, 3, 4, 5, 6, 7, 8, 9, 10, 11, 12, 13, 14]\n"
     ]
    }
   ],
   "source": [
    "list_a = list(range(15))\n",
    "print(type(list_a), list_a)"
   ]
  },
  {
   "cell_type": "code",
   "execution_count": 14,
   "id": "5d3be7cf",
   "metadata": {},
   "outputs": [
    {
     "name": "stdout",
     "output_type": "stream",
     "text": [
      "<class 'numpy.ndarray'> [ 0  1  2  3  4  5  6  7  8  9 10 11 12 13 14]\n",
      "2\n",
      "(3, 5)\n",
      "15\n",
      "int32 4\n",
      "[[ 0  1  2  3  4]\n",
      " [ 5  6  7  8  9]\n",
      " [10 11 12 13 14]]\n"
     ]
    },
    {
     "data": {
      "text/plain": [
       "array([ 0,  1,  2,  3,  4,  5,  6,  7,  8,  9, 10, 11, 12, 13, 14])"
      ]
     },
     "execution_count": 14,
     "metadata": {},
     "output_type": "execute_result"
    }
   ],
   "source": [
    "arr = np.arange(15)  # np.arange(start, stop, step)\n",
    "print(type(arr), arr)\n",
    "\n",
    "# 차원 변경 : array.reshape(행, 열)\n",
    "arr = arr.reshape(3,5)\n",
    "print(arr.ndim)  # 차원 출력\n",
    "print(arr.shape)  # 배열의 형태  3, 5\n",
    "print(arr.size)  # 배열의 전체 데이터 개수\n",
    "print(arr.dtype.name, arr.dtype.itemsize)  # 데이터 타입의 이름, 저장 사이즈\n",
    "print(arr)\n",
    "\n",
    "arr.reshape(arr.size)  # 평탄화 "
   ]
  },
  {
   "cell_type": "code",
   "execution_count": 12,
   "id": "b3799e78",
   "metadata": {},
   "outputs": [
    {
     "data": {
      "text/html": [
       "<div>\n",
       "<style scoped>\n",
       "    .dataframe tbody tr th:only-of-type {\n",
       "        vertical-align: middle;\n",
       "    }\n",
       "\n",
       "    .dataframe tbody tr th {\n",
       "        vertical-align: top;\n",
       "    }\n",
       "\n",
       "    .dataframe thead th {\n",
       "        text-align: right;\n",
       "    }\n",
       "</style>\n",
       "<table border=\"1\" class=\"dataframe\">\n",
       "  <thead>\n",
       "    <tr style=\"text-align: right;\">\n",
       "      <th></th>\n",
       "      <th>0</th>\n",
       "      <th>1</th>\n",
       "      <th>2</th>\n",
       "      <th>3</th>\n",
       "      <th>4</th>\n",
       "    </tr>\n",
       "  </thead>\n",
       "  <tbody>\n",
       "    <tr>\n",
       "      <th>0</th>\n",
       "      <td>0</td>\n",
       "      <td>1</td>\n",
       "      <td>2</td>\n",
       "      <td>3</td>\n",
       "      <td>4</td>\n",
       "    </tr>\n",
       "    <tr>\n",
       "      <th>1</th>\n",
       "      <td>5</td>\n",
       "      <td>6</td>\n",
       "      <td>7</td>\n",
       "      <td>8</td>\n",
       "      <td>9</td>\n",
       "    </tr>\n",
       "    <tr>\n",
       "      <th>2</th>\n",
       "      <td>10</td>\n",
       "      <td>11</td>\n",
       "      <td>12</td>\n",
       "      <td>13</td>\n",
       "      <td>14</td>\n",
       "    </tr>\n",
       "  </tbody>\n",
       "</table>\n",
       "</div>"
      ],
      "text/plain": [
       "    0   1   2   3   4\n",
       "0   0   1   2   3   4\n",
       "1   5   6   7   8   9\n",
       "2  10  11  12  13  14"
      ]
     },
     "execution_count": 12,
     "metadata": {},
     "output_type": "execute_result"
    }
   ],
   "source": [
    "import pandas as pd\n",
    "df = pd.DataFrame(arr)\n",
    "df"
   ]
  },
  {
   "cell_type": "code",
   "execution_count": 19,
   "id": "1d74a40a",
   "metadata": {},
   "outputs": [
    {
     "name": "stdout",
     "output_type": "stream",
     "text": [
      "[ 0  1  2  3  4  5  6  7  8  9 10 11 12 13 14]\n",
      "[[1 2 3]\n",
      " [4 5 6]]\n",
      "1 (15,) 15 int32\n",
      "2 (2, 3) 6 int32\n"
     ]
    }
   ],
   "source": [
    "# 리스트를 array로 변경  : np.array(리스트)\n",
    "arr_list = np.array(list_a)\n",
    "print(arr_list)\n",
    "\n",
    "two_list = np.array( [[1,2,3], [4,5,6]])\n",
    "print(two_list)\n",
    "\n",
    "# 각 array의 차원, 배열 형식, 전체 사이즈, 데이터타입 출력\n",
    "print(arr_list.ndim, arr_list.shape, arr_list.size, arr_list.dtype)\n",
    "print(two_list.ndim, two_list.shape, two_list.size, two_list.dtype)"
   ]
  },
  {
   "cell_type": "code",
   "execution_count": 33,
   "id": "03bb7043",
   "metadata": {},
   "outputs": [
    {
     "name": "stdout",
     "output_type": "stream",
     "text": [
      "[[0. 0. 0. 0.]\n",
      " [0. 0. 0. 0.]\n",
      " [0. 0. 0. 0.]]\n",
      "[[0. 0. 0.]\n",
      " [0. 0. 0.]]\n",
      "[[0 0 0]\n",
      " [0 0 0]] 4\n",
      "[['' '' '']\n",
      " ['' '' '']]\n",
      "[[0. 0. 0.]\n",
      " [0. 0. 0.]]\n",
      "[[0 0 0]\n",
      " [0 0 0]] 8\n",
      "[[1. 1. 1.]\n",
      " [1. 1. 1.]]\n"
     ]
    },
    {
     "data": {
      "text/plain": [
       "array([[0., 0., 0.],\n",
       "       [0., 0., 0.]])"
      ]
     },
     "execution_count": 33,
     "metadata": {},
     "output_type": "execute_result"
    }
   ],
   "source": [
    "# array  생성 \n",
    "a = np.empty((3,4))   # 메모리의 공간만 할당 , 값은 초기화 시키지 않음\n",
    "print(a)\n",
    "\n",
    "# 초기값을 0으로 부여하면서 배열 생성\n",
    "a = np.zeros((2,3))\n",
    "print(a)\n",
    "\n",
    "a = np.zeros((2,3), dtype='i')  # 데이터 타입을 int로\n",
    "print(a, a.dtype.itemsize)\n",
    "\n",
    "a = np.zeros((2,3), dtype='U4')  # 데이터 타입을 문자로\n",
    "print(a)\n",
    "\n",
    "a = np.zeros((2,3), dtype='f')  # 데이터 타입을 float로\n",
    "print(a)\n",
    "\n",
    "a = np.zeros((2,3), dtype='i8')  # 데이터 타입을 float로\n",
    "print(a, a.dtype.itemsize)\n",
    "\n",
    "# 데이터 초기값을 1 로 주면서 배열 생성\n",
    "a = np.ones((2,3))\n",
    "print(a)\n",
    "\n",
    "b = np.zeros_like(a)\n",
    "b"
   ]
  },
  {
   "cell_type": "code",
   "execution_count": 34,
   "id": "b3bb2f75",
   "metadata": {},
   "outputs": [],
   "source": [
    "# array 연산\n",
    "x1 = np.array([1.0, 2.0, 3.0])\n",
    "y1 = np.array([5.0, 10.0, 15.0])\n",
    "x2 = np.array([[1.0, 2.0],[ 3.0, 4.0]]) \n",
    "y2 = np.array([[5.0,10.0],[15.0,20.0]]) \n",
    "z1 = np.array([-1.0, -2.0])\n",
    "z2 = np.array([[5.0],[10.0],[15.0]])\n"
   ]
  },
  {
   "cell_type": "code",
   "execution_count": 44,
   "id": "316ae33e",
   "metadata": {},
   "outputs": [
    {
     "name": "stdout",
     "output_type": "stream",
     "text": [
      "[ 6. 12. 18.]\n",
      "[[ 5. 20.]\n",
      " [45. 80.]]\n",
      "[[ -5.  -5.]\n",
      " [-15. -10.]]\n",
      "[[ 4.  3.]\n",
      " [ 9.  8.]\n",
      " [14. 13.]]\n",
      "[1. 4. 9.]\n",
      "[False  True  True]\n"
     ]
    },
    {
     "data": {
      "text/plain": [
       "array([[1., 2.],\n",
       "       [3., 4.]])"
      ]
     },
     "execution_count": 44,
     "metadata": {},
     "output_type": "execute_result"
    }
   ],
   "source": [
    "# array basic 연산\n",
    "print(x1 + y1)\n",
    "print(x2 * y2)\n",
    "print(y2 / z1)\n",
    "\n",
    "# array broadcast 연산\n",
    "print(z1 + z2)\n",
    "print(x1 ** 2)\n",
    "print(x1 >=2)\n",
    "\n",
    "# shape \n",
    "# x2 = np.array([[1.0, 2.0],[ 3.0, 4.0]]) \n",
    "x2.reshape(x2.size)\n",
    "x2.flatten()  #  1차원으로 평탄화 \n",
    "\n",
    "x2.flatten().reshape(2,2)"
   ]
  },
  {
   "cell_type": "code",
   "execution_count": 52,
   "id": "e0723424",
   "metadata": {},
   "outputs": [
    {
     "name": "stdout",
     "output_type": "stream",
     "text": [
      "[ 0  1  4  9 16 25 36 49 64 81]\n",
      "4\n",
      "[ 4  9 16]\n",
      "[ 0  4 16 36 64]\n",
      "[  0   1  -4   9 -16  25  36  49  64  81]\n",
      "[ 81  64  49  36  25 -16   9  -4   1   0]\n",
      "0 1 -4 9 -16 25 36 49 64 81 \n"
     ]
    }
   ],
   "source": [
    "# indexing, slicing, iterating\n",
    "a = np.arange(10) ** 2\n",
    "print(a)\n",
    "\n",
    "# 2번째 자료 출력\n",
    "print(a[2])\n",
    "\n",
    "# 4 부터 16까지 출력\n",
    "print(a[2 : 5])  # [ start : stop ] stop 포함하지 않음\n",
    "\n",
    "# 처음부터 끝까지 2칸씩 증가시키면서 출력\n",
    "print(a[ : : 2 ])\n",
    "\n",
    "a[0 : 6: 2] = -a[0 : 6: 2]\n",
    "print(a)\n",
    "\n",
    "# 뒤에서 부터 출력 \n",
    "print(a[ : : -1])\n",
    "\n",
    "# for를 사용하여 값을 출력\n",
    "for i in a:\n",
    "    print(i, end=' ')\n",
    "print()"
   ]
  },
  {
   "cell_type": "code",
   "execution_count": 64,
   "id": "e80bef83",
   "metadata": {},
   "outputs": [
    {
     "name": "stdout",
     "output_type": "stream",
     "text": [
      "[[ 1  2  3  4  5]\n",
      " [ 6  7  8  9 10]\n",
      " [11 12 13 14 15]\n",
      " [16 17 18 19 20]]\n",
      "7\n",
      "[2 7]\n",
      "20\n",
      "[ 6  7  8  9 10]\n",
      "[[ 2  4]\n",
      " [ 7  9]\n",
      " [12 14]\n",
      " [17 19]]\n"
     ]
    },
    {
     "data": {
      "text/plain": [
       "array([ 7, 18])"
      ]
     },
     "execution_count": 64,
     "metadata": {},
     "output_type": "execute_result"
    }
   ],
   "source": [
    "# 배열을 검색 \n",
    "a = np.arange(1, 21).reshape(4,5)\n",
    "print(a)\n",
    "\n",
    "# 배열의 각 원소 검색 : array[행, 열]\n",
    "print(a[1, 1])\n",
    "\n",
    "print(a[0:2, 1])  # 0행, 1행의 1열만 검색\n",
    "# 마지막 행과 마지막 열의 자료 출력\n",
    "print(a[-1, -1])\n",
    "# 1행의 모든 열의 자료 검색\n",
    "print(a[1, : ])\n",
    "print(a[ : , [1,3]])\n",
    "a[ :, 1]\n",
    "a[[1,3], [1, 2]]"
   ]
  },
  {
   "cell_type": "code",
   "execution_count": 87,
   "id": "227fcd2c",
   "metadata": {},
   "outputs": [
    {
     "data": {
      "text/plain": [
       "array([[2.12199579e-314, 6.36598737e-314],\n",
       "       [1.06099790e-313, 1.48539705e-313],\n",
       "       [1.90979621e-313, 2.33419537e-313]])"
      ]
     },
     "execution_count": 87,
     "metadata": {},
     "output_type": "execute_result"
    }
   ],
   "source": [
    "# np.ndarray(shape, buffer=)\n",
    "# a = np.ndarray((3,2), buffer=np.arange(6), dtype=int)\n",
    "a = np.ndarray((3,2), buffer=np.arange(14))\n",
    "a"
   ]
  },
  {
   "cell_type": "code",
   "execution_count": 83,
   "id": "2cc12367",
   "metadata": {},
   "outputs": [
    {
     "data": {
      "text/plain": [
       "4"
      ]
     },
     "execution_count": 83,
     "metadata": {},
     "output_type": "execute_result"
    }
   ],
   "source": [
    "np.arange(6).dtype.itemsize"
   ]
  },
  {
   "cell_type": "code",
   "execution_count": 91,
   "id": "396bfeec",
   "metadata": {},
   "outputs": [
    {
     "name": "stdout",
     "output_type": "stream",
     "text": [
      "[2 0 1 1]\n",
      "[1 3 0]\n"
     ]
    }
   ],
   "source": [
    "a = np.array([[0.1,0.8,0.2, 0.4],[0.3,0.2,0.5,0.6],[0.9,0.5,0.3, 0.5]]) \n",
    "print(np.argmax(a, axis=0))\n",
    "print(np.argmax(a, axis=1))"
   ]
  },
  {
   "cell_type": "code",
   "execution_count": 94,
   "id": "44797b7a",
   "metadata": {},
   "outputs": [
    {
     "name": "stdout",
     "output_type": "stream",
     "text": [
      "26\n",
      "-24 23 4.8076923076923075 10.734628476137871 115.23224852071006\n",
      "5.0 0.0 23.0\n"
     ]
    }
   ],
   "source": [
    "x = np.array([18,   5,  10,  23,  19,  -8,  10,   0,   0,   5,   2,  15,   8,\n",
    "              2,   5,   4,  15,  -1,   4,  -7, -24,   7,   9,  -6,  23, -13])\n",
    "\n",
    "print(len(x))\n",
    "print(x.min(), x.max(), x.mean(), x.std(), x.var())\n",
    "print(np.median(x), np.percentile(x, 25), np.percentile(x,100))"
   ]
  },
  {
   "cell_type": "code",
   "execution_count": 107,
   "id": "f65f1a5f",
   "metadata": {},
   "outputs": [
    {
     "name": "stdout",
     "output_type": "stream",
     "text": [
      "[0.90519172 0.59111967 0.41112492 0.69535104 0.3703825  0.94121373\n",
      " 0.88162718 0.53984262 0.88611395 0.08708937]\n",
      "[ 0.55643816 -0.08151846  0.92714856  2.05274894 -0.0598251   0.37721593\n",
      "  0.78878281 -0.19810657  1.31551815 -1.66198746]\n",
      "[4 5 6 5 2 2 4 8 1 2]\n",
      "[17 10 18 18 18 12 12 13 13 16]\n"
     ]
    }
   ],
   "source": [
    "#  난수 생성\n",
    "# rand : 0 부터 1사이의 균일분포(정규분포)로 난수 생성\n",
    "# randn: 기댓값이 0이고 표준편차가 1인 가우시안 표준 정규 분포를 따르는 \n",
    "#          난수를 생성\n",
    "# randint: 균일 분포의 정수 난수\n",
    "print(np.random.rand(10))\n",
    "print(np.random.randn(10))\n",
    "print(np.random.randint(10, size=10))\n",
    "print(np.random.randint(10,20, size=10))"
   ]
  },
  {
   "cell_type": "code",
   "execution_count": 143,
   "id": "caa32de0",
   "metadata": {},
   "outputs": [
    {
     "name": "stdout",
     "output_type": "stream",
     "text": [
      "[[15 10 13 13 17]\n",
      " [19 13 15 12 14]]\n"
     ]
    }
   ],
   "source": [
    "np.random.seed(0)   # 난수 초기화 -> 동일한 난수 발생\n",
    "\n",
    "print(np.random.randint(10,20, size=(2,5)))"
   ]
  },
  {
   "cell_type": "code",
   "execution_count": 146,
   "id": "d6b107db",
   "metadata": {
    "scrolled": true
   },
   "outputs": [
    {
     "name": "stdout",
     "output_type": "stream",
     "text": [
      "[0 1 2 3 4 5 6 7 8 9]\n",
      "[2 3 4 6 0 9 5 1 8 7]\n"
     ]
    }
   ],
   "source": [
    "x = np.arange(10)   # 0 ~ 9 까지의 정수 발생 , 1차원 배열\n",
    "print(x)\n",
    "\n",
    "# 자료의 위치를 바꿈\n",
    "np.random.shuffle(x)\n",
    "print(x)"
   ]
  },
  {
   "cell_type": "code",
   "execution_count": 205,
   "id": "a8b42563",
   "metadata": {},
   "outputs": [
    {
     "data": {
      "text/plain": [
       "array([4, 0, 2, 3, 4, 3, 2, 4, 3, 4])"
      ]
     },
     "execution_count": 205,
     "metadata": {},
     "output_type": "execute_result"
    }
   ],
   "source": [
    "# 샘플링 함수 : choice 함수\n",
    "# np.random.choice(data 또는 정수, size=None, replace=True, p=None)\n",
    "np.random.choice(5, 5, replace=False)  # data = np.arange(5), size=5\n",
    "np.random.choice(5, 3, replace=False)  # 5개중 3개만 선택\n",
    "np.random.choice(5, 10)   # 반복 허용 replace=True\n",
    "np.random.choice(5, 10, p=[0.1, 0, 0.2, 0.5, 0.2])"
   ]
  },
  {
   "cell_type": "code",
   "execution_count": 214,
   "id": "a013521e",
   "metadata": {},
   "outputs": [
    {
     "name": "stdout",
     "output_type": "stream",
     "text": [
      "[ 3  6  9 12 15 18]\n",
      "[ 1  5  9 13 17]\n",
      "[9]\n"
     ]
    }
   ],
   "source": [
    "# 1부터 20까지의 수를 가진 array 생성\n",
    "# 배열에서 3의 배수를 검색\n",
    "# 4로 나누면 1이 남는 수 검색\n",
    "# 3으로 나누면 나누어지고 4로 나누면 1이 남는수 검색\n",
    "x = np.arange(1, 21)\n",
    "print(x[ x%3 == 0])\n",
    "print(x[ x % 4 == 1 ])\n",
    "print(x[ (x%3 == 0) & (x % 4 == 1)])"
   ]
  },
  {
   "cell_type": "code",
   "execution_count": 213,
   "id": "5225010e",
   "metadata": {},
   "outputs": [
    {
     "data": {
      "text/plain": [
       "array([False, False,  True, False, False,  True, False, False,  True,\n",
       "       False, False,  True, False, False,  True, False, False,  True,\n",
       "       False, False])"
      ]
     },
     "execution_count": 213,
     "metadata": {},
     "output_type": "execute_result"
    }
   ],
   "source": [
    "x%3 == 0"
   ]
  },
  {
   "cell_type": "code",
   "execution_count": null,
   "id": "944d40a0",
   "metadata": {},
   "outputs": [],
   "source": []
  }
 ],
 "metadata": {
  "kernelspec": {
   "display_name": "Python 3 (ipykernel)",
   "language": "python",
   "name": "python3"
  },
  "language_info": {
   "codemirror_mode": {
    "name": "ipython",
    "version": 3
   },
   "file_extension": ".py",
   "mimetype": "text/x-python",
   "name": "python",
   "nbconvert_exporter": "python",
   "pygments_lexer": "ipython3",
   "version": "3.9.12"
  }
 },
 "nbformat": 4,
 "nbformat_minor": 5
}
