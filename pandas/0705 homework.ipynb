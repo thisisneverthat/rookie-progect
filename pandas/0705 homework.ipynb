{
 "cells": [
  {
   "cell_type": "code",
   "execution_count": 1,
   "id": "591561c4",
   "metadata": {},
   "outputs": [],
   "source": [
    "# 1. auto-mpg.scv 파일을 가져옴\n",
    "# 2. 컬럼명 지정\n",
    "# 3. horsepower의 '?' 값을 이전 값으로 대체\n",
    "# 4. horsepower를 카테고리 변수로 지정\n",
    "#      4구간 : low, midium, m_midium, height로\n",
    "# 5. horsepower를 더미 칼럼으로 추가\n",
    "# 6. origin 칼럼을 더미 칼럼으로 추가\n",
    "# 6-1) 1 -> usa / 2 -> kr / 3 -> eu 변경\n",
    "#-------------------------------------------"
   ]
  },
  {
   "cell_type": "code",
   "execution_count": 37,
   "id": "58307812",
   "metadata": {},
   "outputs": [
    {
     "name": "stdout",
     "output_type": "stream",
     "text": [
      "0      USA\n",
      "1      USA\n",
      "2      USA\n",
      "3      USA\n",
      "4      USA\n",
      "      ... \n",
      "393    USA\n",
      "394     KR\n",
      "395    USA\n",
      "396    USA\n",
      "397    USA\n",
      "Name: origin, Length: 392, dtype: object\n"
     ]
    }
   ],
   "source": [
    "import pandas as pd\n",
    "import numpy as np\n",
    "\n",
    "# 1. auto-mpg.scv 파일을 가져옴\n",
    "df = pd.read_csv('./dataset/auto-mpg.csv',header=None)\n",
    "\n",
    "# 2. 컬럼명 지정\n",
    "df.columns =  ['mpg','cylinders','displacement','horsepower','weight',\n",
    "             'acceleration','model year','origin','name']\n",
    "\n",
    "# 3. horsepower의 '?' 값을 이전 값으로 대체\n",
    "df['horsepower'].unique()\n",
    "df['horsepower'].replace('?', np.nan,inplace=True )\n",
    "df['horsepower'].unique()\n",
    "df.dropna(subset='horsepower', axis=0, inplace=True)\n",
    "df['horsepower'].unique()\n",
    "# # 4. horsepower를 카테고리 변수로 지정\n",
    "df['horsepower'] =df['horsepower'].astype('float')\n",
    "np.histogram(df['horsepower'], bins=4)\n",
    "df['horsepower'].isnull().value_counts()\n",
    "#      4구간 : low, midium, m_midium, height로\n",
    "count, bin_dividers = np.histogram(df['horsepower'], bins=4)\n",
    "#print(bin_dividers)\n",
    "bin_labels = ['low','mediun','m_medium','height']\n",
    "df['hp_bin'] = pd.cut(x=df['horsepower'],\n",
    "                        bins = bin_dividers,\n",
    "                        labels = bin_labels,\n",
    "                        include_lowest= True)\n",
    "df[['horsepower', 'hp_bin']].head(7)\n",
    "\n",
    "# 5. horsepower를 더미 칼럼으로 추가\n",
    "horsepower_dummies = pd.get_dummies(df['hp_bin'])\n",
    "#print(horsepower_dummies.head(9))\n",
    "\n",
    "# 6. origin 칼럼을 더미 칼럼으로 추가\n",
    "df['origin'].unique()\n",
    "origin_dummies = pd.get_dummies(df['origin'])\n",
    "# 6-1) 1 -> usa / 2 -> kr / 3 -> eu 변경\n",
    "df['origin'].replace({1:'USA', 2:'KR', 3:'EU'}, inplace=True)\n",
    "print(df['origin'])\n",
    "#print(origin_dummies)"
   ]
  },
  {
   "cell_type": "code",
   "execution_count": null,
   "id": "a83d3b80",
   "metadata": {},
   "outputs": [],
   "source": []
  },
  {
   "cell_type": "code",
   "execution_count": null,
   "id": "8455a003",
   "metadata": {},
   "outputs": [],
   "source": []
  },
  {
   "cell_type": "code",
   "execution_count": null,
   "id": "cc69ed78",
   "metadata": {},
   "outputs": [],
   "source": []
  },
  {
   "cell_type": "code",
   "execution_count": null,
   "id": "d3eb0ef0",
   "metadata": {},
   "outputs": [],
   "source": []
  }
 ],
 "metadata": {
  "kernelspec": {
   "display_name": "Python 3 (ipykernel)",
   "language": "python",
   "name": "python3"
  },
  "language_info": {
   "codemirror_mode": {
    "name": "ipython",
    "version": 3
   },
   "file_extension": ".py",
   "mimetype": "text/x-python",
   "name": "python",
   "nbconvert_exporter": "python",
   "pygments_lexer": "ipython3",
   "version": "3.9.12"
  }
 },
 "nbformat": 4,
 "nbformat_minor": 5
}
