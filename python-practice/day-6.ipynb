{
 "cells": [
  {
   "cell_type": "code",
   "execution_count": 61,
   "id": "2536454f",
   "metadata": {},
   "outputs": [
    {
     "ename": "SyntaxError",
     "evalue": "invalid syntax (2707438930.py, line 11)",
     "output_type": "error",
     "traceback": [
      "\u001b[1;36m  Input \u001b[1;32mIn [61]\u001b[1;36m\u001b[0m\n\u001b[1;33m    def __carry__:\u001b[0m\n\u001b[1;37m                 ^\u001b[0m\n\u001b[1;31mSyntaxError\u001b[0m\u001b[1;31m:\u001b[0m invalid syntax\n"
     ]
    }
   ],
   "source": [
    "# 가비지 컬렉터 : 더 이상 사용하지 않는 클래스 변수를 제거\n",
    "# __del__(self):\n",
    "\n",
    "class Test:\n",
    "    def __init__(self, name): # 생성자\n",
    "        self.name = name\n",
    "        print(\"생성\")\n",
    "    def __del__(self): # 소멸자\n",
    "        print(\"파괴\")\n",
    "        \n",
    "\n",
    "        \n",
    "Test('a')"
   ]
  },
  {
   "cell_type": "code",
   "execution_count": 44,
   "id": "bddb7104",
   "metadata": {},
   "outputs": [
    {
     "name": "stdout",
     "output_type": "stream",
     "text": [
      "생성\n",
      "파괴\n",
      "생성\n",
      "파괴\n"
     ]
    }
   ],
   "source": [
    "a = Test('a')\n",
    "b = Test('b')"
   ]
  },
  {
   "cell_type": "code",
   "execution_count": 45,
   "id": "fb3d8a41",
   "metadata": {},
   "outputs": [
    {
     "name": "stdout",
     "output_type": "stream",
     "text": [
      "파괴\n"
     ]
    }
   ],
   "source": [
    "del a"
   ]
  },
  {
   "cell_type": "code",
   "execution_count": 84,
   "id": "6407ebb7",
   "metadata": {},
   "outputs": [
    {
     "name": "stdout",
     "output_type": "stream",
     "text": [
      "90\n"
     ]
    }
   ],
   "source": [
    "# 프라이빗 변수와 게터/ 세터\n",
    "# 프라이빗 변수 : 외부에서 클래스 인스턴스의 값을 수정하지 못하도록 함\n",
    "class Test:\n",
    "    def __init__(self, score):\n",
    "        self.__score = score  # private 변수 선언\n",
    "                              \n",
    "    def get_score(self):\n",
    "        return self.__score\n",
    "    \n",
    "    def set_score(self, value):\n",
    "        \n",
    "        self.__score = value\n",
    "        \n",
    "a = Test(90)\n",
    "print(a.get_score())"
   ]
  },
  {
   "cell_type": "code",
   "execution_count": 87,
   "id": "c90d4c77",
   "metadata": {},
   "outputs": [
    {
     "data": {
      "text/plain": [
       "100"
      ]
     },
     "execution_count": 87,
     "metadata": {},
     "output_type": "execute_result"
    }
   ],
   "source": [
    "a.set_score(100)\n",
    "a.get_score()"
   ]
  },
  {
   "cell_type": "code",
   "execution_count": 93,
   "id": "9c4b5e9f",
   "metadata": {},
   "outputs": [
    {
     "name": "stdout",
     "output_type": "stream",
     "text": [
      "100\n",
      "90\n"
     ]
    }
   ],
   "source": [
    "# @property, setter 함수를 활용 프라이빗 변수 적용\n",
    "\n",
    "class Test:\n",
    "    def __init__(self, score):\n",
    "        self.__score = score  # private 변수 선언, 외부에서 접근 불가\n",
    "                              # 내부 함수에서만 접근 가능\n",
    "    \n",
    "    @property    # getter 함수 정의\n",
    "    def score(self):\n",
    "        return self.__score\n",
    "    \n",
    "    @score.setter # setter 함수 정의\n",
    "    def score(self, value):\n",
    "        self.__score = value\n",
    "\n",
    "a = Test(100)\n",
    "print(a.score)\n",
    "a.score = 90\n",
    "print(a.score)"
   ]
  },
  {
   "cell_type": "code",
   "execution_count": null,
   "id": "27fa2254",
   "metadata": {},
   "outputs": [],
   "source": []
  },
  {
   "cell_type": "code",
   "execution_count": null,
   "id": "2b18956b",
   "metadata": {},
   "outputs": [],
   "source": []
  },
  {
   "cell_type": "code",
   "execution_count": null,
   "id": "9e6371a8",
   "metadata": {},
   "outputs": [],
   "source": []
  },
  {
   "cell_type": "code",
   "execution_count": null,
   "id": "2d6f4d38",
   "metadata": {},
   "outputs": [],
   "source": []
  },
  {
   "cell_type": "code",
   "execution_count": null,
   "id": "a2543af7",
   "metadata": {},
   "outputs": [],
   "source": []
  },
  {
   "cell_type": "code",
   "execution_count": null,
   "id": "9fe79716",
   "metadata": {},
   "outputs": [],
   "source": []
  },
  {
   "cell_type": "code",
   "execution_count": null,
   "id": "a1eaceeb",
   "metadata": {},
   "outputs": [],
   "source": []
  },
  {
   "cell_type": "code",
   "execution_count": null,
   "id": "91f13f4d",
   "metadata": {},
   "outputs": [],
   "source": []
  },
  {
   "cell_type": "code",
   "execution_count": null,
   "id": "3c6718d2",
   "metadata": {},
   "outputs": [],
   "source": []
  },
  {
   "cell_type": "code",
   "execution_count": null,
   "id": "4b964656",
   "metadata": {},
   "outputs": [],
   "source": []
  },
  {
   "cell_type": "code",
   "execution_count": null,
   "id": "3583d94c",
   "metadata": {},
   "outputs": [],
   "source": []
  }
 ],
 "metadata": {
  "kernelspec": {
   "display_name": "Python 3 (ipykernel)",
   "language": "python",
   "name": "python3"
  },
  "language_info": {
   "codemirror_mode": {
    "name": "ipython",
    "version": 3
   },
   "file_extension": ".py",
   "mimetype": "text/x-python",
   "name": "python",
   "nbconvert_exporter": "python",
   "pygments_lexer": "ipython3",
   "version": "3.9.12"
  }
 },
 "nbformat": 4,
 "nbformat_minor": 5
}
