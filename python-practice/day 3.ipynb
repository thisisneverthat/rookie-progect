{
 "cells": [
  {
   "cell_type": "markdown",
   "id": "88d7da9c",
   "metadata": {},
   "source": [
    "## chapter. 02 딕셔너리와 반복문"
   ]
  },
  {
   "cell_type": "code",
   "execution_count": null,
   "id": "955bd948",
   "metadata": {},
   "outputs": [],
   "source": [
    "# 딕셔너리 선언 : {키:값, ...}  /// 리스트 : [값,...]\n",
    "\n",
    "dict_a = {'name':'홍길동', 'age' : 30}\n",
    "\n",
    "print(dict_a)\n",
    "print(type(dict_a))\n"
   ]
  },
  {
   "cell_type": "code",
   "execution_count": null,
   "id": "31882e17",
   "metadata": {},
   "outputs": [],
   "source": [
    "name = '키'"
   ]
  },
  {
   "cell_type": "code",
   "execution_count": null,
   "id": "f6852ff3",
   "metadata": {},
   "outputs": [],
   "source": [
    "dict_b = {name:10}"
   ]
  },
  {
   "cell_type": "code",
   "execution_count": null,
   "id": "37584004",
   "metadata": {},
   "outputs": [],
   "source": [
    "dict_b"
   ]
  },
  {
   "cell_type": "code",
   "execution_count": null,
   "id": "aa6800d2",
   "metadata": {},
   "outputs": [],
   "source": [
    "# 딕셔너리에 값 추가 / 제거하기 : 딕셔너리[키] = 값\n",
    "# 삭제는 del 딕셔너리[키]\n",
    "dict_a['title']=' 딕셔너리 '\n",
    "dict_a"
   ]
  },
  {
   "cell_type": "code",
   "execution_count": null,
   "id": "a5fb1acf",
   "metadata": {},
   "outputs": [],
   "source": [
    "del dict_a['name']\n",
    "dict_a"
   ]
  },
  {
   "cell_type": "code",
   "execution_count": null,
   "id": "b4501846",
   "metadata": {},
   "outputs": [],
   "source": [
    "# list_a = []\n",
    "# list_a.append()\n",
    "\n",
    "#dict_c = {}\n",
    "#dict_c['키'] = 값"
   ]
  },
  {
   "cell_type": "code",
   "execution_count": 48,
   "id": "8d224899",
   "metadata": {},
   "outputs": [
    {
     "name": "stdout",
     "output_type": "stream",
     "text": [
      "이름 입력 :1\n",
      "점수 입력 :1\n",
      "이름 입력 :a\n",
      "점수 입력 :1\n",
      "이름 입력 :b\n",
      "점수 입력 :2\n",
      "이름 입력 :c\n",
      "점수 입력 :3\n",
      "이름 입력 :d\n",
      "점수 입력 :4\n",
      "이름 입력 :e\n",
      "점수 입력 :5\n",
      "이름 입력 :f\n",
      "점수 입력 :6\n",
      "이름 입력 :g\n",
      "점수 입력 :7\n",
      "이름 입력 :h\n",
      "점수 입력 :8\n",
      "이름 입력 :i\n",
      "점수 입력 :9\n",
      "이름 입력 :j\n",
      "점수 입력 :10\n",
      "이름 입력 :h\n",
      "점수 입력 :11\n",
      "이름 입력 :\n",
      "점수 입력 :10\n",
      "이름 입력 :q\n",
      "입력 종료\n",
      "{'1': 1, 'a': 1, 'b': 2, 'c': 3, 'd': 4, 'e': 5, 'f': 6, 'g': 7, 'h': 11, 'i': 9, 'j': 10, '': 10}\n"
     ]
    }
   ],
   "source": [
    "# 키보드에서 이름과 성적을 입력받아 이름을 키로\n",
    "# 성적을 값으로 딕셔너리에 저장\n",
    "#이름에 'q'가 입력되면 입력 종류\n",
    "#저장된 자료를 출력\n",
    "\n",
    "score_dict = {}\n",
    "while True:\n",
    "    name = input(\"이름 입력 :\")\n",
    "    if name == 'q':\n",
    "        print(\"입력 종료\")\n",
    "        break\n",
    "    score  = int(input(\"점수 입력 :\"))\n",
    "    score_dict[name] = score\n",
    "    \n",
    "print(score_dict)\n",
    "\n"
   ]
  },
  {
   "cell_type": "code",
   "execution_count": 25,
   "id": "f971c39a",
   "metadata": {},
   "outputs": [
    {
     "name": "stdout",
     "output_type": "stream",
     "text": [
      "[[1, 4, 7], [2, 5, 8], [3, 6, 9]]\n"
     ]
    }
   ],
   "source": [
    "# 키가 존재하는지 확인 : key in 딕셔너리 -> 딕셔너리의 키에\n",
    "#key가 있는지 확인\n",
    "\n",
    "print('a' in score_dict)\n",
    "print('name' in score_dict)"
   ]
  },
  {
   "cell_type": "code",
   "execution_count": null,
   "id": "a018198a",
   "metadata": {},
   "outputs": [],
   "source": [
    "# 검색하고자 하는 이름을 입력 받아 입력된 자료에 존재하면\n",
    "# 이름과 성적 출력\n",
    "# 존재하지 않으면 '존재하지 않는 이름'이라고 출력"
   ]
  },
  {
   "cell_type": "code",
   "execution_count": 52,
   "id": "76eee0d5",
   "metadata": {},
   "outputs": [
    {
     "name": "stdout",
     "output_type": "stream",
     "text": [
      "이름을 입력하세요.: b\n",
      "b의 성적은 2입니다.\n"
     ]
    }
   ],
   "source": [
    "input_name = input(\"이름을 입력하세요.: \")\n",
    "if input_name in score_dict:\n",
    "    print(\"{}의 성적은 {}입니다.\".format(input_name, score_dict[input_name]))\n",
    "else:\n",
    "    print(\"존재하지 않는 이름입니다.\")"
   ]
  },
  {
   "cell_type": "code",
   "execution_count": 57,
   "id": "7d9c3871",
   "metadata": {},
   "outputs": [
    {
     "name": "stdout",
     "output_type": "stream",
     "text": [
      "검색할 이름 : asdf\n",
      "asdf의 자료는 없습니다.\n"
     ]
    }
   ],
   "source": [
    "# 키의 값이 있는지 확인하는 함수 : 딕셔너리.get(키) -> 값을 반환\n",
    "search_name = input(\"검색할 이름 : \")\n",
    "value = score_dict.get(serch_name)\n",
    "if value:\n",
    "    print(\"{}의 성적은 {}입니다.\".format(serach_name, value))\n",
    "else:\n",
    "    print(\"{}의 자료는 없습니다.\".format(search_name))"
   ]
  },
  {
   "cell_type": "code",
   "execution_count": 58,
   "id": "cb6cd84b",
   "metadata": {},
   "outputs": [
    {
     "name": "stdout",
     "output_type": "stream",
     "text": [
      "1 : 1\n",
      "a : 1\n",
      "b : 2\n",
      "c : 3\n",
      "d : 4\n",
      "e : 5\n",
      "f : 6\n",
      "g : 7\n",
      "h : 11\n",
      "i : 9\n",
      "j : 10\n",
      " : 10\n"
     ]
    }
   ],
   "source": [
    "# for 반복문과 같이 사용 : fore key in dict:\n",
    "# for 문을 사용하여 딕셔너리의 자료 출력\n",
    "for key in score_dict:\n",
    "    print(f\"{key} : {score_dict[key]}\")"
   ]
  },
  {
   "cell_type": "code",
   "execution_count": null,
   "id": "b449f91f",
   "metadata": {},
   "outputs": [],
   "source": [
    "#딕셔너리의 키와 값을 동시에 가져오는 함수 : 딕셔너리.items()\n",
    "for key, value in score_dict.items():\n",
    "    print(f\"{key} : {value}\")\n",
    "score_dict.keys()\n",
    "score_dict.values()"
   ]
  },
  {
   "cell_type": "code",
   "execution_count": 66,
   "id": "ef651ab3",
   "metadata": {},
   "outputs": [
    {
     "name": "stdout",
     "output_type": "stream",
     "text": [
      "학생의 이름을 입력하세요 :간나새기\n",
      "간나새기의 국어 성적을 입력하세요.100\n",
      "간나새기의 영어 성적을 입력하세요.2\n",
      "간나새기의 수학 성적을 입력하세요.95\n",
      "학생의 이름을 입력하세요 :괴뢰군\n",
      "괴뢰군의 국어 성적을 입력하세요.100\n",
      "괴뢰군의 영어 성적을 입력하세요.1\n",
      "괴뢰군의 수학 성적을 입력하세요.98\n",
      "학생의 이름을 입력하세요 :김정은\n",
      "김정은의 국어 성적을 입력하세요.7\n",
      "김정은의 영어 성적을 입력하세요.0\n",
      "김정은의 수학 성적을 입력하세요.3\n",
      "학생의 이름을 입력하세요 :q\n",
      "입력 종료\n"
     ]
    }
   ],
   "source": [
    "# 이름과 국어, 영어, 수학 성적을 입력 받아 딕셔너리에 저장\n",
    "# students -> 국,영,수 성적 , 이름을 키로\n",
    "# 학생별로 성적의 총합, 평균을 출력\n",
    "# 전체 학생의 인원수, 과목별 평균\n",
    "\n",
    "students = {}\n",
    "\n",
    "while True:\n",
    "    input_name = input(\"학생의 이름을 입력하세요 :\")\n",
    "    if input_name == 'q':\n",
    "        print(\"입력 종료\")\n",
    "        break\n",
    "    \n",
    "    input_g = input(\"{}의 국어 성적을 입력하세요.\".format(input_name))\n",
    "    input_e = input(\"{}의 영어 성적을 입력하세요.\".format(input_name))\n",
    "    input_s = input(\"{}의 수학 성적을 입력하세요.\".format(input_name))\n",
    "    # ----------------- input의 내용은 학생의 이름 입력 -----------------\n",
    "    "
   ]
  },
  {
   "cell_type": "code",
   "execution_count": 81,
   "id": "4d8a48b9",
   "metadata": {},
   "outputs": [
    {
     "data": {
      "text/plain": [
       "[3, 6, 9]"
      ]
     },
     "execution_count": 81,
     "metadata": {},
     "output_type": "execute_result"
    }
   ],
   "source": [
    "a = range(5)\n",
    "\n",
    "a\n",
    "\n",
    "list(range(0,10,2))\n",
    "\n",
    "list(range(3,10,3))"
   ]
  },
  {
   "cell_type": "code",
   "execution_count": 86,
   "id": "e485c942",
   "metadata": {},
   "outputs": [
    {
     "name": "stdout",
     "output_type": "stream",
     "text": [
      "2 * 1 = 2\n",
      "2 * 2 = 4\n",
      "2 * 3 = 6\n",
      "2 * 4 = 8\n",
      "2 * 5 = 10\n",
      "2 * 6 = 12\n",
      "2 * 7 = 14\n",
      "2 * 8 = 16\n",
      "2 * 9 = 18\n",
      "\n",
      "3 * 1 = 3\n",
      "3 * 2 = 6\n",
      "3 * 3 = 9\n",
      "3 * 4 = 12\n",
      "3 * 5 = 15\n",
      "3 * 6 = 18\n",
      "3 * 7 = 21\n",
      "3 * 8 = 24\n",
      "3 * 9 = 27\n",
      "\n",
      "4 * 1 = 4\n",
      "4 * 2 = 8\n",
      "4 * 3 = 12\n",
      "4 * 4 = 16\n",
      "4 * 5 = 20\n",
      "4 * 6 = 24\n",
      "4 * 7 = 28\n",
      "4 * 8 = 32\n",
      "4 * 9 = 36\n",
      "\n",
      "5 * 1 = 5\n",
      "5 * 2 = 10\n",
      "5 * 3 = 15\n",
      "5 * 4 = 20\n",
      "5 * 5 = 25\n",
      "5 * 6 = 30\n",
      "5 * 7 = 35\n",
      "5 * 8 = 40\n",
      "5 * 9 = 45\n",
      "\n",
      "6 * 1 = 6\n",
      "6 * 2 = 12\n",
      "6 * 3 = 18\n",
      "6 * 4 = 24\n",
      "6 * 5 = 30\n",
      "6 * 6 = 36\n",
      "6 * 7 = 42\n",
      "6 * 8 = 48\n",
      "6 * 9 = 54\n",
      "\n",
      "7 * 1 = 7\n",
      "7 * 2 = 14\n",
      "7 * 3 = 21\n",
      "7 * 4 = 28\n",
      "7 * 5 = 35\n",
      "7 * 6 = 42\n",
      "7 * 7 = 49\n",
      "7 * 8 = 56\n",
      "7 * 9 = 63\n",
      "\n",
      "8 * 1 = 8\n",
      "8 * 2 = 16\n",
      "8 * 3 = 24\n",
      "8 * 4 = 32\n",
      "8 * 5 = 40\n",
      "8 * 6 = 48\n",
      "8 * 7 = 56\n",
      "8 * 8 = 64\n",
      "8 * 9 = 72\n",
      "\n",
      "9 * 1 = 9\n",
      "9 * 2 = 18\n",
      "9 * 3 = 27\n",
      "9 * 4 = 36\n",
      "9 * 5 = 45\n",
      "9 * 6 = 54\n",
      "9 * 7 = 63\n",
      "9 * 8 = 72\n",
      "9 * 9 = 81\n",
      "\n"
     ]
    }
   ],
   "source": [
    "# 구구단 range()\n",
    "\n",
    "x = 2\n",
    "y = 1\n",
    "for x in range(2,10):\n",
    "    for y in range(1,10):\n",
    "        print(x,'*',y,\"=\", x*y)\n",
    "        if y == 9:\n",
    "            print()\n",
    "        "
   ]
  },
  {
   "cell_type": "code",
   "execution_count": 102,
   "id": "2cc4edf0",
   "metadata": {},
   "outputs": [
    {
     "name": "stdout",
     "output_type": "stream",
     "text": [
      "0\t5\t10\t15\t20\n",
      "25\t30\t35\t40\t45\n",
      "50\t55\t60\t65\t70\n",
      "75\t80\t85\t90\t95\n",
      "100\t[0, 5, 10, 15, 20, 25, 30, 35, 40, 45, 50, 55, 60, 65, 70, 75, 80, 85, 90, 95, 100]\n"
     ]
    }
   ],
   "source": [
    "# 0 부터 100까지의 수 중 5의 배수만 출력\n",
    "line_cnt = 0\n",
    "for i in range(0,101,5):\n",
    "    line_cnt += 1\n",
    "    if line_cnt %5 == 0:\n",
    "        print(i)\n",
    "    else:\n",
    "        print(i,end='\\t')\n",
    "        \n",
    "        \n",
    "print(list(range(0, 101, 5)))"
   ]
  },
  {
   "cell_type": "code",
   "execution_count": 103,
   "id": "d7f21827",
   "metadata": {},
   "outputs": [],
   "source": [
    "# 1.키보드에서 이름을 입력받아 'q'가 입력되면 입력 종료\n",
    "#  종료가 되지 않으면 국어 영어 점수를 입력받아 저장\n",
    "#  입력 받은 점수의 갯수가 2가 아니거나 숫자가 아니며 다시 입력\n",
    "# 2.입력 종료 후 검색하고자 하는 이름을 입력 받아\n",
    "#  검색 된 이름의 성적과  총점, 평균 출력\n",
    "#  3.총 입력된 학생의 인원수 출력\n",
    "#  4.전체 학생의 성적의 합게를 기존의 자료에 추가\n",
    "#  5.을 받은 학생의 정보 출력\n"
   ]
  },
  {
   "cell_type": "code",
   "execution_count": 121,
   "id": "0da1dd8e",
   "metadata": {},
   "outputs": [
    {
     "name": "stdout",
     "output_type": "stream",
     "text": [
      "이름 입력: a\n",
      "국어 영어 수학 점수 입력. 95 77 98\n",
      "이름 입력: b\n",
      "국어 영어 수학 점수 입력. 77 98 60\n",
      "이름 입력: c\n",
      "국어 영어 수학 점수 입력. 96 97 96\n",
      "이름 입력: q\n",
      "입력 종료\n"
     ]
    },
    {
     "data": {
      "text/plain": [
       "{'a': [95, 77, 98], 'b': [77, 98, 60], 'c': [96, 97, 96]}"
      ]
     },
     "execution_count": 121,
     "metadata": {},
     "output_type": "execute_result"
    }
   ],
   "source": [
    "student = {}\n",
    "while True:\n",
    "    name = input('이름 입력: ')  #name = '이름입력'\n",
    "    if name == 'q':\n",
    "        print('입력 종료')\n",
    "        break\n",
    "    scores = input(\"국어 영어 수학 점수 입력. \").split() #scores = '국어 영어 수학 점수 입력'\n",
    "    if len(scores) !=3 :\n",
    "        continue\n",
    "    score_list = [] # score_list = '[]'\n",
    "    for score in scores:\n",
    "        score_list.append(int(score)) #score_list = '[]', score => scores = '국어 영어 수학 점수 입력'\n",
    "    student[name] = score_list # = {name[score, score, score]}\n",
    "student"
   ]
  },
  {
   "cell_type": "code",
   "execution_count": 139,
   "id": "8b005f1d",
   "metadata": {},
   "outputs": [
    {
     "name": "stdout",
     "output_type": "stream",
     "text": [
      "이름 입력 : 개쌔끼\n",
      "국어 영어 점수 입력: 12 12\n",
      "이름 입력 : q\n",
      "입력 종료\n"
     ]
    },
    {
     "data": {
      "text/plain": [
       "{'개쌔끼': [1, 2]}"
      ]
     },
     "execution_count": 139,
     "metadata": {},
     "output_type": "execute_result"
    }
   ],
   "source": [
    "student = {}\n",
    "while True:\n",
    "    name = input(\"이름 입력 : \") #name = '이름입력'\n",
    "    if name == 'q':\n",
    "        print(\"입력 종료\")\n",
    "        break\n",
    "    \n",
    "    scores = input(\"국어 영어 점수 입력: \") # scores = '국어 영어 점수 입력'\n",
    "    score_list = [] # = []\n",
    "    for score in scores:# 변수 in '국어 영어 점수 입력'\n",
    "        if score.isnumeric(): #'국,영,수 점수입력.입력한 자료가 정수인지 확인'\n",
    "            score_list.append(int(score)) # []안에 score 삽입, (국,영 점수 입력)\n",
    "        else:\n",
    "            break\n",
    "    if len(score_list) != 2 : # 국어,영어의 길이를 확인하고 2와 같지 않다면,\n",
    "        continue\n",
    "        \n",
    "    student[name] = score_list #{name[이름입력]} = []\n",
    "    \n",
    "student"
   ]
  },
  {
   "cell_type": "code",
   "execution_count": 131,
   "id": "66976ddb",
   "metadata": {},
   "outputs": [
    {
     "ename": "TypeError",
     "evalue": "'list' object is not callable",
     "output_type": "error",
     "traceback": [
      "\u001b[1;31m---------------------------------------------------------------------------\u001b[0m",
      "\u001b[1;31mTypeError\u001b[0m                                 Traceback (most recent call last)",
      "Input \u001b[1;32mIn [131]\u001b[0m, in \u001b[0;36m<cell line: 2>\u001b[1;34m()\u001b[0m\n\u001b[0;32m      1\u001b[0m a \u001b[38;5;241m=\u001b[39m [\u001b[38;5;241m1\u001b[39m,\u001b[38;5;241m2\u001b[39m,\u001b[38;5;241m3\u001b[39m,\u001b[38;5;241m4\u001b[39m]\n\u001b[1;32m----> 2\u001b[0m \u001b[38;5;28;43msum\u001b[39;49m\u001b[43m(\u001b[49m\u001b[43ma\u001b[49m\u001b[43m)\u001b[49m\n",
      "\u001b[1;31mTypeError\u001b[0m: 'list' object is not callable"
     ]
    }
   ],
   "source": [
    "a = [1,2,3,4]\n",
    "sum(a)\n"
   ]
  },
  {
   "cell_type": "code",
   "execution_count": 141,
   "id": "8aabe4c8",
   "metadata": {},
   "outputs": [
    {
     "name": "stdout",
     "output_type": "stream",
     "text": [
      "이름: 개쌔끼\n",
      "개쌔끼 : 1\t2\t"
     ]
    },
    {
     "ename": "TypeError",
     "evalue": "'list' object is not callable",
     "output_type": "error",
     "traceback": [
      "\u001b[1;31m---------------------------------------------------------------------------\u001b[0m",
      "\u001b[1;31mTypeError\u001b[0m                                 Traceback (most recent call last)",
      "Input \u001b[1;32mIn [141]\u001b[0m, in \u001b[0;36m<cell line: 2>\u001b[1;34m()\u001b[0m\n\u001b[0;32m      4\u001b[0m     \u001b[38;5;28;01mfor\u001b[39;00m score \u001b[38;5;129;01min\u001b[39;00m student[search]:\n\u001b[0;32m      5\u001b[0m         \u001b[38;5;28mprint\u001b[39m(\u001b[38;5;124mf\u001b[39m\u001b[38;5;124m'\u001b[39m\u001b[38;5;132;01m{\u001b[39;00mscore\u001b[38;5;132;01m}\u001b[39;00m\u001b[38;5;124m'\u001b[39m, end\u001b[38;5;241m=\u001b[39m\u001b[38;5;124m'\u001b[39m\u001b[38;5;130;01m\\t\u001b[39;00m\u001b[38;5;124m'\u001b[39m)\n\u001b[1;32m----> 6\u001b[0m     \u001b[38;5;28mprint\u001b[39m(\u001b[38;5;124m\"\u001b[39m\u001b[38;5;124m총점 : \u001b[39m\u001b[38;5;132;01m{}\u001b[39;00m\u001b[38;5;124m, 평균 : \u001b[39m\u001b[38;5;132;01m{:3.2f}\u001b[39;00m\u001b[38;5;124m\"\u001b[39m\u001b[38;5;241m.\u001b[39mformat(\u001b[38;5;28;43msum\u001b[39;49m\u001b[43m(\u001b[49m\u001b[43mstudent\u001b[49m\u001b[43m[\u001b[49m\u001b[43msearch\u001b[49m\u001b[43m]\u001b[49m\u001b[43m)\u001b[49m,\n\u001b[0;32m      7\u001b[0m                                         \u001b[38;5;28msum\u001b[39m(studentt[search])\u001b[38;5;241m/\u001b[39m\u001b[38;5;241m3\u001b[39m))\n\u001b[0;32m      8\u001b[0m \u001b[38;5;28;01melse\u001b[39;00m:\n\u001b[0;32m      9\u001b[0m     \u001b[38;5;28mprint\u001b[39m(\u001b[38;5;124m\"\u001b[39m\u001b[38;5;124m자료 없음\u001b[39m\u001b[38;5;124m\"\u001b[39m)\n",
      "\u001b[1;31mTypeError\u001b[0m: 'list' object is not callable"
     ]
    }
   ],
   "source": [
    "search = input(\"이름: \")\n",
    "if search in student: #\n",
    "    print(f'{search} ',end=': ')\n",
    "    for score in student[search]:\n",
    "        print(f'{score}', end='\\t')\n",
    "    print(\"총점 : {}, 평균 : {:3.2f}\".format(sum(student[search]),\n",
    "                                        sum(studentt[search])/3))\n",
    "else:\n",
    "    print(\"자료 없음\")\n",
    "print()"
   ]
  },
  {
   "cell_type": "code",
   "execution_count": 164,
   "id": "1f276b09",
   "metadata": {},
   "outputs": [],
   "source": [
    "list_news = '''세종시장직 인수위원회가 운영 실적이 저조하거나 여건 변화에 따라 필요성이 없어진 각종 위원회를 통폐합한다고 밝혔습니다.\n",
    "\n",
    "인수위 재정예산TF의 세종시 각종 위원회 설치 근거와 구성, 운영 실적 등에 대한 전수 조사 결과 현재 운영 중인 위원회는 243개, 위원 수는 4,875명으로 지난해 지급된 수당만 13억여원으로 나타났습니다.\n",
    "\n",
    "인수위는 지난 1년간 회의를 한 차례도 개최하지 않거나 운영 실적이 저조한 \"식물위원회\"가 다수라면서 조례와 법령 개정을 통해 일괄 정비할 계획입니다\n",
    "\n",
    "또한, 세종시 지방보조금 사업에 대한 현황도 조사해 내역을 투명하게 공개하겠다고 말했습니다.\n",
    "\n",
    "지난해 기준 대전광역시 위원회 224개, 위원수 3,178명과 충남도 211개 위원회, 3,242명입니다.'''\n"
   ]
  },
  {
   "cell_type": "code",
   "execution_count": 165,
   "id": "34f337e2",
   "metadata": {},
   "outputs": [],
   "source": [
    "list_news = list(list_news)\n",
    "value = '\\n'\n",
    "while value in list_news:\n",
    "        list_news.remove(value)\n",
    "        \n",
    "list_news = str(list_news)"
   ]
  },
  {
   "cell_type": "code",
   "execution_count": null,
   "id": "9b9aa832",
   "metadata": {},
   "outputs": [],
   "source": [
    "# python의 데이터 타입 : 문자, 숫자, 불리언\n",
    "\n",
    "# 자료의 집합 : list -> [,.....], dictionary -> {키:값,.....}\n",
    "\n",
    "#list[위치 인덱스], dict[키]\n",
    "\n",
    "#자료 추가 : list.append(요소), dict[키] = 값\n",
    "\n",
    "#자료 수정 : list[위치인덱스] = 값 , dict[키] = 값 (있으면 수정 없으면 추가)\n",
    "\n",
    "#자료 삭제 : list.pop(), list.remove(값), del list[위치 인덱스]\n",
    "#       del dict[키]\n",
    "\n",
    "#반복문(for)과 같이 사용\n",
    "# for value in list: -> 리스트에 각 요소가 value로 저장\n",
    "# for key in dict: -> 딕셔너리에 각 요소가 key 로 저장\n",
    "\n",
    "#for idx, value in enumerate(리스트) -> 위치(idx)와 값(value)이 저장\n",
    "#for key, value in dict.items() ->키(key 변수)와 값(value)이 저장\n",
    "\n",
    "# dict.get(키) -> 값이 반환\n",
    "\n",
    "#while True 조건인 경우 실행\n",
    "\n",
    "#반복문 탈출 키워드 : break 반복문 탈출, continue 반복문 조건식으로 이동"
   ]
  },
  {
   "cell_type": "code",
   "execution_count": 167,
   "id": "dbf6c5f4",
   "metadata": {},
   "outputs": [
    {
     "name": "stdout",
     "output_type": "stream",
     "text": [
      "0부터 10까지의 합은 55\n"
     ]
    }
   ],
   "source": [
    "# 반복문에서 누적합 등을 구하고자 할 경우\n",
    "# 초기화는 반복문 시작 전에\n",
    "tot = 0\n",
    "for i in range(11):\n",
    "    tot += i\n",
    "print(\"0부터 10까지의 합은 {}\".format(tot))"
   ]
  },
  {
   "cell_type": "code",
   "execution_count": 170,
   "id": "27977142",
   "metadata": {},
   "outputs": [
    {
     "name": "stdout",
     "output_type": "stream",
     "text": [
      "자료 입력 : q 또는 Q 입력시 종료.Q\n",
      "작업 종료.\n"
     ]
    }
   ],
   "source": [
    "while True:\n",
    "    input_char = input(\"자료 입력 : q 또는 Q 입력시 종료.\")\n",
    "    if input_char in ['q','Q']:\n",
    "        print(\"작업 종료.\")\n",
    "        break\n",
    "    # or if input_char == 'q' or in put_char == 'Q'"
   ]
  },
  {
   "cell_type": "code",
   "execution_count": 176,
   "id": "0fc0b718",
   "metadata": {},
   "outputs": [
    {
     "name": "stdout",
     "output_type": "stream",
     "text": [
      "3초 동안 12116732번 실행\n"
     ]
    }
   ],
   "source": [
    "#타임 모듈과 반복문 사용하기\n",
    "import time\n",
    "\n",
    "cnt = 0\n",
    "t_time = time.time() + 3\n",
    "while time.time() < t_time:\n",
    "    cnt +=1\n",
    "print(\"3초 동안 {}번 실행\".format(cnt))"
   ]
  },
  {
   "cell_type": "markdown",
   "id": "3000385b",
   "metadata": {},
   "source": [
    "## chap4.4 문자열 리스트, 딕셔너리와 관련된 기본함수"
   ]
  },
  {
   "cell_type": "code",
   "execution_count": 180,
   "id": "5ab811f6",
   "metadata": {},
   "outputs": [
    {
     "name": "stdout",
     "output_type": "stream",
     "text": [
      "10\n",
      "40\n"
     ]
    },
    {
     "ename": "TypeError",
     "evalue": "'list' object is not callable",
     "output_type": "error",
     "traceback": [
      "\u001b[1;31m---------------------------------------------------------------------------\u001b[0m",
      "\u001b[1;31mTypeError\u001b[0m                                 Traceback (most recent call last)",
      "Input \u001b[1;32mIn [180]\u001b[0m, in \u001b[0;36m<cell line: 5>\u001b[1;34m()\u001b[0m\n\u001b[0;32m      3\u001b[0m \u001b[38;5;28mprint\u001b[39m(\u001b[38;5;28mmin\u001b[39m(list_a))\n\u001b[0;32m      4\u001b[0m \u001b[38;5;28mprint\u001b[39m(\u001b[38;5;28mmax\u001b[39m(list_a))\n\u001b[1;32m----> 5\u001b[0m \u001b[38;5;28mprint\u001b[39m(\u001b[38;5;28;43msum\u001b[39;49m\u001b[43m(\u001b[49m\u001b[43mlist_a\u001b[49m\u001b[43m)\u001b[49m)\n",
      "\u001b[1;31mTypeError\u001b[0m: 'list' object is not callable"
     ]
    }
   ],
   "source": [
    "# min(), max(), sum()\n",
    "list_a = [10,30,40]\n",
    "print(min(list_a))\n",
    "print(max(list_a))\n",
    "print(sum(list_a))"
   ]
  },
  {
   "cell_type": "code",
   "execution_count": 185,
   "id": "1001a5c5",
   "metadata": {},
   "outputs": [
    {
     "name": "stdout",
     "output_type": "stream",
     "text": [
      "asdf\n",
      "test\n"
     ]
    },
    {
     "ename": "TypeError",
     "evalue": "'list' object is not callable",
     "output_type": "error",
     "traceback": [
      "\u001b[1;31m---------------------------------------------------------------------------\u001b[0m",
      "\u001b[1;31mTypeError\u001b[0m                                 Traceback (most recent call last)",
      "Input \u001b[1;32mIn [185]\u001b[0m, in \u001b[0;36m<cell line: 4>\u001b[1;34m()\u001b[0m\n\u001b[0;32m      2\u001b[0m \u001b[38;5;28mprint\u001b[39m(\u001b[38;5;28mmin\u001b[39m(list_str))\n\u001b[0;32m      3\u001b[0m \u001b[38;5;28mprint\u001b[39m(\u001b[38;5;28mmax\u001b[39m(list_str))\n\u001b[1;32m----> 4\u001b[0m \u001b[38;5;28mprint\u001b[39m(\u001b[38;5;28;43msum\u001b[39;49m\u001b[43m(\u001b[49m\u001b[43mlist_str\u001b[49m\u001b[43m)\u001b[49m)\n",
      "\u001b[1;31mTypeError\u001b[0m: 'list' object is not callable"
     ]
    }
   ],
   "source": [
    "list_str = ['asdf', 'test', 'overall']\n",
    "print(min(list_str))\n",
    "print(max(list_str))\n",
    "print(sum(list_str))"
   ]
  },
  {
   "cell_type": "code",
   "execution_count": 187,
   "id": "4ba30f33",
   "metadata": {},
   "outputs": [
    {
     "name": "stdout",
     "output_type": "stream",
     "text": [
      "[0, 4, 16, 36, 64, 100, 144, 196, 256, 324]\n"
     ]
    },
    {
     "data": {
      "text/plain": [
       "[0, 4, 16, 36, 64, 100, 144, 196, 256, 324]"
      ]
     },
     "execution_count": 187,
     "metadata": {},
     "output_type": "execute_result"
    }
   ],
   "source": [
    "# 반복문을 사용한 리스트 생성\n",
    "array = []\n",
    "# 반복문을 사용하여 리스트 데이터 추가\n",
    "for i in range(0,20,2):\n",
    "    array.append(i*i)\n",
    "print(array)\n",
    "\n",
    "# 리스트 내포 : 리스트 선언안에 for 문장 사용\n",
    "# [표현식 for 반복자 in 반복 할 수 있는 자료.]\n",
    "array_1 = [ i*i for i in range(0,20,2) ]\n",
    "array_1"
   ]
  },
  {
   "cell_type": "code",
   "execution_count": 188,
   "id": "c8275f40",
   "metadata": {},
   "outputs": [
    {
     "data": {
      "text/plain": [
       "[0, 4, 16, 36, 64, 100, 144, 196, 256, 324]"
      ]
     },
     "execution_count": 188,
     "metadata": {},
     "output_type": "execute_result"
    }
   ],
   "source": [
    "# 리스트 내포 : 리스트 선언안에 for 문장 사용, 조건식과 같이 사용\n",
    "# [표현식 for 반복자 in 반복 할 수 있는 자료. if 조건문]\n",
    "array_1 = [i*i\\\n",
    "           for i in range(0,20)\\\n",
    "           if i %2 == 0]\n",
    "\n",
    "array_1"
   ]
  },
  {
   "cell_type": "code",
   "execution_count": 195,
   "id": "c27e61c9",
   "metadata": {},
   "outputs": [
    {
     "name": "stdout",
     "output_type": "stream",
     "text": [
      "정수 입력9218842320115440887324328799212058579321199213278213578\n",
      "입력한 문자열은 9218842320115440887324328799212058579321199213278213578입니다.\n",
      "9218842320115440887324328799212058579321199213278213578는 짝수입니다\n"
     ]
    }
   ],
   "source": [
    "# 문장이 길어질 때() 하나의 문장으로 인식하도록 함\n",
    "number = int(input(\"정수 입력\"))\n",
    "if number % 2 == 0:\n",
    "    print((\"입력한 문자열은 {}입니다.\\n\"\n",
    "         \"{}는 짝수입니다\")\n",
    "         .format(number,number))"
   ]
  },
  {
   "cell_type": "code",
   "execution_count": 253,
   "id": "6510e59f",
   "metadata": {},
   "outputs": [
    {
     "name": "stdout",
     "output_type": "stream",
     "text": [
      "['asdf', 'test', 'overall']\n"
     ]
    }
   ],
   "source": [
    "#문자열.split() = space로 분리\n",
    "#리스트를 하나의 문자열로 전환\n",
    "print(list_str)\n",
    "\n",
    "# 리스트를 하나의 문자열로 연결 문자를'-'로 사용하려 함\n",
    "join_str = '::'.join(list_str)"
   ]
  },
  {
   "cell_type": "code",
   "execution_count": 254,
   "id": "9653f0c1",
   "metadata": {},
   "outputs": [
    {
     "data": {
      "text/plain": [
       "['asdf', 'test', 'overall']"
      ]
     },
     "execution_count": 254,
     "metadata": {},
     "output_type": "execute_result"
    }
   ],
   "source": [
    "split_list = join_str.split('::')\n",
    "split_list\n"
   ]
  },
  {
   "cell_type": "code",
   "execution_count": null,
   "id": "934dd96a",
   "metadata": {},
   "outputs": [],
   "source": []
  },
  {
   "cell_type": "code",
   "execution_count": null,
   "id": "59e355cf",
   "metadata": {},
   "outputs": [],
   "source": []
  },
  {
   "cell_type": "code",
   "execution_count": null,
   "id": "2bc32abc",
   "metadata": {},
   "outputs": [],
   "source": []
  },
  {
   "cell_type": "code",
   "execution_count": null,
   "id": "4472499e",
   "metadata": {},
   "outputs": [],
   "source": []
  },
  {
   "cell_type": "code",
   "execution_count": null,
   "id": "e5188b4e",
   "metadata": {},
   "outputs": [],
   "source": []
  },
  {
   "cell_type": "code",
   "execution_count": null,
   "id": "1bbaa944",
   "metadata": {},
   "outputs": [],
   "source": []
  },
  {
   "cell_type": "code",
   "execution_count": 61,
   "id": "f32b5c6b",
   "metadata": {
    "scrolled": true
   },
   "outputs": [
    {
     "name": "stdout",
     "output_type": "stream",
     "text": [
      "1 : 1\n",
      "a : 1\n",
      "b : 2\n",
      "c : 3\n",
      "d : 4\n",
      "e : 5\n",
      "f : 6\n",
      "g : 7\n",
      "h : 11\n",
      "i : 9\n",
      "j : 10\n",
      " : 10\n"
     ]
    },
    {
     "data": {
      "text/plain": [
       "dict_values([1, 1, 2, 3, 4, 5, 6, 7, 11, 9, 10, 10])"
      ]
     },
     "execution_count": 61,
     "metadata": {},
     "output_type": "execute_result"
    }
   ],
   "source": []
  },
  {
   "cell_type": "code",
   "execution_count": 50,
   "id": "03ea15c0",
   "metadata": {},
   "outputs": [
    {
     "name": "stdout",
     "output_type": "stream",
     "text": [
      "[[1, 4, 7], [2, 5, 8], [3, 6, 9]]\n"
     ]
    }
   ],
   "source": [
    "#215p 4번\n",
    "\n",
    "nums = list(range(1,10))\n",
    "\n",
    "output = [[],[],[]]\n",
    "\n",
    "for num in nums:\n",
    "    output[num %3 -1].append(num)\n",
    "print(output)"
   ]
  },
  {
   "cell_type": "code",
   "execution_count": 39,
   "id": "7b79c1ce",
   "metadata": {},
   "outputs": [
    {
     "name": "stdout",
     "output_type": "stream",
     "text": [
      "i = 0, j = 1\n",
      "i = 1, j = 3\n",
      "i = 2, j = 5\n",
      "i = 3, j = 7\n",
      "[1, 4, 3, 16, 5, 36, 7, 64, 9]\n"
     ]
    }
   ],
   "source": [
    "#259p 5번\n",
    "\n",
    "numbers = [1, 2, 3, 4, 5, 6, 7, 8, 9,]\n",
    "\n",
    "for i in range(0, len(numbers) // 2):\n",
    "    j = (i *2 + 1)\n",
    "    print(f\"i = {i}, j = {j}\")\n",
    "    numbers[j] = numbers[j] ** 2\n",
    "print(numbers)"
   ]
  }
 ],
 "metadata": {
  "kernelspec": {
   "display_name": "Python 3 (ipykernel)",
   "language": "python",
   "name": "python3"
  },
  "language_info": {
   "codemirror_mode": {
    "name": "ipython",
    "version": 3
   },
   "file_extension": ".py",
   "mimetype": "text/x-python",
   "name": "python",
   "nbconvert_exporter": "python",
   "pygments_lexer": "ipython3",
   "version": "3.9.12"
  }
 },
 "nbformat": 4,
 "nbformat_minor": 5
}
