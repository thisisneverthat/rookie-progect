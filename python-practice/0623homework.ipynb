{
 "cells": [
  {
   "cell_type": "code",
   "execution_count": null,
   "id": "d883c5fb",
   "metadata": {},
   "outputs": [],
   "source": [
    "print(\"python Programing\")"
   ]
  },
  {
   "cell_type": "code",
   "execution_count": null,
   "id": "52d6595c",
   "metadata": {},
   "outputs": [],
   "source": [
    "import keyword\n",
    "print(keyword.kwlist)"
   ]
  },
  {
   "cell_type": "markdown",
   "id": "1151dca5",
   "metadata": {},
   "source": [
    "### 식별자\n",
    "\n",
    "- 프로그래밍 언어에 이름을 붙힐때 사용 주로, 변수 또는 함수 이름 등\n",
    "\n",
    "규칙\n",
    "1. 키워드 사용x\n",
    "2. 특수문자는 언더 바(_) 만 허용\n",
    "3. 숫자로 시작 x\n",
    "4. 공백 포함x"
   ]
  },
  {
   "cell_type": "code",
   "execution_count": 7,
   "id": "0d39ab0f",
   "metadata": {
    "scrolled": true
   },
   "outputs": [
    {
     "name": "stdout",
     "output_type": "stream",
     "text": [
      "<class 'str'>\n",
      "<class 'int'>\n"
     ]
    }
   ],
   "source": [
    "print(type(\"안녕하세요\"))   # 문자열은 'str' 숫자는 'int'\n",
    "print(type(623))"
   ]
  },
  {
   "cell_type": "code",
   "execution_count": 8,
   "id": "7c8a74b2",
   "metadata": {},
   "outputs": [
    {
     "name": "stdout",
     "output_type": "stream",
     "text": [
      "이름\t나이\t지역\n",
      "ABC\t25\t경기\n",
      "DEF\t25\t서울\n"
     ]
    }
   ],
   "source": [
    "print(\"이름\\t나이\\t지역\")\n",
    "print(\"ABC\\t25\\t경기\")\n",
    "print(\"DEF\\t25\\t서울\")"
   ]
  },
  {
   "cell_type": "code",
   "execution_count": 19,
   "id": "9893bd4d",
   "metadata": {},
   "outputs": [
    {
     "name": "stdout",
     "output_type": "stream",
     "text": [
      "11.0\n"
     ]
    }
   ],
   "source": [
    "사랑 = 2  # 변수 만들기\n",
    "\n",
    "아파트 = 3 # 변수 만들기\n",
    "\n",
    "print(사랑 + 아파트 * 사랑 * 아파트 / 사랑) # 변수를 사용하여 연산"
   ]
  },
  {
   "cell_type": "code",
   "execution_count": 32,
   "id": "de48a87d",
   "metadata": {},
   "outputs": [
    {
     "name": "stdout",
     "output_type": "stream",
     "text": [
      "인사말을 입력해주세요. 안녕하세요.\n",
      "안녕하세요.\n",
      "숫자를 입력해주세요. 623\n",
      "623\n"
     ]
    }
   ],
   "source": [
    "input_a = input(\"인사말을 입력해주세요. \")\n",
    "print(input_a)\n",
    "input_b = input(\"숫자를 입력해주세요. \")\n",
    "print(input_b)"
   ]
  },
  {
   "cell_type": "code",
   "execution_count": 35,
   "id": "6c7779b6",
   "metadata": {},
   "outputs": [
    {
     "name": "stdout",
     "output_type": "stream",
     "text": [
      "<class 'str'>\n",
      "<class 'str'>\n"
     ]
    }
   ],
   "source": [
    "print(type(input_a))\n",
    "\n",
    "print(type(input_b)) \n",
    "\n",
    "# input()함수는 무엇을 입력해도 문자열\n"
   ]
  },
  {
   "cell_type": "code",
   "execution_count": 39,
   "id": "a99f4492",
   "metadata": {},
   "outputs": [
    {
     "name": "stdout",
     "output_type": "stream",
     "text": [
      "첫번째 숫자250\n",
      "두번째 숫자500\n",
      "750 0.5\n"
     ]
    }
   ],
   "source": [
    "# input()함수의 문자열을 숫자로 변환하고, 각각의 더한 값과 나눈 값을 구해보자.\n",
    "\n",
    "number1 = int(input(\"첫번째 숫자\"))             #input 함수 앞에 int를 입력하고 실행 시 문자열이 숫자로 변경된다.\n",
    "number2 = int(input(\"두번째 숫자\"))\n",
    "print(number1 + number2, number1 / number2)"
   ]
  },
  {
   "cell_type": "code",
   "execution_count": 42,
   "id": "89ea5423",
   "metadata": {},
   "outputs": [
    {
     "name": "stdout",
     "output_type": "stream",
     "text": [
      "두 수 500에서 250를 뺀 값은250이다 \n",
      "두 수 250에서 500를 곱한 값은125000이다\n"
     ]
    }
   ],
   "source": [
    "# format 함수를 활용하여 위 예제의 숫자를 빼고 곱해보자.\n",
    "\n",
    "message = \"두 수\"\n",
    "print(\"{} {}에서 {}를 뺀 값은{}이다 \".format(message, number2, number1, number2 - number1))\n",
    "print(\"{} {}에서 {}를 곱한 값은{}이다\".format(message, number1, number2, number1 * number2))"
   ]
  },
  {
   "cell_type": "code",
   "execution_count": null,
   "id": "7dcb2daa",
   "metadata": {},
   "outputs": [],
   "source": []
  },
  {
   "cell_type": "code",
   "execution_count": null,
   "id": "02249df6",
   "metadata": {},
   "outputs": [],
   "source": []
  },
  {
   "cell_type": "code",
   "execution_count": null,
   "id": "49baedeb",
   "metadata": {},
   "outputs": [],
   "source": []
  },
  {
   "cell_type": "code",
   "execution_count": null,
   "id": "7230def2",
   "metadata": {},
   "outputs": [],
   "source": []
  },
  {
   "cell_type": "code",
   "execution_count": null,
   "id": "38cfa636",
   "metadata": {},
   "outputs": [],
   "source": []
  },
  {
   "cell_type": "code",
   "execution_count": null,
   "id": "8505a255",
   "metadata": {},
   "outputs": [],
   "source": [
    "\n"
   ]
  }
 ],
 "metadata": {
  "kernelspec": {
   "display_name": "Python 3 (ipykernel)",
   "language": "python",
   "name": "python3"
  },
  "language_info": {
   "codemirror_mode": {
    "name": "ipython",
    "version": 3
   },
   "file_extension": ".py",
   "mimetype": "text/x-python",
   "name": "python",
   "nbconvert_exporter": "python",
   "pygments_lexer": "ipython3",
   "version": "3.9.12"
  }
 },
 "nbformat": 4,
 "nbformat_minor": 5
}
