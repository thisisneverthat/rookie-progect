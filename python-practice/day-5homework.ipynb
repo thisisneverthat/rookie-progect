{
 "cells": [
  {
   "cell_type": "code",
   "execution_count": null,
   "id": "0779b53c",
   "metadata": {},
   "outputs": [],
   "source": [
    "# 1.학생의 이름과 점수 (국어, 영어, 수학)를 입력 받아 저장한 후 0\n",
    "# 2.저장된 자료의 이름과 각 학생의 성적, 총점, 평균을 구하세요.0\n",
    "# 3.가장 성적이 좋은 학생의 이름과 총점 출력\n",
    "# 4.가장 성적이 나쁜 학생의 이름과 총점 출력\n",
    "# 5.전체 학생의 인원수와 전체 평균을 구하세요\n",
    "# 조건 : class 사용, 모든 문제는 함수로 구현"
   ]
  }
 ],
 "metadata": {
  "kernelspec": {
   "display_name": "Python 3 (ipykernel)",
   "language": "python",
   "name": "python3"
  },
  "language_info": {
   "codemirror_mode": {
    "name": "ipython",
    "version": 3
   },
   "file_extension": ".py",
   "mimetype": "text/x-python",
   "name": "python",
   "nbconvert_exporter": "python",
   "pygments_lexer": "ipython3",
   "version": "3.9.12"
  }
 },
 "nbformat": 4,
 "nbformat_minor": 5
}
