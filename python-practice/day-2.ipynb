{
 "cells": [
  {
   "cell_type": "code",
   "execution_count": 2,
   "id": "1122e4eb",
   "metadata": {},
   "outputs": [
    {
     "name": "stdout",
     "output_type": "stream",
     "text": [
      "HELLO PYTHON PROGRAMING !!\n",
      "hello python programing !!\n"
     ]
    }
   ],
   "source": [
    "# 문자열 관련 함수 : 문자열오브젝트.upper.(), 오브젝트.lower()\n",
    "a_str = ' Hello Python programing !!'\n",
    "print(a_str.upper())\n",
    "print(a_str.lower())"
   ]
  },
  {
   "cell_type": "code",
   "execution_count": 6,
   "id": "6b6c5f34",
   "metadata": {},
   "outputs": [
    {
     "data": {
      "text/plain": [
       "'HELLO PYTHON PROGRAMING !!'"
      ]
     },
     "execution_count": 6,
     "metadata": {},
     "output_type": "execute_result"
    }
   ],
   "source": [
    "a_str_upper = a_str.upper()\n",
    "a_str_upper"
   ]
  },
  {
   "cell_type": "code",
   "execution_count": 11,
   "id": "eb373c04",
   "metadata": {},
   "outputs": [
    {
     "name": "stdout",
     "output_type": "stream",
     "text": [
      "strip() -> /Hello Python programing !!/\n",
      "strip() -> /Hello Python programing !!  /\n",
      "strip() -> /  Hello Python programing !!/\n"
     ]
    }
   ],
   "source": [
    "# 문자열의 공백 제거 : 문자열.strip() > 양쪽의 공백 제거\n",
    "#  문자열.lstrip() -> 왼쪽 공백 제거\n",
    "#  문자열.rstrip() -> 오른쪽 공백 제거\n",
    "a_str = '  Hello Python programing !!  '\n",
    "print(\"strip() -> /{}/\".format(a_str.strip()))\n",
    "print(\"strip() -> /{}/\".format(a_str.lstrip()))\n",
    "print(\"strip() -> /{}/\".format(a_str.rstrip()))"
   ]
  },
  {
   "cell_type": "code",
   "execution_count": 17,
   "id": "6ea96be5",
   "metadata": {},
   "outputs": [
    {
     "name": "stdout",
     "output_type": "stream",
     "text": [
      "False\n"
     ]
    },
    {
     "data": {
      "text/plain": [
       "True"
      ]
     },
     "execution_count": 17,
     "metadata": {},
     "output_type": "execute_result"
    }
   ],
   "source": [
    "print(a_str.isalnum())\n",
    "\n",
    "b_str = 'abce1234cdcd'\n",
    "b_str.isalnum() # 알파벳 또는 숫자로만 구성 되있는가. (공백 포함)"
   ]
  },
  {
   "cell_type": "code",
   "execution_count": 21,
   "id": "3ca78584",
   "metadata": {},
   "outputs": [
    {
     "data": {
      "text/plain": [
       "'Python'"
      ]
     },
     "execution_count": 21,
     "metadata": {},
     "output_type": "execute_result"
    }
   ],
   "source": [
    "# find(), rfrind() -> 위치 반환\n",
    "\n",
    "a_str = \"Hello Python programing!!\"\n",
    "# Python 만 출력\n",
    "a_str[a_str.find(' ')+1 :a_str.rfind(' ') ]\n",
    "\n"
   ]
  },
  {
   "cell_type": "code",
   "execution_count": 37,
   "id": "67af5d91",
   "metadata": {},
   "outputs": [
    {
     "data": {
      "text/plain": [
       "'Python'"
      ]
     },
     "execution_count": 37,
     "metadata": {},
     "output_type": "execute_result"
    }
   ],
   "source": [
    "b_str = \"Hello Python programing !!\"\n",
    "b_str[b_str.find(' ')+1 : b_str.rfind(' ') ]\\\n",
    "[ : b_str[b_str.find(' ')+1 :b_str.rfind(' ') ].rfind(' ')]"
   ]
  },
  {
   "cell_type": "code",
   "execution_count": 62,
   "id": "9c559e70",
   "metadata": {},
   "outputs": [
    {
     "data": {
      "text/plain": [
       "'Python'"
      ]
     },
     "execution_count": 62,
     "metadata": {},
     "output_type": "execute_result"
    }
   ],
   "source": [
    "b_str[b_str.find(' ')+1 : b_str.find(' ', b_str.find(' ')+1) ]"
   ]
  },
  {
   "cell_type": "code",
   "execution_count": 49,
   "id": "ae151735",
   "metadata": {},
   "outputs": [
    {
     "data": {
      "text/plain": [
       "'Python'"
      ]
     },
     "execution_count": 49,
     "metadata": {},
     "output_type": "execute_result"
    }
   ],
   "source": [
    "s_idx = b_str.find(' ')+1\n",
    "e_idx = b_str.find(' ', s_idx)\n",
    "b_str[s_idx : e_idx]"
   ]
  },
  {
   "cell_type": "code",
   "execution_count": 54,
   "id": "52a2b859",
   "metadata": {},
   "outputs": [
    {
     "name": "stdout",
     "output_type": "stream",
     "text": [
      "True\n",
      "False\n"
     ]
    }
   ],
   "source": [
    "a_str = \"hello hello python\"\n",
    "# 문자가 해당 문자열에 있는지 확인 : 문자 in 문자열\n",
    "print('hello' in a_str) # Ture \n",
    "print('a' in a_str) # False\n",
    "# ex) print('he' in a_str)도 True. hello 에 he가 포함되기 때문"
   ]
  },
  {
   "cell_type": "code",
   "execution_count": 63,
   "id": "a67a70e8",
   "metadata": {},
   "outputs": [
    {
     "data": {
      "text/plain": [
       "'Python'"
      ]
     },
     "execution_count": 63,
     "metadata": {},
     "output_type": "execute_result"
    }
   ],
   "source": [
    "b_str[b_str.find(' ')+1 : b_str.find(' ')+7]\n",
    "\n",
    "# 같은 값을 찾는데 방법은 여러가지."
   ]
  },
  {
   "cell_type": "code",
   "execution_count": 64,
   "id": "5aba43fa",
   "metadata": {},
   "outputs": [
    {
     "data": {
      "text/plain": [
       "['hello', 'hello', 'python']"
      ]
     },
     "execution_count": 64,
     "metadata": {},
     "output_type": "execute_result"
    }
   ],
   "source": [
    "a_str = \"hello hello python\"\n",
    "# 문자열 .split('분리하고자 하는 문자') 공백은 생략 가능\n",
    "a_str.split()"
   ]
  },
  {
   "cell_type": "code",
   "execution_count": 66,
   "id": "d6c4b2d0",
   "metadata": {},
   "outputs": [
    {
     "data": {
      "text/plain": [
       "'Python'"
      ]
     },
     "execution_count": 66,
     "metadata": {},
     "output_type": "execute_result"
    }
   ],
   "source": [
    "b_str.split()[1] # 대괄호로 나오는 것을 리스트 라고 부른다."
   ]
  },
  {
   "cell_type": "code",
   "execution_count": 78,
   "id": "c1fcd6b3",
   "metadata": {},
   "outputs": [
    {
     "name": "stdout",
     "output_type": "stream",
     "text": [
      "['Hello', 'Python', 'programing', '!!']\n",
      "Python\n"
     ]
    }
   ],
   "source": [
    "s_str = b_str.split()\n",
    "\n",
    "print(s_str)\n",
    "print(s_str[1])"
   ]
  },
  {
   "cell_type": "code",
   "execution_count": 93,
   "id": "71ddc7a5",
   "metadata": {},
   "outputs": [
    {
     "data": {
      "text/plain": [
       "<function str.upper()>"
      ]
     },
     "execution_count": 93,
     "metadata": {},
     "output_type": "execute_result"
    }
   ],
   "source": [
    "s_str[1].upper # ??"
   ]
  },
  {
   "cell_type": "code",
   "execution_count": 86,
   "id": "52690778",
   "metadata": {},
   "outputs": [
    {
     "data": {
      "text/plain": [
       "'3 + 4 = 7'"
      ]
     },
     "execution_count": 86,
     "metadata": {},
     "output_type": "execute_result"
    }
   ],
   "source": [
    "\"3 + 4 = {}\".format(3+4)"
   ]
  },
  {
   "cell_type": "code",
   "execution_count": 84,
   "id": "17b28ce5",
   "metadata": {},
   "outputs": [
    {
     "data": {
      "text/plain": [
       "'3 + 4 = 7'"
      ]
     },
     "execution_count": 84,
     "metadata": {},
     "output_type": "execute_result"
    }
   ],
   "source": [
    "# 3.6 버전 이후부터 가능 : f'문자열{표현식}문자열'\n",
    "f'3 + 4 = {3+4}'"
   ]
  },
  {
   "cell_type": "markdown",
   "id": "c1a64710",
   "metadata": {},
   "source": [
    "##  chapter 3.조건문"
   ]
  },
  {
   "cell_type": "markdown",
   "id": "e36227e6",
   "metadata": {},
   "source": [
    "## 1. 불 자료형과 if 조건문"
   ]
  },
  {
   "cell_type": "code",
   "execution_count": 96,
   "id": "91df4467",
   "metadata": {},
   "outputs": [
    {
     "name": "stdout",
     "output_type": "stream",
     "text": [
      "True 출력\n"
     ]
    }
   ],
   "source": [
    "# True, False, and, or, not, ==, !=, <, >, =<, >=\n",
    "# if 포현식 :\n",
    "#   들여쓰기\n",
    "if True:\n",
    "    print(\"True 출력\") #실행\n",
    "\n",
    "if False:\n",
    "    print(\"False 출력\") #실행 안됨\n"
   ]
  },
  {
   "cell_type": "code",
   "execution_count": 99,
   "id": "7da543ae",
   "metadata": {},
   "outputs": [
    {
     "name": "stdout",
     "output_type": "stream",
     "text": [
      "자료 입력 : 123\n",
      "입력 받은 자료는 숫자 123\n"
     ]
    }
   ],
   "source": [
    "# 키보드에서 자료를 입력받아 숫자면 '입력 받은 자료는 숫자'\n",
    "# 문자면 '입력 받은 자료는 문자' 출력\n",
    "# 1. 자료 입력받음\n",
    "input_a = input(\"자료 입력 : \")\n",
    "# 2. 숫자이면 '입력받은 자료는 숫자' 출력\n",
    "if input_a.isnumeric() :\n",
    "    print('입력 받은 자료는 숫자 {}'.format(input_a) )\n",
    "# 3. 문자이면 '입력받은 자료는 문자' 출력\n",
    "if not input_a.isnumeric() :\n",
    "    print('입력 받은 자료는 문자 {}'.format(input_a) )\n",
    " "
   ]
  },
  {
   "cell_type": "code",
   "execution_count": 204,
   "id": "b31c0e01",
   "metadata": {},
   "outputs": [
    {
     "name": "stdout",
     "output_type": "stream",
     "text": [
      "영어 인사 입력 : hello\n",
      "인사해주세요.  hello\n"
     ]
    }
   ],
   "source": [
    "input_aa = input(\"영어 인사 입력 : \")\n",
    "if input_aa.isalpha() : \n",
    "    print(\"인사해주세요.  {}\".format(input_aa))\n",
    "if not input_aa.isalpha() :\n",
    "    print(\"인사해주세요. {}\".format(input_aa))"
   ]
  },
  {
   "cell_type": "code",
   "execution_count": 110,
   "id": "5c422dbd",
   "metadata": {},
   "outputs": [
    {
     "name": "stdout",
     "output_type": "stream",
     "text": [
      "2022년 6월 24일 10시 44분 17초\n"
     ]
    }
   ],
   "source": [
    "# 날짜 / 시간 활용하기 : datetime 모듈 소스에 삽입\n",
    "# import 모듈명\n",
    "import datetime\n",
    "\n",
    "now = datetime.datetime.now()\n",
    "print(\"{}년 {}월 {}일 {}시 {}분 {}초\".format(now.year, now.month, now.day,\n",
    "                                      now.hour, now.minute, now.second))"
   ]
  },
  {
   "cell_type": "code",
   "execution_count": 111,
   "id": "52ee0034",
   "metadata": {},
   "outputs": [
    {
     "name": "stdout",
     "output_type": "stream",
     "text": [
      "현재 시간은 오전 10시 입니다.\n"
     ]
    }
   ],
   "source": [
    "if now.hour < 12 :\n",
    "    print('현재 시간은 오전 {}시 입니다.'.format(now.hour))"
   ]
  },
  {
   "cell_type": "code",
   "execution_count": 113,
   "id": "c1639297",
   "metadata": {},
   "outputs": [
    {
     "name": "stdout",
     "output_type": "stream",
     "text": [
      "6월은 여름 입니다.\n"
     ]
    }
   ],
   "source": [
    "# 3월에서 5월은 봄, 6월에서 8월은 여름, 9월에서 11월은 가을, 1,2,12월은 겨울\n",
    "if 3 <= now.month <= 5 :\n",
    "    print(\"{}월은 봄 입니다.\".format(now.month))\n",
    "if 6 <= now.month <= 8 : \n",
    "    print(\"{}월은 여름 입니다.\".format(now.month))\n",
    "if 9 <= now.month <= 11 : \n",
    "    print(\"{}월은 가을 입니다.\".format(now.month))\n",
    "if 1 <= now.month <= 2 or now.month == 12 : \n",
    "    print(\"{}월은 겨울 입니다.\".format(now.month))"
   ]
  },
  {
   "cell_type": "code",
   "execution_count": 116,
   "id": "4575f64e",
   "metadata": {},
   "outputs": [
    {
     "name": "stdout",
     "output_type": "stream",
     "text": [
      "6월은 여름\n"
     ]
    }
   ],
   "source": [
    "if now.month >= 3 and now.month <= 5 : \n",
    "    print(\"{}월은 봄\".format(now.month))\n",
    "if now.month >= 6 and now.month <= 8 :\n",
    "    print(\"{}월은 여름\".format(now.month))\n",
    "if now.month >= 9 and now.month <= 11 :\n",
    "    print(\"{}월은 가을\".format(now.month))\n",
    "if now.month == 12 and now.month < 2 :\n",
    "    print(\"{}월은 겨울\".format(now.month))"
   ]
  },
  {
   "cell_type": "code",
   "execution_count": 121,
   "id": "e0d7e3ce",
   "metadata": {},
   "outputs": [
    {
     "name": "stdout",
     "output_type": "stream",
     "text": [
      "정수 입력 : 22\n",
      "입력한 숫자 22는 짝수입니다.\n"
     ]
    }
   ],
   "source": [
    "# 정수를 입력받아 입력된 숫자가 짝수인지 홀수인지 출력\n",
    "# 1. 입력된 마지막 문자를 숫자로 변경 후\n",
    "# 0,2,4,6,8 이면 짝수, 1,3,5,7,9 이면 홀수\n",
    "num_word = input(\"정수 입력 : \",)\n",
    "last_num = int(num_word[-1])\n",
    "if last_num == 0 or last_num == 2 or last_num == 4 or last_num == 8:\n",
    "    print(f\"입력한 숫자 {num_word}는 짝수입니다.\")\n",
    "\n",
    "if last_num == 1 or last_num == 3 or last_num == 5 or last_num == 7 or\\\n",
    "last_num == 9:\n",
    "    print(f\"입력한 숫자 {num_word}는 홀수입니다.\")\n",
    "                       "
   ]
  },
  {
   "cell_type": "code",
   "execution_count": 124,
   "id": "4ddea0ab",
   "metadata": {},
   "outputs": [
    {
     "name": "stdout",
     "output_type": "stream",
     "text": [
      "정수 입력 : 77\n",
      "입력한 숫자 77는 홀수입니다.\n"
     ]
    }
   ],
   "source": [
    "# 2. 입력된 문자를 숫자로 변경 후 2로 나눈 나머지 값이 0이면 짝수, 1이면 홀수\n",
    "num_word = int(input(\"정수 입력 : \"))\n",
    "if num_word % 2 == 0 :\n",
    "    print(f\"입력한 숫자 {num_word}는 짝수입니다.\")\n",
    "if num_word % 2 == 1 :\n",
    "    print(f\"입력한 숫자 {num_word}는 홀수입니다.\")"
   ]
  },
  {
   "cell_type": "code",
   "execution_count": 159,
   "id": "5c8292a2",
   "metadata": {},
   "outputs": [
    {
     "name": "stdout",
     "output_type": "stream",
     "text": [
      "정수 입력: 1233\n",
      "입력한 숫자 1233은/는 홀수입니다.\n"
     ]
    }
   ],
   "source": [
    "# 문자열의 경우 in 연사자를 사용 if '문자' in '문자열' :\n",
    "num_word = str(input(\"정수 입력: \" ))\n",
    "last_char = num_word[-1]\n",
    "if last_char in '02468':\n",
    "    print(f\"입력한 숫자 {num_word}은/는 짝수입니다.\")\n",
    "if last_char in '13579':\n",
    "    print(f\"입력한 숫자 {num_word}은/는 홀수입니다.\")"
   ]
  },
  {
   "cell_type": "code",
   "execution_count": 131,
   "id": "90ce545c",
   "metadata": {},
   "outputs": [
    {
     "name": "stdout",
     "output_type": "stream",
     "text": [
      "abcd\n"
     ]
    }
   ],
   "source": [
    "char = 'abcd'\n",
    "if char : \n",
    "    print(char)"
   ]
  },
  {
   "cell_type": "code",
   "execution_count": null,
   "id": "5b08aad5",
   "metadata": {},
   "outputs": [],
   "source": []
  },
  {
   "cell_type": "markdown",
   "id": "ebc42f43",
   "metadata": {},
   "source": [
    "## if ~ else, elif 구문"
   ]
  },
  {
   "cell_type": "code",
   "execution_count": 132,
   "id": "8adabebc",
   "metadata": {},
   "outputs": [
    {
     "name": "stdout",
     "output_type": "stream",
     "text": [
      "6월은 여름 입니다.\n"
     ]
    }
   ],
   "source": [
    "# 3월에서 5월은 봄, 6월에서 8월은 여름, 9월에서 11월은 가을, 1,2,12월은 겨울\n",
    "if 3 <= now.month <= 5 :\n",
    "    print(\"{}월은 봄 입니다.\".format(now.month))\n",
    "elif 6 <= now.month <= 8 : \n",
    "    print(\"{}월은 여름 입니다.\".format(now.month))\n",
    "elif 9 <= now.month <= 11 : \n",
    "    print(\"{}월은 가을 입니다.\".format(now.month))\n",
    "elif 1 <= now.month <= 2 or now.month == 12 : \n",
    "    print(\"{}월은 겨울 입니다.\".format(now.month))"
   ]
  },
  {
   "cell_type": "code",
   "execution_count": 155,
   "id": "9b581eeb",
   "metadata": {},
   "outputs": [
    {
     "name": "stdout",
     "output_type": "stream",
     "text": [
      "입력하세요. 1\n",
      "입력한 1는 홀수입니다.\n"
     ]
    }
   ],
   "source": [
    "# 키보드에서 자료를 입력받아 정수이면 짝수인지 확인하고 짝수 출력\n",
    "# 정수가 아니면 마지막 문자 출력\n",
    "\n",
    "# 1. 키보드에서 자료 입력받음\n",
    "# 2. 정수 확인 -> 정수이면 짝수 홀수 check, 아니면 마지막 글자 출력\n",
    "\n",
    "number = input(\"입력하세요. \")\n",
    "if number.isdecimal() :\n",
    "    if number[-1] in '02468' :\n",
    "        print(\"입력한 {}는 짝수입니다.\".format(number))\n",
    "    else:\n",
    "        print(\"입력한 {}는 홀수입니다.\".format(number))\n",
    "else:\n",
    "    print(\"입력하신 {}의 마지막 문자는 {}\".format(number, number[-1]))\n",
    "\n",
    "\n",
    "# 들여쓰기를 신경써서 해야 올바르게 작동함. 공백 칸 수에 따라 짝이 지어짐.\n"
   ]
  },
  {
   "cell_type": "code",
   "execution_count": 162,
   "id": "73f35782",
   "metadata": {},
   "outputs": [
    {
     "name": "stdout",
     "output_type": "stream",
     "text": [
      "입력하세요. 123\n",
      "입력한 123는 홀수입니다.\n"
     ]
    }
   ],
   "source": [
    "a = 10\n",
    "if a :\n",
    "    pass # 올바른 식이 아니더라도 error 안뜨고 넘김\n",
    "\n",
    "number = input(\"입력하세요. \")\n",
    "if number.isdecimal() :\n",
    "    if number[-1] in '02468' :\n",
    "        print(\"입력한 {}는 짝수입니다.\".format(number))\n",
    "    else:\n",
    "        print(\"입력한 {}는 홀수입니다.\".format(number))\n",
    "else:\n",
    "    print(\"입력하신 {}의 마지막 문자는 {}\".format(number, number[-1]))\n"
   ]
  },
  {
   "cell_type": "markdown",
   "id": "ac0fe799",
   "metadata": {},
   "source": [
    "### chapter.4 반복문\n",
    "1. 리스트와 반복문"
   ]
  },
  {
   "cell_type": "code",
   "execution_count": 168,
   "id": "b2edaf67",
   "metadata": {},
   "outputs": [
    {
     "data": {
      "text/plain": [
       "[12, 'test', True, 345, 'python programing']"
      ]
     },
     "execution_count": 168,
     "metadata": {},
     "output_type": "execute_result"
    }
   ],
   "source": [
    "# 리스트 선언하기 : [요소, ...]\n",
    "list_a = [12, 'test', True, 345, 'python programing']\n",
    "list_a"
   ]
  },
  {
   "cell_type": "code",
   "execution_count": 186,
   "id": "cdd1090c",
   "metadata": {},
   "outputs": [
    {
     "name": "stdout",
     "output_type": "stream",
     "text": [
      "<class 'list'>\n",
      "test\n",
      "['test', True]\n",
      "python programing\n",
      "python\n",
      "python\n"
     ]
    }
   ],
   "source": [
    "# 리스트의 요소 접근 하는 법: 리스트[인덱스]\n",
    "print(type(list_a))\n",
    "print(list_a[1]) # test\n",
    "print(list_a[1:3]) # test, True\n",
    "\n",
    "print(list_a[-1]) # 'python programing'\n",
    "# python programing의 자료에서 python만 추출\n",
    "print(list_a[-1].split()[0])\n",
    "print(list_a[-1][ :list_a[-1].find(' ')])"
   ]
  },
  {
   "cell_type": "code",
   "execution_count": 187,
   "id": "2e264d43",
   "metadata": {},
   "outputs": [
    {
     "data": {
      "text/plain": [
       "'python'"
      ]
     },
     "execution_count": 187,
     "metadata": {},
     "output_type": "execute_result"
    }
   ],
   "source": [
    "list_a[-1].split(' ')[0]"
   ]
  },
  {
   "cell_type": "code",
   "execution_count": 191,
   "id": "26b6268c",
   "metadata": {},
   "outputs": [
    {
     "data": {
      "text/plain": [
       "'a'"
      ]
     },
     "execution_count": 191,
     "metadata": {},
     "output_type": "execute_result"
    }
   ],
   "source": [
    "list_b = [[1,2,3,],['a','b','c'],[4,5,6]]\n",
    "# a 추출\n",
    "list_b[1][0]"
   ]
  },
  {
   "cell_type": "code",
   "execution_count": 193,
   "id": "3c4aab17",
   "metadata": {},
   "outputs": [
    {
     "data": {
      "text/plain": [
       "'e'"
      ]
     },
     "execution_count": 193,
     "metadata": {},
     "output_type": "execute_result"
    }
   ],
   "source": [
    "list_a = [12, 'test', True,345, 'python programing']\n",
    "list_a[1][1] # test에 e"
   ]
  },
  {
   "cell_type": "code",
   "execution_count": 197,
   "id": "faa9fe52",
   "metadata": {},
   "outputs": [
    {
     "data": {
      "text/plain": [
       "'python programing'"
      ]
     },
     "execution_count": 197,
     "metadata": {},
     "output_type": "execute_result"
    }
   ],
   "source": [
    "list_a[len(list_a)-1]\n",
    "# [len(리스트)] = 요소의 개수"
   ]
  },
  {
   "cell_type": "code",
   "execution_count": 205,
   "id": "81f5a11d",
   "metadata": {},
   "outputs": [
    {
     "data": {
      "text/plain": [
       "5"
      ]
     },
     "execution_count": 205,
     "metadata": {},
     "output_type": "execute_result"
    }
   ],
   "source": [
    "len(list_a)"
   ]
  },
  {
   "cell_type": "code",
   "execution_count": 225,
   "id": "86ec1f1d",
   "metadata": {},
   "outputs": [
    {
     "name": "stdout",
     "output_type": "stream",
     "text": [
      "[1, 2, 3, 4, 5, 6]\n",
      "\n",
      "[1, 2, 3]\n",
      "[1, 2, 3, 'a']\n",
      "['test', 1, 2, 3, 'a', [4, 5, 6]]\n",
      "\n"
     ]
    },
    {
     "data": {
      "text/plain": [
       "['test', 1, 2, 3, 'a', [4, 5, 6], 4, 5, 6]"
      ]
     },
     "execution_count": 225,
     "metadata": {},
     "output_type": "execute_result"
    }
   ],
   "source": [
    "# 리스트의 연산 : +, *\n",
    "# 리스트에 요소 추가하기 : 리스트명.append(요소), 리스트명.insert(위치, 요소)\n",
    "# 리스트에 요소 추가 : 리스트의 각 요소를 리스트에 추가 :\n",
    "# 리스트명.extend(리스트)\n",
    "list_a = [1, 2, 3]\n",
    "list_b = [4, 5, 6]\n",
    "print(list_a + list_b) # 기존 자료에 영향을 주지 않음\n",
    "print()\n",
    "print(list_a)\n",
    "\n",
    "list_a.append('a') # 기존 자료에 영향을 줌\n",
    "print(list_a)\n",
    "\n",
    "list_a.append(list_b)\n",
    "list_a\n",
    "\n",
    "list_a.insert(0,'test')\n",
    "print(list_a)\n",
    "print()\n",
    "\n",
    "\n",
    "list_a.extend(list_b) # 리스트명.extend(리스트)는 해당 리스트를 풀어서 넣어줌\n",
    "list_a\n"
   ]
  },
  {
   "cell_type": "code",
   "execution_count": 226,
   "id": "cd7dd5b2",
   "metadata": {},
   "outputs": [
    {
     "data": {
      "text/plain": [
       "['a', [1, 2, 3]]"
      ]
     },
     "execution_count": 226,
     "metadata": {},
     "output_type": "execute_result"
    }
   ],
   "source": [
    "list_c = []\n",
    "list_c.append('a')\n",
    "list_c.append([1,2,3])\n",
    "list_c"
   ]
  },
  {
   "cell_type": "code",
   "execution_count": 227,
   "id": "f13f7f3f",
   "metadata": {},
   "outputs": [
    {
     "name": "stdout",
     "output_type": "stream",
     "text": [
      " 자료 입력 :  1\n",
      " 자료 입력 :  h\n",
      " 자료 입력 :  2\n",
      " 자료 입력 :  p\n",
      " 자료 입력 :  f\n",
      " 입력한 자료 :  ['1', 'h', '2', 'p', 'f']\n",
      "수정할 자료 입력 : jajjajjajajjajaj\n",
      "수정한 자료 :  ['1', 'h', 'jajjajjajajjajaj', 'p', 'f']\n"
     ]
    }
   ],
   "source": [
    "# 다섯개의 자료를 입력받아 리스트로 만든 후\n",
    "input_list = []\n",
    "input_data = input(\" 자료 입력 :  \")\n",
    "input_list.append(input_data)\n",
    "input_data = input(\" 자료 입력 :  \")\n",
    "input_list.append(input_data)\n",
    "input_data = input(\" 자료 입력 :  \")\n",
    "input_list.append(input_data)\n",
    "input_data = input(\" 자료 입력 :  \")\n",
    "input_list.append(input_data)\n",
    "input_data = input(\" 자료 입력 :  \")\n",
    "input_list.append(input_data)\n",
    "\n",
    "print(\" 입력한 자료 : \",input_list)\n",
    "input_list[2] = input(\"수정할 자료 입력 : \")\n",
    "\n",
    "print(\"수정한 자료 : \", input_list)"
   ]
  },
  {
   "cell_type": "code",
   "execution_count": 228,
   "id": "a12bbd8a",
   "metadata": {},
   "outputs": [],
   "source": [
    "# 리스트 제거 : 인덱스 제거 -> del 리스트명[인덱스]\n",
    "#       마지막 요소 제거 : 리스트.pop()"
   ]
  },
  {
   "cell_type": "code",
   "execution_count": 229,
   "id": "a9db83b6",
   "metadata": {},
   "outputs": [
    {
     "name": "stdout",
     "output_type": "stream",
     "text": [
      "['h', 'jajjajjajajjajaj', 'p', 'f']\n"
     ]
    }
   ],
   "source": [
    "del input_list[0]\n",
    "print(input_list)"
   ]
  },
  {
   "cell_type": "code",
   "execution_count": 249,
   "id": "625f104d",
   "metadata": {},
   "outputs": [
    {
     "name": "stdout",
     "output_type": "stream",
     "text": [
      "['h', 1]\n"
     ]
    }
   ],
   "source": [
    "input_list.pop()\n",
    "print(input_list)"
   ]
  },
  {
   "cell_type": "code",
   "execution_count": 241,
   "id": "64be5425",
   "metadata": {},
   "outputs": [
    {
     "name": "stdout",
     "output_type": "stream",
     "text": [
      "['test', 1, 2, 3, 'a', [4, 5, 6], 4, 5, 6]\n",
      "['h', 1, 1, 1]\n"
     ]
    }
   ],
   "source": [
    "input_list.append(1)\n",
    "print(list_a)\n",
    "\n",
    "input_list.pop(1)\n",
    "print(input_list)"
   ]
  },
  {
   "cell_type": "code",
   "execution_count": 243,
   "id": "e4ffe656",
   "metadata": {},
   "outputs": [
    {
     "name": "stdout",
     "output_type": "stream",
     "text": [
      "[1, 3, 5, 7, 9]\n",
      "[3, 4, 5]\n",
      "[9, 8, 7, 6, 5, 4, 3, 2, 1]\n"
     ]
    }
   ],
   "source": [
    "# 리스트의 인덱스 슬라이싱 : 리스트명[ star : stop : step]\n",
    "list_a = [1,2,3,4,5,6,7,8,9]\n",
    "\n",
    "print(list_a[ : :2])\n",
    "print(list_a[2:5:1])\n",
    "\n",
    "print(list_a[: : -1])\n"
   ]
  },
  {
   "cell_type": "code",
   "execution_count": 247,
   "id": "49871029",
   "metadata": {},
   "outputs": [
    {
     "name": "stdout",
     "output_type": "stream",
     "text": [
      "[1, 1, 2, 3]\n",
      "[]\n"
     ]
    }
   ],
   "source": [
    "#리스트의 자료 제거 : del 리스트명[인덱스], 리스트명.pop([위치])\n",
    "#리스트의 값으로 제거 : 리스트명.remove(값)\n",
    "list_r = [1,2,1,2,3]\n",
    "\n",
    "list_r.remove(2)\n",
    "print(list_r)\n",
    "\n",
    "#리스트의 내용 모두 제거 : 리스트명.clear()\n",
    "\n",
    "list_r.clear()\n",
    "print(list_r)"
   ]
  },
  {
   "cell_type": "code",
   "execution_count": 250,
   "id": "a167d66a",
   "metadata": {},
   "outputs": [],
   "source": [
    "#리스트의 자료 추가 :.append(요소), .insert(위치, 요소), .extand(리스트)\n",
    "# 수정 : 리스트[위치] = 값\n",
    "# 삭제 : del 리스트[위치], 리스트.pop() 마지막 삭제, 리스트.pop(위치)\n",
    "# 값으로 삭제 : 리스트.remove(값) -> 처음 나오는 값을 제거\n",
    "# 모든 요소 삭제 : 리스트.clear()\n",
    "# 정렬 : 리스트.sort()\n",
    "# 값 in 리스트 : 리스트 안에 값이 있는지 확인 "
   ]
  },
  {
   "cell_type": "code",
   "execution_count": 256,
   "id": "1746d572",
   "metadata": {},
   "outputs": [
    {
     "name": "stdout",
     "output_type": "stream",
     "text": [
      "[34, 56, 12, 78, 23]\n",
      "\n",
      "[12, 23, 34, 56, 78]\n",
      "\n",
      "[78, 56, 34, 23, 12]\n"
     ]
    }
   ],
   "source": [
    "list_a = [34, 56, 12, 78, 23]\n",
    "print(list_a)\n",
    "print()\n",
    "\n",
    "list_a.sort()\n",
    "print(list_a)\n",
    "print()\n",
    "\n",
    "list_a.sort(reverse=True)\n",
    "print(list_a)"
   ]
  },
  {
   "cell_type": "code",
   "execution_count": 260,
   "id": "4b116f1e",
   "metadata": {},
   "outputs": [
    {
     "name": "stdout",
     "output_type": "stream",
     "text": [
      "False\n",
      "True\n",
      "True\n"
     ]
    }
   ],
   "source": [
    "print(20 in list_a)\n",
    "print(not 20 in list_a)\n",
    "print(78 in list_a)"
   ]
  },
  {
   "cell_type": "code",
   "execution_count": 261,
   "id": "14ac4c24",
   "metadata": {},
   "outputs": [
    {
     "name": "stdout",
     "output_type": "stream",
     "text": [
      "h e l l o   f o r \n"
     ]
    }
   ],
   "source": [
    "# for 반복문 : 리스트와 함께 사용\n",
    "# for 반복자 in 반복 할 수 있는 모든 자료\n",
    "\n",
    "for char in 'hello for':\n",
    "    print(char, end=' ')\n",
    "print()"
   ]
  },
  {
   "cell_type": "code",
   "execution_count": 269,
   "id": "9f045ce6",
   "metadata": {},
   "outputs": [
    {
     "name": "stdout",
     "output_type": "stream",
     "text": [
      "1회 : 78\n",
      "2회 : 56\n",
      "3회 : 34\n",
      "4회 : 23\n",
      "5회 : 12\n",
      "end\n"
     ]
    }
   ],
   "source": [
    "cnt = 0\n",
    "for items in list_a:\n",
    "    cnt += 1\n",
    "    print('{}회 : {}'.format(cnt,items))\n",
    "print('end')"
   ]
  },
  {
   "cell_type": "code",
   "execution_count": 273,
   "id": "00c0ec03",
   "metadata": {},
   "outputs": [
    {
     "name": "stdout",
     "output_type": "stream",
     "text": [
      "1\t2\t3\t\n",
      "4\t5\t6\t\n",
      "7\t8\t9\t10\t\n"
     ]
    }
   ],
   "source": [
    "list_array = [[1,2,3], [4,5,6], [7,8,9,10]]\n",
    "for items in list_array:\n",
    "    for item in items:\n",
    "        print(item,end='\\t')\n",
    "    print()"
   ]
  },
  {
   "cell_type": "code",
   "execution_count": 293,
   "id": "73a5570d",
   "metadata": {},
   "outputs": [
    {
     "name": "stdout",
     "output_type": "stream",
     "text": [
      "=== 2단 ===\n",
      "2 * 1 = 2\t2 * 2 = 4\t2 * 3 = 6\n",
      "2 * 4 = 8\t2 * 5 = 10\t2 * 6 = 12\n",
      "2 * 7 = 14\t2 * 8 = 16\t2 * 9 = 18\n",
      "\n",
      "=== 3단 ===\n",
      "3 * 1 = 3\t3 * 2 = 6\t3 * 3 = 9\n",
      "3 * 4 = 12\t3 * 5 = 15\t3 * 6 = 18\n",
      "3 * 7 = 21\t3 * 8 = 24\t3 * 9 = 27\n",
      "\n",
      "=== 4단 ===\n",
      "4 * 1 = 4\t4 * 2 = 8\t4 * 3 = 12\n",
      "4 * 4 = 16\t4 * 5 = 20\t4 * 6 = 24\n",
      "4 * 7 = 28\t4 * 8 = 32\t4 * 9 = 36\n",
      "\n",
      "=== 5단 ===\n",
      "5 * 1 = 5\t5 * 2 = 10\t5 * 3 = 15\n",
      "5 * 4 = 20\t5 * 5 = 25\t5 * 6 = 30\n",
      "5 * 7 = 35\t5 * 8 = 40\t5 * 9 = 45\n",
      "\n",
      "=== 6단 ===\n",
      "6 * 1 = 6\t6 * 2 = 12\t6 * 3 = 18\n",
      "6 * 4 = 24\t6 * 5 = 30\t6 * 6 = 36\n",
      "6 * 7 = 42\t6 * 8 = 48\t6 * 9 = 54\n",
      "\n",
      "=== 7단 ===\n",
      "7 * 1 = 7\t7 * 2 = 14\t7 * 3 = 21\n",
      "7 * 4 = 28\t7 * 5 = 35\t7 * 6 = 42\n",
      "7 * 7 = 49\t7 * 8 = 56\t7 * 9 = 63\n",
      "\n",
      "=== 8단 ===\n",
      "8 * 1 = 8\t8 * 2 = 16\t8 * 3 = 24\n",
      "8 * 4 = 32\t8 * 5 = 40\t8 * 6 = 48\n",
      "8 * 7 = 56\t8 * 8 = 64\t8 * 9 = 72\n",
      "\n",
      "=== 9단 ===\n",
      "9 * 1 = 9\t9 * 2 = 18\t9 * 3 = 27\n",
      "9 * 4 = 36\t9 * 5 = 45\t9 * 6 = 54\n",
      "9 * 7 = 63\t9 * 8 = 72\t9 * 9 = 81\n",
      "\n"
     ]
    }
   ],
   "source": [
    "list_dan = [2,3,4,5,6,7,8,9]\n",
    "list_num = [1,2,3,4,5,6,7,8,9]\n",
    "\n",
    "# 단을 반복해서 리스트에서 가져옴\n",
    "for dan in list_dan:\n",
    "    #단을출력\n",
    "    print(\"=== {}단 ===\".format(dan))\n",
    "    #단에 대해서 num의 각 값을 곱한 결과 출력\n",
    "    line_cnt = 0\n",
    "    for num in list_num:\n",
    "        line_cnt += 1\n",
    "        if line_cnt < 3:\n",
    "            print(\"{} * {} = {}\".format(dan, num, dan * num),end='\\t')\n",
    "        else:\n",
    "            print(\"{} * {} = {}\".format(dan, num, dan * num))\n",
    "            line_cnt = 0\n",
    "    print()"
   ]
  },
  {
   "cell_type": "code",
   "execution_count": 359,
   "id": "43a5a3e5",
   "metadata": {},
   "outputs": [
    {
     "name": "stdout",
     "output_type": "stream",
     "text": [
      "2 * 1 = 2\n",
      "2 * 2 = 4\n",
      "2 * 3 = 6\n",
      "2 * 4 = 8\n",
      "2 * 5 = 10\n",
      "2 * 6 = 12\n",
      "2 * 7 = 14\n",
      "2 * 8 = 16\n",
      "2 * 9 = 18\n",
      "\n",
      "3 * 1 = 3\n",
      "3 * 2 = 6\n",
      "3 * 3 = 9\n",
      "3 * 4 = 12\n",
      "3 * 5 = 15\n",
      "3 * 6 = 18\n",
      "3 * 7 = 21\n",
      "3 * 8 = 24\n",
      "3 * 9 = 27\n",
      "\n",
      "4 * 1 = 4\n",
      "4 * 2 = 8\n",
      "4 * 3 = 12\n",
      "4 * 4 = 16\n",
      "4 * 5 = 20\n",
      "4 * 6 = 24\n",
      "4 * 7 = 28\n",
      "4 * 8 = 32\n",
      "4 * 9 = 36\n",
      "\n",
      "5 * 1 = 5\n",
      "5 * 2 = 10\n",
      "5 * 3 = 15\n",
      "5 * 4 = 20\n",
      "5 * 5 = 25\n",
      "5 * 6 = 30\n",
      "5 * 7 = 35\n",
      "5 * 8 = 40\n",
      "5 * 9 = 45\n",
      "\n",
      "6 * 1 = 6\n",
      "6 * 2 = 12\n",
      "6 * 3 = 18\n",
      "6 * 4 = 24\n",
      "6 * 5 = 30\n",
      "6 * 6 = 36\n",
      "6 * 7 = 42\n",
      "6 * 8 = 48\n",
      "6 * 9 = 54\n",
      "\n",
      "7 * 1 = 7\n",
      "7 * 2 = 14\n",
      "7 * 3 = 21\n",
      "7 * 4 = 28\n",
      "7 * 5 = 35\n",
      "7 * 6 = 42\n",
      "7 * 7 = 49\n",
      "7 * 8 = 56\n",
      "7 * 9 = 63\n",
      "\n",
      "8 * 1 = 8\n",
      "8 * 2 = 16\n",
      "8 * 3 = 24\n",
      "8 * 4 = 32\n",
      "8 * 5 = 40\n",
      "8 * 6 = 48\n",
      "8 * 7 = 56\n",
      "8 * 8 = 64\n",
      "8 * 9 = 72\n",
      "\n",
      "9 * 1 = 9\n",
      "9 * 2 = 18\n",
      "9 * 3 = 27\n",
      "9 * 4 = 36\n",
      "9 * 5 = 45\n",
      "9 * 6 = 54\n",
      "9 * 7 = 63\n",
      "9 * 8 = 72\n",
      "9 * 9 = 81\n",
      "\n"
     ]
    }
   ],
   "source": [
    "x = 2\n",
    "y = 1\n",
    "# print(x, 'x', y, '=', x * y)\n",
    "for x in range(2, 10):\n",
    "    for y in range(1,10):\n",
    "        print(x, '*', y, '=', x * y,)\n",
    "        if(y == 9):\n",
    "            print()"
   ]
  },
  {
   "cell_type": "code",
   "execution_count": null,
   "id": "1fb89d9a",
   "metadata": {},
   "outputs": [],
   "source": []
  },
  {
   "cell_type": "code",
   "execution_count": null,
   "id": "213eb716",
   "metadata": {},
   "outputs": [],
   "source": []
  },
  {
   "cell_type": "code",
   "execution_count": null,
   "id": "b6649e86",
   "metadata": {},
   "outputs": [],
   "source": []
  },
  {
   "cell_type": "code",
   "execution_count": null,
   "id": "89fa5361",
   "metadata": {},
   "outputs": [],
   "source": []
  },
  {
   "cell_type": "code",
   "execution_count": null,
   "id": "bb7861f7",
   "metadata": {},
   "outputs": [],
   "source": []
  },
  {
   "cell_type": "code",
   "execution_count": null,
   "id": "1a86043d",
   "metadata": {},
   "outputs": [],
   "source": []
  },
  {
   "cell_type": "code",
   "execution_count": null,
   "id": "5c680529",
   "metadata": {},
   "outputs": [],
   "source": []
  },
  {
   "cell_type": "code",
   "execution_count": null,
   "id": "c78508bc",
   "metadata": {},
   "outputs": [],
   "source": []
  },
  {
   "cell_type": "code",
   "execution_count": null,
   "id": "f8ad4bda",
   "metadata": {},
   "outputs": [],
   "source": []
  }
 ],
 "metadata": {
  "kernelspec": {
   "display_name": "Python 3 (ipykernel)",
   "language": "python",
   "name": "python3"
  },
  "language_info": {
   "codemirror_mode": {
    "name": "ipython",
    "version": 3
   },
   "file_extension": ".py",
   "mimetype": "text/x-python",
   "name": "python",
   "nbconvert_exporter": "python",
   "pygments_lexer": "ipython3",
   "version": "3.9.12"
  }
 },
 "nbformat": 4,
 "nbformat_minor": 5
}
