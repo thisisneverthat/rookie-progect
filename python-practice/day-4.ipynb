{
 "cells": [
  {
   "cell_type": "code",
   "execution_count": 10,
   "id": "a95600e4",
   "metadata": {},
   "outputs": [
    {
     "name": "stdout",
     "output_type": "stream",
     "text": [
      "reversed nums:  <list_reverseiterator object at 0x000002A349A4A7F0>\n",
      "6\n",
      "5\n",
      "4\n",
      "3\n",
      "2\n",
      "1\n"
     ]
    }
   ],
   "source": [
    "nums=[1,2,3,4,5,6]\n",
    "r_nums = reversed(nums)\n",
    "\n",
    "print(\"reversed nums: \", r_nums)\n",
    "\n",
    "print(next(r_nums))\n",
    "print(next(r_nums))\n",
    "print(next(r_nums))\n",
    "print(next(r_nums))\n",
    "print(next(r_nums))\n",
    "print(next(r_nums))"
   ]
  },
  {
   "cell_type": "code",
   "execution_count": 12,
   "id": "490333d5",
   "metadata": {},
   "outputs": [
    {
     "ename": "StopIteration",
     "evalue": "",
     "output_type": "error",
     "traceback": [
      "\u001b[1;31m---------------------------------------------------------------------------\u001b[0m",
      "\u001b[1;31mStopIteration\u001b[0m                             Traceback (most recent call last)",
      "Input \u001b[1;32mIn [12]\u001b[0m, in \u001b[0;36m<cell line: 1>\u001b[1;34m()\u001b[0m\n\u001b[1;32m----> 1\u001b[0m \u001b[38;5;28mprint\u001b[39m(\u001b[38;5;28;43mnext\u001b[39;49m\u001b[43m(\u001b[49m\u001b[43mr_nums\u001b[49m\u001b[43m)\u001b[49m)\n",
      "\u001b[1;31mStopIteration\u001b[0m: "
     ]
    }
   ],
   "source": [
    "print(next(r_nums))"
   ]
  },
  {
   "cell_type": "markdown",
   "id": "d3574c69",
   "metadata": {},
   "source": [
    "### chapter.5 함수"
   ]
  },
  {
   "cell_type": "code",
   "execution_count": 22,
   "id": "3e6992ef",
   "metadata": {},
   "outputs": [
    {
     "name": "stdout",
     "output_type": "stream",
     "text": [
      "돔황챠\n",
      "돔황챠\n",
      "돔황챠\n",
      "돔황챠\n",
      "돔황챠\n",
      "돔황챠\n",
      "돔황챠\n"
     ]
    }
   ],
   "source": [
    "# 1. 함수 만들기 : def 함수명 ():\n",
    "# (들여쓰기 후) 코드 작성\n",
    "\n",
    "def print_3_times(): # 매개변수 없는 함수 정의\n",
    "    print(\"Hello\")\n",
    "    print(\"hello\")\n",
    "    print(\"heLLo\")    # 함수는 항상 호출하기 전에 먼저 선언이 되어 있어야 함\n",
    "    \n",
    "    \n",
    "# 매개변수가 있는 함수 정의\n",
    "def print_n_times(value, n):\n",
    "    for i in range(n):\n",
    "        print(value) # 매개변수 만큼만 출력 가능함. \n",
    "        \n",
    "print_n_times('돔황챠',7)"
   ]
  },
  {
   "cell_type": "code",
   "execution_count": 33,
   "id": "b906f106",
   "metadata": {},
   "outputs": [
    {
     "name": "stdout",
     "output_type": "stream",
     "text": [
      "test\n",
      "hello\n",
      "python\n",
      "carry\n",
      "\n",
      "test\n",
      "hello\n",
      "python\n",
      "carry\n",
      "\n"
     ]
    }
   ],
   "source": [
    "# 가변 매개변수 : 함수명(매개변수,..., *가변 매개변수명)\n",
    "def print_n_var_times(n, *values):\n",
    "    for i in range(n):\n",
    "        for value in values:\n",
    "            print(value)\n",
    "        print()\n",
    "print_n_var_times(2, 'test', 'hello', 'python','carry')"
   ]
  },
  {
   "cell_type": "code",
   "execution_count": 35,
   "id": "10c8de65",
   "metadata": {},
   "outputs": [
    {
     "name": "stdout",
     "output_type": "stream",
     "text": [
      "test\n",
      "test\n",
      "\n",
      "hello\n",
      "hello\n",
      "hello\n",
      "\n"
     ]
    }
   ],
   "source": [
    "# 가변 매개변수 : 함수명(매개변수,..., *가변 매개변수명)\n",
    "def print_n_times(value, n=2):\n",
    "    for i in range(n):\n",
    "        print(value)\n",
    "    print()\n",
    "print_n_times('test')\n",
    "print_n_times('hello', n=3) # 함수 선언을 했었어도 n의 수를 바꾸면\n",
    "                            # 변경된 값이출력된다."
   ]
  },
  {
   "cell_type": "code",
   "execution_count": 40,
   "id": "df34199e",
   "metadata": {},
   "outputs": [
    {
     "ename": "TypeError",
     "evalue": "'str' object cannot be interpreted as an integer",
     "output_type": "error",
     "traceback": [
      "\u001b[1;31m---------------------------------------------------------------------------\u001b[0m",
      "\u001b[1;31mTypeError\u001b[0m                                 Traceback (most recent call last)",
      "Input \u001b[1;32mIn [40]\u001b[0m, in \u001b[0;36m<cell line: 7>\u001b[1;34m()\u001b[0m\n\u001b[0;32m      5\u001b[0m             \u001b[38;5;28mprint\u001b[39m(value)\n\u001b[0;32m      6\u001b[0m         \u001b[38;5;28mprint\u001b[39m()\n\u001b[1;32m----> 7\u001b[0m \u001b[43mprint_n_times\u001b[49m\u001b[43m(\u001b[49m\u001b[38;5;124;43m'\u001b[39;49m\u001b[38;5;124;43mtest\u001b[39;49m\u001b[38;5;124;43m'\u001b[39;49m\u001b[43m,\u001b[49m\u001b[43m \u001b[49m\u001b[38;5;124;43m'\u001b[39;49m\u001b[38;5;124;43mhello\u001b[39;49m\u001b[38;5;124;43m'\u001b[39;49m\u001b[43m,\u001b[49m\u001b[43m \u001b[49m\u001b[38;5;124;43m'\u001b[39;49m\u001b[38;5;124;43mpython\u001b[39;49m\u001b[38;5;124;43m'\u001b[39;49m\u001b[43m,\u001b[49m\u001b[38;5;124;43m'\u001b[39;49m\u001b[38;5;124;43mcarry\u001b[39;49m\u001b[38;5;124;43m'\u001b[39;49m\u001b[43m)\u001b[49m\n",
      "Input \u001b[1;32mIn [40]\u001b[0m, in \u001b[0;36mprint_n_times\u001b[1;34m(n, *values)\u001b[0m\n\u001b[0;32m      2\u001b[0m \u001b[38;5;28;01mdef\u001b[39;00m \u001b[38;5;21mprint_n_times\u001b[39m(n\u001b[38;5;241m=\u001b[39m\u001b[38;5;241m2\u001b[39m, \u001b[38;5;241m*\u001b[39mvalues, ):\n\u001b[1;32m----> 3\u001b[0m     \u001b[38;5;28;01mfor\u001b[39;00m i \u001b[38;5;129;01min\u001b[39;00m \u001b[38;5;28;43mrange\u001b[39;49m\u001b[43m(\u001b[49m\u001b[43mn\u001b[49m\u001b[43m)\u001b[49m:\n\u001b[0;32m      4\u001b[0m         \u001b[38;5;28;01mfor\u001b[39;00m value \u001b[38;5;129;01min\u001b[39;00m values:\n\u001b[0;32m      5\u001b[0m             \u001b[38;5;28mprint\u001b[39m(value)\n",
      "\u001b[1;31mTypeError\u001b[0m: 'str' object cannot be interpreted as an integer"
     ]
    }
   ],
   "source": [
    "# 기본 매개변수와 가변 매개변수가 같이 오는 경우 : 선 가변, 후 기본 순서\n",
    "def print_n_times(n=2, *values, ):\n",
    "    for i in range(n):\n",
    "        for value in values:\n",
    "            print(value)\n",
    "        print()\n",
    "print_n_times('test', 'hello', 'python','carry')  # n=2와 *value 순서 확인"
   ]
  },
  {
   "cell_type": "code",
   "execution_count": 42,
   "id": "8fbead80",
   "metadata": {},
   "outputs": [
    {
     "name": "stdout",
     "output_type": "stream",
     "text": [
      "test\n",
      "hello\n",
      "python\n",
      "carry\n",
      "\n",
      "test\n",
      "hello\n",
      "python\n",
      "carry\n",
      "\n"
     ]
    }
   ],
   "source": [
    "def print_n_times(*values, n=2 ):\n",
    "    for i in range(n):\n",
    "        for value in values:\n",
    "            print(value)\n",
    "        print()\n",
    "print_n_times('test', 'hello', 'python','carry')"
   ]
  },
  {
   "cell_type": "code",
   "execution_count": 50,
   "id": "f43d11fb",
   "metadata": {},
   "outputs": [
    {
     "name": "stdout",
     "output_type": "stream",
     "text": [
      "60\n",
      "40\n",
      "220\n",
      "320\n"
     ]
    }
   ],
   "source": [
    "# 일반 매개변수, 가변 매개변수, 키워드 매개변수\n",
    "def test_func(a, b=10, c=20):\n",
    "    print(a+b+c)\n",
    "test_func(a=10, b=20,c=30) # 10+20+30 = 40\n",
    "test_func(a=10) # 10+10+20 = 40\n",
    "test_func(c=100,b=20,a=100) # 순서 바꿔서 사용 가능\n",
    "test_func(a=10, c=300) # a= 10, b=10, c=300으로 계산 됨"
   ]
  },
  {
   "cell_type": "code",
   "execution_count": 56,
   "id": "9ed53551",
   "metadata": {},
   "outputs": [
    {
     "name": "stdout",
     "output_type": "stream",
     "text": [
      "60 130\n"
     ]
    }
   ],
   "source": [
    "def test_func(a, b=10, c=20):\n",
    "    return (a+b+c) # 함수 호출한 곳으로 값을 돌려줌\n",
    "\n",
    "a = test_func(a=10, b=20, c=30)\n",
    "b = test_func(100)\n",
    "print(a,b)"
   ]
  },
  {
   "cell_type": "code",
   "execution_count": 62,
   "id": "1ebd891e",
   "metadata": {},
   "outputs": [],
   "source": [
    "def test_f():\n",
    "    global atest\n",
    "    print(atest)\n",
    "    func_val = 'func var'"
   ]
  },
  {
   "cell_type": "code",
   "execution_count": 64,
   "id": "c1b67a00",
   "metadata": {},
   "outputs": [
    {
     "name": "stdout",
     "output_type": "stream",
     "text": [
      "test\n"
     ]
    },
    {
     "ename": "NameError",
     "evalue": "name 'func_val' is not defined",
     "output_type": "error",
     "traceback": [
      "\u001b[1;31m---------------------------------------------------------------------------\u001b[0m",
      "\u001b[1;31mNameError\u001b[0m                                 Traceback (most recent call last)",
      "Input \u001b[1;32mIn [64]\u001b[0m, in \u001b[0;36m<cell line: 3>\u001b[1;34m()\u001b[0m\n\u001b[0;32m      1\u001b[0m atest \u001b[38;5;241m=\u001b[39m \u001b[38;5;124m'\u001b[39m\u001b[38;5;124mtest\u001b[39m\u001b[38;5;124m'\u001b[39m\n\u001b[0;32m      2\u001b[0m test_f()\n\u001b[1;32m----> 3\u001b[0m \u001b[43mfunc_val\u001b[49m\n",
      "\u001b[1;31mNameError\u001b[0m: name 'func_val' is not defined"
     ]
    }
   ],
   "source": [
    "atest = 'test'\n",
    "test_f()\n",
    "func_val"
   ]
  },
  {
   "cell_type": "code",
   "execution_count": 114,
   "id": "80c3bee7",
   "metadata": {},
   "outputs": [],
   "source": [
    "# start, stop, step을 이용하여 합을 구하는 함수 작성\n",
    "def sum_func(start=0,stop=100,step=1):\n",
    "    total = 0\n",
    "    for i in range(start, stop+1,step):\n",
    "        total += i\n",
    "    return total"
   ]
  },
  {
   "cell_type": "code",
   "execution_count": 115,
   "id": "0f8001b6",
   "metadata": {},
   "outputs": [
    {
     "name": "stdout",
     "output_type": "stream",
     "text": [
      "0부터 100까지 합을 구함 :  5050\n",
      "0부터 100까지 짝수 합을 구함: 2550\n",
      "0부터 100까지 홀수 합을 구함: 2500\n"
     ]
    }
   ],
   "source": [
    "print(\"0부터 100까지 합을 구함 : \",sum_func())\n",
    "print(\"0부터 100까지 짝수 합을 구함:\",sum_func(step=2))\n",
    "print(\"0부터 100까지 홀수 합을 구함:\",sum_func(start=1, step=2))"
   ]
  },
  {
   "cell_type": "code",
   "execution_count": 122,
   "id": "bdeb53fb",
   "metadata": {},
   "outputs": [],
   "source": [
    "# 2. 함수의 활용 : 자기 함수 호출 -> 재귀 함수\n",
    "# factorial 함수 정의\n",
    "def fac_func(n):\n",
    "    if n == 0:\n",
    "        return 1\n",
    "    else:\n",
    "     return n * fac_func(n-1)"
   ]
  },
  {
   "cell_type": "code",
   "execution_count": 125,
   "id": "c2a8325f",
   "metadata": {},
   "outputs": [
    {
     "data": {
      "text/plain": [
       "24"
      ]
     },
     "execution_count": 125,
     "metadata": {},
     "output_type": "execute_result"
    }
   ],
   "source": [
    "fac_func(4)"
   ]
  },
  {
   "cell_type": "code",
   "execution_count": 129,
   "id": "d3592851",
   "metadata": {},
   "outputs": [],
   "source": [
    "# 피보나치를 구하는 함수 작성 : fibo(n) = fibo(n-1)+fibo(n-2)\n",
    "# n ==1 or 2이면 1\n",
    "def fibo(n):\n",
    "    global cnt\n",
    "    cnt +=1\n",
    "    if n == 1 or n == 2:\n",
    "        return 1\n",
    "    else:\n",
    "        return fibo(n-1)+fibo(n-2)"
   ]
  },
  {
   "cell_type": "code",
   "execution_count": 135,
   "id": "3825050e",
   "metadata": {},
   "outputs": [
    {
     "ename": "KeyboardInterrupt",
     "evalue": "",
     "output_type": "error",
     "traceback": [
      "\u001b[1;31m---------------------------------------------------------------------------\u001b[0m",
      "\u001b[1;31mKeyboardInterrupt\u001b[0m                         Traceback (most recent call last)",
      "Input \u001b[1;32mIn [135]\u001b[0m, in \u001b[0;36m<cell line: 2>\u001b[1;34m()\u001b[0m\n\u001b[0;32m      1\u001b[0m cnt \u001b[38;5;241m=\u001b[39m \u001b[38;5;241m0\u001b[39m\n\u001b[1;32m----> 2\u001b[0m \u001b[43mfibo\u001b[49m\u001b[43m(\u001b[49m\u001b[38;5;241;43m50\u001b[39;49m\u001b[43m)\u001b[49m\n",
      "Input \u001b[1;32mIn [129]\u001b[0m, in \u001b[0;36mfibo\u001b[1;34m(n)\u001b[0m\n\u001b[0;32m      7\u001b[0m     \u001b[38;5;28;01mreturn\u001b[39;00m \u001b[38;5;241m1\u001b[39m\n\u001b[0;32m      8\u001b[0m \u001b[38;5;28;01melse\u001b[39;00m:\n\u001b[1;32m----> 9\u001b[0m     \u001b[38;5;28;01mreturn\u001b[39;00m \u001b[43mfibo\u001b[49m\u001b[43m(\u001b[49m\u001b[43mn\u001b[49m\u001b[38;5;241;43m-\u001b[39;49m\u001b[38;5;241;43m1\u001b[39;49m\u001b[43m)\u001b[49m\u001b[38;5;241m+\u001b[39mfibo(n\u001b[38;5;241m-\u001b[39m\u001b[38;5;241m2\u001b[39m)\n",
      "Input \u001b[1;32mIn [129]\u001b[0m, in \u001b[0;36mfibo\u001b[1;34m(n)\u001b[0m\n\u001b[0;32m      7\u001b[0m     \u001b[38;5;28;01mreturn\u001b[39;00m \u001b[38;5;241m1\u001b[39m\n\u001b[0;32m      8\u001b[0m \u001b[38;5;28;01melse\u001b[39;00m:\n\u001b[1;32m----> 9\u001b[0m     \u001b[38;5;28;01mreturn\u001b[39;00m \u001b[43mfibo\u001b[49m\u001b[43m(\u001b[49m\u001b[43mn\u001b[49m\u001b[38;5;241;43m-\u001b[39;49m\u001b[38;5;241;43m1\u001b[39;49m\u001b[43m)\u001b[49m\u001b[38;5;241m+\u001b[39mfibo(n\u001b[38;5;241m-\u001b[39m\u001b[38;5;241m2\u001b[39m)\n",
      "    \u001b[1;31m[... skipping similar frames: fibo at line 9 (32 times)]\u001b[0m\n",
      "Input \u001b[1;32mIn [129]\u001b[0m, in \u001b[0;36mfibo\u001b[1;34m(n)\u001b[0m\n\u001b[0;32m      7\u001b[0m     \u001b[38;5;28;01mreturn\u001b[39;00m \u001b[38;5;241m1\u001b[39m\n\u001b[0;32m      8\u001b[0m \u001b[38;5;28;01melse\u001b[39;00m:\n\u001b[1;32m----> 9\u001b[0m     \u001b[38;5;28;01mreturn\u001b[39;00m fibo(n\u001b[38;5;241m-\u001b[39m\u001b[38;5;241m1\u001b[39m)\u001b[38;5;241m+\u001b[39m\u001b[43mfibo\u001b[49m\u001b[43m(\u001b[49m\u001b[43mn\u001b[49m\u001b[38;5;241;43m-\u001b[39;49m\u001b[38;5;241;43m2\u001b[39;49m\u001b[43m)\u001b[49m\n",
      "Input \u001b[1;32mIn [129]\u001b[0m, in \u001b[0;36mfibo\u001b[1;34m(n)\u001b[0m\n\u001b[0;32m      1\u001b[0m \u001b[38;5;66;03m# 피보나치를 구하는 함수 작성 : fibo(n) = fibo(n-1)+fibo(n-2)\u001b[39;00m\n\u001b[0;32m      2\u001b[0m \u001b[38;5;66;03m# n ==1 or 2이면 1\u001b[39;00m\n\u001b[1;32m----> 3\u001b[0m \u001b[38;5;28;01mdef\u001b[39;00m \u001b[38;5;21mfibo\u001b[39m(n):\n\u001b[0;32m      4\u001b[0m     \u001b[38;5;28;01mglobal\u001b[39;00m cnt\n\u001b[0;32m      5\u001b[0m     cnt \u001b[38;5;241m+\u001b[39m\u001b[38;5;241m=\u001b[39m\u001b[38;5;241m1\u001b[39m\n",
      "\u001b[1;31mKeyboardInterrupt\u001b[0m: "
     ]
    }
   ],
   "source": [
    "cnt = 0\n",
    "fibo(50)"
   ]
  },
  {
   "cell_type": "code",
   "execution_count": 136,
   "id": "494351ac",
   "metadata": {},
   "outputs": [],
   "source": [
    "# 메모화 : 메모 변수를 생성\n",
    "dict_mem = {1:1, 2:1}\n",
    "\n",
    "def fibo_mem(n):\n",
    "    global cnt\n",
    "    cnt += 1\n",
    "    if n in dict_mem:\n",
    "        return dict_mem[n]\n",
    "    else:\n",
    "        output = fibo_mem(n-1)+fibo_mem(n-2)\n",
    "        dict_mem[n] = output\n",
    "        return output"
   ]
  },
  {
   "cell_type": "code",
   "execution_count": 138,
   "id": "2e4be6b7",
   "metadata": {},
   "outputs": [
    {
     "data": {
      "text/plain": [
       "12586269025"
      ]
     },
     "execution_count": 138,
     "metadata": {},
     "output_type": "execute_result"
    }
   ],
   "source": [
    "fibo_mem(50)"
   ]
  },
  {
   "cell_type": "code",
   "execution_count": 139,
   "id": "b5470bae",
   "metadata": {},
   "outputs": [],
   "source": [
    "def fibo_mem(n):\n",
    "    global cnt\n",
    "    cnt += 1\n",
    "    if n in dict_mem:\n",
    "        return dict_mem[n]\n",
    "    \n",
    "    output = fibo_mem(n-1)+fibo_mem(n-2)\n",
    "    dict_mem[n] = output\n",
    "    return output"
   ]
  },
  {
   "cell_type": "code",
   "execution_count": 140,
   "id": "a8611485",
   "metadata": {},
   "outputs": [
    {
     "data": {
      "text/plain": [
       "354224848179261915075"
      ]
     },
     "execution_count": 140,
     "metadata": {},
     "output_type": "execute_result"
    }
   ],
   "source": [
    "fibo_mem(100)"
   ]
  },
  {
   "cell_type": "code",
   "execution_count": 144,
   "id": "0e54ffad",
   "metadata": {},
   "outputs": [
    {
     "name": "stdout",
     "output_type": "stream",
     "text": [
      "10\n",
      "20 10\n",
      "10 20\n"
     ]
    }
   ],
   "source": [
    "# 3. 함수 고급 : tuple -> ()로 사용, lambda 함수\n",
    "(a, b) = (10, 20)\n",
    "print(a)\n",
    "\n",
    "b, a = a, b\n",
    "print(a,b)\n",
    "print(b,a)"
   ]
  },
  {
   "cell_type": "code",
   "execution_count": 156,
   "id": "341fbc81",
   "metadata": {},
   "outputs": [
    {
     "name": "stdout",
     "output_type": "stream",
     "text": [
      "10 20\n",
      "20 10\n",
      "30\n"
     ]
    }
   ],
   "source": [
    "def test():\n",
    "    return (10, 20) # -> 괄호를 써도 안써도 무방하나 가독성을 위해 사용 추천\n",
    "a, b = test()\n",
    "print(a, b)\n",
    "print(b, a)\n",
    "print(a + b)"
   ]
  },
  {
   "cell_type": "code",
   "execution_count": 155,
   "id": "cab606cc",
   "metadata": {},
   "outputs": [
    {
     "name": "stdout",
     "output_type": "stream",
     "text": [
      "0번째의 값 1\n",
      "1번째의 값 2\n",
      "2번째의 값 3\n",
      "3번째의 값 4\n",
      "tuple의 값: 10\n",
      "tuple의 값: 20\n",
      "tuple의 값: 30\n"
     ]
    },
    {
     "ename": "TypeError",
     "evalue": "'tuple' object does not support item assignment",
     "output_type": "error",
     "traceback": [
      "\u001b[1;31m---------------------------------------------------------------------------\u001b[0m",
      "\u001b[1;31mTypeError\u001b[0m                                 Traceback (most recent call last)",
      "Input \u001b[1;32mIn [155]\u001b[0m, in \u001b[0;36m<cell line: 8>\u001b[1;34m()\u001b[0m\n\u001b[0;32m      6\u001b[0m \u001b[38;5;28;01mfor\u001b[39;00m value \u001b[38;5;129;01min\u001b[39;00m a_tuple:\n\u001b[0;32m      7\u001b[0m     \u001b[38;5;28mprint\u001b[39m(\u001b[38;5;124m\"\u001b[39m\u001b[38;5;124mtuple의 값:\u001b[39m\u001b[38;5;124m\"\u001b[39m,value)\n\u001b[1;32m----> 8\u001b[0m a_tuple[\u001b[38;5;241m0\u001b[39m] \u001b[38;5;241m=\u001b[39m \u001b[38;5;241m10\u001b[39m\n",
      "\u001b[1;31mTypeError\u001b[0m: 'tuple' object does not support item assignment"
     ]
    }
   ],
   "source": [
    "# tuple -> a_tuple = (10,20,30) -> 자료의 수정 불가능\n",
    "for i, value in enumerate([1,2,3,4]):\n",
    "    print(\"{}번째의 값 {}\".format(i,value))\n",
    "    \n",
    "a_tuple = (10,20,30)\n",
    "for value in a_tuple:\n",
    "    print(\"tuple의 값:\",value)\n",
    "a_tuple[0] = 10 # tuple은 자료 수정 불가"
   ]
  },
  {
   "cell_type": "code",
   "execution_count": 160,
   "id": "ad694008",
   "metadata": {},
   "outputs": [
    {
     "name": "stdout",
     "output_type": "stream",
     "text": [
      "hello\n",
      "hello\n",
      "hello\n",
      "hello\n",
      "hello\n"
     ]
    }
   ],
   "source": [
    "# 람다 : lambda\n",
    "# 함수의 매개변수로 함수명 전달하기\n",
    "def call_times(func):\n",
    "    for i in range(5):\n",
    "        func()\n",
    "def print_hello():\n",
    "    print(\"hello\")\n",
    "\n",
    "call_times(print_hello)\n",
    "# 함수 또한 매개변수의 값으로 들어갈 수 있다.\n",
    "    "
   ]
  },
  {
   "cell_type": "code",
   "execution_count": 161,
   "id": "5eae4423",
   "metadata": {},
   "outputs": [],
   "source": [
    "def power(item):\n",
    "    return item * item\n",
    "def under_3(item):\n",
    "    return item < 3"
   ]
  },
  {
   "cell_type": "code",
   "execution_count": 167,
   "id": "41256bb1",
   "metadata": {},
   "outputs": [
    {
     "name": "stdout",
     "output_type": "stream",
     "text": [
      "[1, 4, 9, 16, 25]\n",
      "[1, 2]\n"
     ]
    }
   ],
   "source": [
    "input_list = [1,2,3,4,5]\n",
    "\n",
    "# map() : map(함수명, 리스트) -> 리스트의 각각의 값을 함수에 적용\n",
    "\n",
    "output = map(power, input_list)\n",
    "print(list(output))\n",
    "\n",
    "# filter(함수명, 리스트) -> 함수에 조건식으로 return, return값이\n",
    "# True인 자료만 추출\n",
    "\n",
    "print(list(filter(under_3, input_list)))"
   ]
  },
  {
   "cell_type": "code",
   "execution_count": 169,
   "id": "f29a37d6",
   "metadata": {},
   "outputs": [
    {
     "name": "stdout",
     "output_type": "stream",
     "text": [
      "[1, 4, 9, 16, 25]\n",
      "[1, 2]\n"
     ]
    }
   ],
   "source": [
    "# lambda 매개변수 : 리턴 값\n",
    "power = lambda x: x*x\n",
    "under_3 = lambda x: x < 3\n",
    "\n",
    "input_list = [1,2,3,4,5]\n",
    "\n",
    "# map() : map(함수명, 리스트) -> 리스트의 각각의 값을 함수에 적용\n",
    "\n",
    "output = map(power, input_list)\n",
    "print(list(output))\n",
    "\n",
    "# filter(함수명, 리스트) -> 함수에 조건식으로 return, return값이\n",
    "# True인 자료만 추출\n",
    "\n",
    "print(list(filter(under_3, input_list)))"
   ]
  },
  {
   "cell_type": "code",
   "execution_count": 172,
   "id": "3999897d",
   "metadata": {},
   "outputs": [
    {
     "name": "stdout",
     "output_type": "stream",
     "text": [
      "[1, 4, 9, 16, 25]\n",
      "[1, 2]\n"
     ]
    }
   ],
   "source": [
    "# lambda는 함수가 들어갈 자리에 넣어서 사용 가능\n",
    "# lambda 자체는 문장에서 한번 사용 후 소멸\n",
    "# but 위에서 선언한 power = lambda 는 계속 남아있음.\n",
    "\n",
    "input_list = [1,2,3,4,5]\n",
    "\n",
    "output = map(lambda x: x * x,input_list)\n",
    "print(list(output))\n",
    "\n",
    "print(list(filter(lambda x: x<3, input_list)))"
   ]
  },
  {
   "cell_type": "code",
   "execution_count": 173,
   "id": "e055abca",
   "metadata": {},
   "outputs": [],
   "source": [
    "# 파일처리 : oper(), file.write(), file.close(), file.read()\n",
    "# 현재 경로에서 새로운 디렉토리 dataset을 생성\n",
    "# dataset 안에 새로운 파일 test.txt 파일 생성\n",
    "# test.txt 파일에 'hello python programming'을 작성하고 파일 close\n",
    "!mkdir dataset"
   ]
  },
  {
   "cell_type": "code",
   "execution_count": 174,
   "id": "fc246209",
   "metadata": {},
   "outputs": [],
   "source": [
    "file = open('./dataset/test.txt', 'w')\n",
    "file.write('hello python programming')\n",
    "file.close() # << 파일은 항상 확실히 닫아야 함\n",
    "\n",
    "#w : 쓰기 r : 읽기 a : 수정"
   ]
  },
  {
   "cell_type": "code",
   "execution_count": 185,
   "id": "404deb16",
   "metadata": {},
   "outputs": [
    {
     "name": "stdout",
     "output_type": "stream",
     "text": [
      " hello python programming read  hello python programming read  hello python programming  hello python programming \n"
     ]
    }
   ],
   "source": [
    "file = open('./dataset/test.txt', 'r+')\n",
    "contents = file.read()\n",
    "print(contents)\n",
    "file.write(' hello python programming ')\n",
    "file.close()"
   ]
  },
  {
   "cell_type": "code",
   "execution_count": 188,
   "id": "1155179f",
   "metadata": {},
   "outputs": [
    {
     "name": "stdout",
     "output_type": "stream",
     "text": [
      " hello python programming read  hello python programming read  hello python programming  hello python programming  hello python programming \n"
     ]
    },
    {
     "ename": "ValueError",
     "evalue": "I/O operation on closed file.",
     "output_type": "error",
     "traceback": [
      "\u001b[1;31m---------------------------------------------------------------------------\u001b[0m",
      "\u001b[1;31mValueError\u001b[0m                                Traceback (most recent call last)",
      "Input \u001b[1;32mIn [188]\u001b[0m, in \u001b[0;36m<cell line: 5>\u001b[1;34m()\u001b[0m\n\u001b[0;32m      3\u001b[0m     contents \u001b[38;5;241m=\u001b[39m file\u001b[38;5;241m.\u001b[39mread()\n\u001b[0;32m      4\u001b[0m \u001b[38;5;28mprint\u001b[39m(contents)\n\u001b[1;32m----> 5\u001b[0m \u001b[43mfile\u001b[49m\u001b[38;5;241;43m.\u001b[39;49m\u001b[43mwrite\u001b[49m\u001b[43m(\u001b[49m\u001b[38;5;124;43m'\u001b[39;49m\u001b[38;5;124;43mtest\u001b[39;49m\u001b[38;5;124;43m'\u001b[39;49m\u001b[43m)\u001b[49m\n",
      "\u001b[1;31mValueError\u001b[0m: I/O operation on closed file."
     ]
    }
   ],
   "source": [
    "# file open with 와 같이 사용 -> wiht 종료시 자동으로 file close됨.\n",
    "with open('./dataset/test.txt', 'r+') as file:\n",
    "    contents = file.read()\n",
    "print(contents)\n",
    "file.write('test')\n",
    "\n",
    "# 이미 파일이 닫혔다는 error 출력"
   ]
  },
  {
   "cell_type": "code",
   "execution_count": 190,
   "id": "751f21c8",
   "metadata": {},
   "outputs": [
    {
     "data": {
      "text/plain": [
       "'C:\\\\Users\\\\HPE\\\\Desktop\\\\python-src'"
      ]
     },
     "execution_count": 190,
     "metadata": {},
     "output_type": "execute_result"
    }
   ],
   "source": [
    "import os\n",
    "os.getcwd() # 현재 작업중인 디렉토리의 전체 경로 확인"
   ]
  },
  {
   "cell_type": "code",
   "execution_count": 195,
   "id": "2d2920e5",
   "metadata": {},
   "outputs": [],
   "source": [
    "\n",
    "import random\n",
    "hanguls = list(\"가나다라마바사아자차카타파하\")\n",
    "with open(\"info,txt\",\"w\") as file:\n",
    "    for i in range(1000):\n",
    "        name = random.choice(hanguls)+random.choice(hanguls)\n",
    "        weight = random.randrange(40, 100)\n",
    "        height = random.randrange(140, 200)\n",
    "        file.write(\"{},{},{}\\n\".format(name,height,weight))"
   ]
  },
  {
   "cell_type": "code",
   "execution_count": 194,
   "id": "d5890785",
   "metadata": {},
   "outputs": [
    {
     "name": "stdout",
     "output_type": "stream",
     "text": [
      "main test\n",
      "first\n",
      "1\n",
      "main 111 test\n",
      "second\n",
      "2\n",
      "main 222 test\n",
      "third\n"
     ]
    },
    {
     "ename": "StopIteration",
     "evalue": "",
     "output_type": "error",
     "traceback": [
      "\u001b[1;31m---------------------------------------------------------------------------\u001b[0m",
      "\u001b[1;31mStopIteration\u001b[0m                             Traceback (most recent call last)",
      "Input \u001b[1;32mIn [194]\u001b[0m, in \u001b[0;36m<cell line: 21>\u001b[1;34m()\u001b[0m\n\u001b[0;32m     18\u001b[0m \u001b[38;5;28mprint\u001b[39m(a)\n\u001b[0;32m     20\u001b[0m \u001b[38;5;28mprint\u001b[39m(\u001b[38;5;124m\"\u001b[39m\u001b[38;5;124mmain 222 test\u001b[39m\u001b[38;5;124m\"\u001b[39m)\n\u001b[1;32m---> 21\u001b[0m a \u001b[38;5;241m=\u001b[39m \u001b[38;5;28;43mnext\u001b[39;49m\u001b[43m(\u001b[49m\u001b[43mo_func\u001b[49m\u001b[43m)\u001b[49m\n\u001b[0;32m     22\u001b[0m \u001b[38;5;28mprint\u001b[39m(a)\n",
      "\u001b[1;31mStopIteration\u001b[0m: "
     ]
    }
   ],
   "source": [
    "# 제너레이터 함수 작성 : 함수 내부에 yield 키워드 사용\n",
    "def gen_test():\n",
    "    print('first')\n",
    "    yield 1\n",
    "    \n",
    "    print('second')\n",
    "    yield 2\n",
    "    \n",
    "    print('third')\n",
    "\n",
    "o_func = gen_test()\n",
    "print(\"main test\")\n",
    "a = next(o_func)\n",
    "print(a)\n",
    "\n",
    "print(\"main 111 test\")\n",
    "a = next(o_func)\n",
    "print(a)\n",
    "\n",
    "print(\"main 222 test\")\n",
    "a = next(o_func)\n",
    "print(a)"
   ]
  },
  {
   "cell_type": "code",
   "execution_count": 202,
   "id": "24bb6718",
   "metadata": {},
   "outputs": [
    {
     "name": "stdout",
     "output_type": "stream",
     "text": [
      "{'제목': '혼자 공부하는 파이썬', '가격': 18000}\n",
      "{'제목': '혼자 공부하는 파이썬222', '가격': 26000}\n"
     ]
    }
   ],
   "source": [
    "book = [{\"제목\": '혼자 공부하는 파이썬',\"가격\": 18000},\n",
    "        {\"제목\": '혼자 공부하는 파이썬222',\"가격\" : 26000},\n",
    "        {\"제목\": '혼자 공부하는 자바',\"가격\" : 24000}]\n",
    "\n",
    "# 가격이 가장 저렴한 책의 정보 출력\n",
    "print(min(book, key=lambda book: book['가격']))\n",
    "\n",
    "# 가격이 가장 비싼 책의 정보 출력\n",
    "print(max(book, key=lambda book: book['가격']))"
   ]
  },
  {
   "cell_type": "code",
   "execution_count": 203,
   "id": "65c5fe3c",
   "metadata": {},
   "outputs": [
    {
     "data": {
      "text/plain": [
       "{'제목': '혼자 공부하는 파이썬', '가격': 18000}"
      ]
     },
     "execution_count": 203,
     "metadata": {},
     "output_type": "execute_result"
    }
   ],
   "source": [
    "def 가격추출함수(book):\n",
    "    return book['가격']\n",
    "\n",
    "min(book, key = 가격추출함수)"
   ]
  },
  {
   "cell_type": "code",
   "execution_count": 205,
   "id": "65e2d0e2",
   "metadata": {},
   "outputs": [
    {
     "name": "stdout",
     "output_type": "stream",
     "text": [
      "[{'제목': '혼자 공부하는 파이썬', '가격': 18000}, {'제목': '혼자 공부하는 자바', '가격': 24000}, {'제목': '혼자 공부하는 파이썬222', '가격': 26000}]\n",
      "[{'제목': '혼자 공부하는 파이썬', '가격': 18000}, {'제목': '혼자 공부하는 자바', '가격': 24000}, {'제목': '혼자 공부하는 파이썬222', '가격': 26000}]\n",
      "[{'제목': '혼자 공부하는 파이썬', '가격': 18000}, {'제목': '혼자 공부하는 자바', '가격': 24000}, {'제목': '혼자 공부하는 파이썬222', '가격': 26000}]\n"
     ]
    }
   ],
   "source": [
    "book.sort(key=lambda book: book['가격'])\n",
    "for books in book:\n",
    "    print(book)"
   ]
  },
  {
   "cell_type": "code",
   "execution_count": 213,
   "id": "b3f93102",
   "metadata": {},
   "outputs": [
    {
     "data": {
      "text/plain": [
       "[1, 100, 3, 4, 5]"
      ]
     },
     "execution_count": 213,
     "metadata": {},
     "output_type": "execute_result"
    }
   ],
   "source": [
    "a = [1,2,3,4,5]\n",
    "b = a\n",
    "b[1] = 100\n",
    "# 자리가 변경 ex) b[1]이면 [1,100,3,4,5,]\n",
    "a"
   ]
  },
  {
   "cell_type": "code",
   "execution_count": 211,
   "id": "3e4e2cce",
   "metadata": {},
   "outputs": [
    {
     "name": "stdout",
     "output_type": "stream",
     "text": [
      "a :  [100, 2, 3, 4, 5]\n",
      "c :  [100, 300, 3, 4, 5]\n"
     ]
    }
   ],
   "source": [
    "c = a.copy()\n",
    "c[1] = 300\n",
    "print(\"a : \", a)\n",
    "print(\"c : \", c)"
   ]
  },
  {
   "cell_type": "markdown",
   "id": "c34d1e33",
   "metadata": {},
   "source": [
    "# chapter 6. 예외 처리\n"
   ]
  },
  {
   "cell_type": "code",
   "execution_count": 215,
   "id": "694e397e",
   "metadata": {},
   "outputs": [
    {
     "name": "stdout",
     "output_type": "stream",
     "text": [
      "정수 입력: 12\n",
      "원의 반지름:  12\n",
      "원의 둘레:  75.36\n"
     ]
    }
   ],
   "source": [
    "# 실행 오류 : try ~ except ~ else ~ finally\n",
    "# 실행 오류가 발생할 수 있는 코드 작성\n",
    "try:\n",
    "    input_num = int(input(\"정수 입력: \"))\n",
    "    \n",
    "    print(\"원의 반지름: \", input_num)\n",
    "    print(\"원의 둘레: \", input_num * 2 * 3.14)\n",
    "except:\n",
    "    print(\"정수가 입력되지 않음\")\n",
    "    "
   ]
  },
  {
   "cell_type": "code",
   "execution_count": 220,
   "id": "2973ae16",
   "metadata": {},
   "outputs": [
    {
     "name": "stdout",
     "output_type": "stream",
     "text": [
      "정수 입력: 10\n",
      "원의 반지름:  10\n",
      "원의 둘레:  62.800000000000004\n",
      "prgram end !!\n"
     ]
    }
   ],
   "source": [
    "# 실행 오류가 발생할 수 있는 코드 작성\n",
    "# try ~ excpet -> 기본 구문, try가 오면 except가 필수\n",
    "# try:\n",
    "#     예외 발생 코드\n",
    "# except:\n",
    "#     예외 발생시 실행코드\n",
    "# else:\n",
    "#     정상 작동시 실행 코드\n",
    "\n",
    "\n",
    "try:\n",
    "    input_num = int(input(\"정수 입력: \"))\n",
    "except:\n",
    "    print(\"정수가 입력되지 않음\")\n",
    "else:\n",
    "    print(\"원의 반지름: \", input_num)\n",
    "    print(\"원의 둘레: \", input_num * 2 * 3.14)\n",
    "finally:\n",
    "    print(\"prgram end !!\") #무조건 실행, 뒤져도 실행\n",
    "    "
   ]
  },
  {
   "cell_type": "code",
   "execution_count": 239,
   "id": "e809d3fb",
   "metadata": {},
   "outputs": [
    {
     "name": "stdout",
     "output_type": "stream",
     "text": [
      "이름 성적 입력: a 10\n",
      "정상 입력\n",
      "try end!!\n"
     ]
    },
    {
     "data": {
      "text/plain": [
       "True"
      ]
     },
     "execution_count": 239,
     "metadata": {},
     "output_type": "execute_result"
    }
   ],
   "source": [
    "# file 처리시 예외 처리 응용\n",
    "try:\n",
    "    file = open('./dataset/try.txt', 'w')\n",
    "    input_data = input(\"이름 성적 입력: \").split()\n",
    "    score = int(input_data[1])\n",
    "    file.write(\"input_data\" + str(score))\n",
    "except Exception as e:\n",
    "    print(\"입력 자료 검증: \",e)\n",
    "else:\n",
    "    print(\"정상 입력\")\n",
    "finally:\n",
    "    print(\"try end!!\")\n",
    "    file.close()\n",
    "\n",
    "#file.write('\\nend\\n')\n",
    "file.closed"
   ]
  },
  {
   "cell_type": "code",
   "execution_count": 242,
   "id": "81a2c44e",
   "metadata": {},
   "outputs": [
    {
     "name": "stdout",
     "output_type": "stream",
     "text": [
      "try 구문 실행 \n",
      "try end !\n"
     ]
    }
   ],
   "source": [
    "def test_func():\n",
    "    try:\n",
    "        print(\"try 구문 실행 \")\n",
    "        return\n",
    "    except:\n",
    "        print(\"except 구문 실행 \")\n",
    "    else:\n",
    "        print(\"else 구문 실행 \")\n",
    "    finally:\n",
    "        print(\"try end !\")\n",
    "test_func()"
   ]
  },
  {
   "cell_type": "code",
   "execution_count": 244,
   "id": "64520eaf",
   "metadata": {},
   "outputs": [
    {
     "name": "stdout",
     "output_type": "stream",
     "text": [
      "try 구문 실행 \n",
      "try end !\n",
      "try 구문 실행 \n",
      "try end !\n"
     ]
    }
   ],
   "source": [
    "while True:\n",
    "    try:\n",
    "        print(\"try 구문 실행 \")\n",
    "        break\n",
    "    except:\n",
    "        print(\"except 구문 실행 \")\n",
    "    else:\n",
    "        print(\"else 구문 실행 \")\n",
    "    finally:\n",
    "        print(\"try end !\")\n",
    "test_func()"
   ]
  },
  {
   "cell_type": "code",
   "execution_count": null,
   "id": "514be8d2",
   "metadata": {},
   "outputs": [],
   "source": []
  },
  {
   "cell_type": "code",
   "execution_count": null,
   "id": "ec5f381d",
   "metadata": {},
   "outputs": [],
   "source": []
  },
  {
   "cell_type": "code",
   "execution_count": null,
   "id": "c995006a",
   "metadata": {},
   "outputs": [],
   "source": []
  },
  {
   "cell_type": "code",
   "execution_count": null,
   "id": "f832ecb6",
   "metadata": {},
   "outputs": [],
   "source": []
  },
  {
   "cell_type": "code",
   "execution_count": null,
   "id": "ffe5a82b",
   "metadata": {},
   "outputs": [],
   "source": []
  },
  {
   "cell_type": "code",
   "execution_count": null,
   "id": "ff2c28e2",
   "metadata": {},
   "outputs": [],
   "source": []
  },
  {
   "cell_type": "code",
   "execution_count": null,
   "id": "a056db57",
   "metadata": {},
   "outputs": [],
   "source": []
  },
  {
   "cell_type": "code",
   "execution_count": null,
   "id": "a49c5943",
   "metadata": {},
   "outputs": [],
   "source": []
  },
  {
   "cell_type": "code",
   "execution_count": null,
   "id": "4216030a",
   "metadata": {},
   "outputs": [],
   "source": []
  }
 ],
 "metadata": {
  "kernelspec": {
   "display_name": "Python 3 (ipykernel)",
   "language": "python",
   "name": "python3"
  },
  "language_info": {
   "codemirror_mode": {
    "name": "ipython",
    "version": 3
   },
   "file_extension": ".py",
   "mimetype": "text/x-python",
   "name": "python",
   "nbconvert_exporter": "python",
   "pygments_lexer": "ipython3",
   "version": "3.9.12"
  }
 },
 "nbformat": 4,
 "nbformat_minor": 5
}
