{
 "cells": [
  {
   "cell_type": "code",
   "execution_count": null,
   "id": "558e5acd",
   "metadata": {},
   "outputs": [],
   "source": [
    "#1. 학생의 이름과 점수( 국어, 영어, 수학 )를 입력 받아 저장한 후\n",
    "#2. 저장된 자료의 이름과 각 학생의 성적, 총점, 평균을 구하세요\n",
    "#3. 가장 성적이 좋은 학생의 이름과 총점을 출력\n",
    "#4. 가장 성적이 나쁜 학생의 이름과 총점을 출력\n",
    "#5. 전체 학생의 인원수와 전체 평균을 구하세요\n",
    "# 조건: class 사용, 모든 문제는 함수로 구현"
   ]
  },
  {
   "cell_type": "code",
   "execution_count": 34,
   "id": "7fb012c3",
   "metadata": {},
   "outputs": [],
   "source": [
    "class Student:\n",
    "    def __init__(self, name, scores):\n",
    "        self.name = name\n",
    "        self.scores = scores\n",
    "    \n",
    "    def __str__(self):\n",
    "        out_score = ''\n",
    "        for score in self.scores:   #  학생의 각 점수 연결\n",
    "            out_score += '\\t{}'.format(score)\n",
    "        \n",
    "        return \"{}{}\\t{}\\t{:3.2f}\".format(self.name, out_score,\n",
    "                                    self.get_sum(),self.get_avg())\n",
    "    \n",
    "    def get_sum(self):\n",
    "        total = 0\n",
    "        for score in self.scores:\n",
    "            total += score\n",
    "        return total\n",
    "    \n",
    "    def get_avg(self):\n",
    "        return self.get_sum() / 3\n",
    "    \n",
    "    def __gt__(self, value):\n",
    "        return self.get_sum() > value.get_sum()"
   ]
  },
  {
   "cell_type": "code",
   "execution_count": 46,
   "id": "ace0e80e",
   "metadata": {},
   "outputs": [],
   "source": [
    "def input_func(students):\n",
    "    while True:\n",
    "        name = input(\"이름 입력 : \")\n",
    "        if name in 'qQ':\n",
    "            break\n",
    "        scores = input(\"국어 영어 수학 성적 입력 : \").split()\n",
    "        if len(scores) != 3:\n",
    "            continue\n",
    "        for idx, score in enumerate(scores):\n",
    "            scores[idx] = int(score)\n",
    "        students.append(Student(name, scores))\n",
    "\n",
    "def print_func(students):\n",
    "    print(\"------------------- 학생 정보 --------------------\\n\")\n",
    "    print(\"이름\\t국어\\t영어\\t수학\\t총점\\t평균\\n\")\n",
    "    for student in students:\n",
    "        print(str(student))\n",
    "    print(\"\\n-------------------------------------------------\")   \n",
    "    \n",
    "def search_max(students):\n",
    "    max_student = students[0]\n",
    "    for student in students:\n",
    "        if not max_student > student:\n",
    "            max_student = student\n",
    "    return max_student\n",
    "\n",
    "def search_min(students):\n",
    "    min_student = students[0]\n",
    "    for student in students:\n",
    "        if  min_student > student:\n",
    "            min_student = student\n",
    "    return min_student\n",
    "\n",
    "def get_avg(students):\n",
    "    total = 0\n",
    "    for student in students:\n",
    "        total += sum(student.scores)\n",
    "    return total"
   ]
  },
  {
   "cell_type": "code",
   "execution_count": 44,
   "id": "f850089f",
   "metadata": {},
   "outputs": [
    {
     "name": "stdout",
     "output_type": "stream",
     "text": [
      "이름 입력 : a\n",
      "국어 영어 수학 성적 입력 : 8 8 9\n",
      "이름 입력 : b\n",
      "국어 영어 수학 성적 입력 : 7 8 9\n",
      "이름 입력 : c\n",
      "국어 영어 수학 성적 입력 : 4 5 6\n",
      "이름 입력 : d\n",
      "국어 영어 수학 성적 입력 : 9 9 10\n",
      "이름 입력 : e\n",
      "국어 영어 수학 성적 입력 : 7 8 2\n",
      "이름 입력 : q\n",
      "------------- 학생 정보 ------------\n",
      "\n",
      "이름\t국어\t영어\t수학\t총점\t평균\n",
      "\n",
      "a\t8\t8\t9\t25\t8.33\n",
      "b\t7\t8\t9\t24\t8.00\n",
      "c\t4\t5\t6\t15\t5.00\n",
      "d\t9\t9\t10\t28\t9.33\n",
      "e\t7\t8\t2\t17\t5.67\n",
      "\n",
      "------------------------------------\n",
      "최고점수 :  d 28\n",
      "최저점수 :  c 15\n",
      "전체 학생의 인원수 5 , 평균 21.80\n"
     ]
    }
   ],
   "source": [
    "students = []\n",
    "if __name__ == '__main__':\n",
    "    input_func(students)\n",
    "    print_func(students)\n",
    "    max_student = search_max(students)\n",
    "    print(\"최고점수 : \",max_student.name, max_student.get_sum())\n",
    "    min_student = search_min(students)\n",
    "    print(\"최저점수 : \",min_student.name, min_student.get_sum())\n",
    "    print(\"전체 학생의 인원수 {} , 평균 {:3.2f}\".format(len(students),\n",
    "                                  get_avg(students)/len(students)))\n",
    "    "
   ]
  },
  {
   "cell_type": "code",
   "execution_count": 47,
   "id": "e7014c7b",
   "metadata": {},
   "outputs": [
    {
     "name": "stdout",
     "output_type": "stream",
     "text": [
      "------------------- 학생 정보 --------------------\n",
      "\n",
      "이름\t국어\t영어\t수학\t총점\t평균\n",
      "\n",
      "a\t8\t8\t9\t25\t8.33\n",
      "b\t7\t8\t9\t24\t8.00\n",
      "c\t4\t5\t6\t15\t5.00\n",
      "d\t9\t9\t10\t28\t9.33\n",
      "e\t7\t8\t2\t17\t5.67\n",
      "\n",
      "-------------------------------------------------\n",
      "최고점수 :  d 28\n",
      "최저점수 :  c 15\n",
      "전체 학생의 인원수 5 , 평균 21.80\n"
     ]
    }
   ],
   "source": [
    "print_func(students)\n",
    "max_student = search_max(students)\n",
    "print(\"최고점수 : \",max_student.name, max_student.get_sum())\n",
    "min_student = search_min(students)\n",
    "print(\"최저점수 : \",min_student.name, min_student.get_sum())\n",
    "print(\"전체 학생의 인원수 {} , 평균 {:3.2f}\".format(len(students),\n",
    "                              get_avg(students)/len(students)))"
   ]
  }
 ],
 "metadata": {
  "kernelspec": {
   "display_name": "Python 3 (ipykernel)",
   "language": "python",
   "name": "python3"
  },
  "language_info": {
   "codemirror_mode": {
    "name": "ipython",
    "version": 3
   },
   "file_extension": ".py",
   "mimetype": "text/x-python",
   "name": "python",
   "nbconvert_exporter": "python",
   "pygments_lexer": "ipython3",
   "version": "3.9.12"
  }
 },
 "nbformat": 4,
 "nbformat_minor": 5
}
