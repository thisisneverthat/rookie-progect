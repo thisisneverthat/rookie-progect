{
 "cells": [
  {
   "cell_type": "code",
   "execution_count": null,
   "id": "a836dc23",
   "metadata": {},
   "outputs": [],
   "source": [
    "# 키워드 확인\n",
    "import keyword\n",
    "\n",
    "print(keyword.kwlist)"
   ]
  },
  {
   "cell_type": "code",
   "execution_count": 1,
   "id": "5c44f907",
   "metadata": {},
   "outputs": [
    {
     "name": "stdout",
     "output_type": "stream",
     "text": [
      "테스트\n"
     ]
    }
   ],
   "source": [
    "print(\"테스트\") # 하나의 문자열 출력"
   ]
  },
  {
   "cell_type": "code",
   "execution_count": 5,
   "id": "3a49b3f0",
   "metadata": {},
   "outputs": [
    {
     "name": "stdout",
     "output_type": "stream",
     "text": [
      "test 10 20 + 30 =  50\n"
     ]
    }
   ],
   "source": [
    "print(\"test\", 10, '20 + 30 = ', 20 +30)"
   ]
  },
  {
   "cell_type": "code",
   "execution_count": 8,
   "id": "61154788",
   "metadata": {},
   "outputs": [
    {
     "name": "stdout",
     "output_type": "stream",
     "text": [
      "test\t10\t20 + 30 = \t50\n"
     ]
    }
   ],
   "source": [
    "print(\"test\", 10, '20 + 30 = ', 20 +30, sep='\\t')"
   ]
  },
  {
   "cell_type": "code",
   "execution_count": 10,
   "id": "159aa144",
   "metadata": {},
   "outputs": [
    {
     "name": "stdout",
     "output_type": "stream",
     "text": [
      "test\t10\t20 + 30 = \t50\n",
      "abcd\n"
     ]
    }
   ],
   "source": [
    "print(\"test\", 10, '20 + 30 = ', 20 +30, sep='\\t')\n",
    "print('abcd')"
   ]
  },
  {
   "cell_type": "code",
   "execution_count": 3,
   "id": "18dee013",
   "metadata": {},
   "outputs": [
    {
     "name": "stdout",
     "output_type": "stream",
     "text": [
      "test\t10\t20 + 30 = \t50#### abcd\n"
     ]
    }
   ],
   "source": [
    "print(\"test\", 10, '20 + 30 = ', 20 +30, sep='\\t', end='#### ')\n",
    "print('abcd')"
   ]
  },
  {
   "cell_type": "code",
   "execution_count": 4,
   "id": "d2d53752",
   "metadata": {},
   "outputs": [],
   "source": [
    "# 키워드 import keword -> keyword.keylist 에서 확인 가능\n",
    "# 식별자 : 문자  시작, 특수문자는 _만 가능, 숫자 시작 안됨, 공백 안됨, 키워드 안됨\n",
    "# 식별자 작성 규칙 : carmel(클래스), snake type(함수, 변수) 두가지. 함수는()"
   ]
  },
  {
   "cell_type": "markdown",
   "id": "4397e00f",
   "metadata": {},
   "source": [
    "## chapter 02 자료형\n",
    "### 01. 자료형과 문자열"
   ]
  },
  {
   "cell_type": "code",
   "execution_count": 17,
   "id": "ac32247c",
   "metadata": {},
   "outputs": [
    {
     "name": "stdout",
     "output_type": "stream",
     "text": [
      "문자열의 데이터 타입 :  <class 'str'>\n",
      "숫자의 데이터 타입 :  <class 'int'> <class 'float'>\n",
      "불리언의 데이터 타입 :  <class 'bool'>\n"
     ]
    }
   ],
   "source": [
    "# python의 자료형은 문자열, 숙자, 불 타입 세가지가 존재\n",
    "print('문자열의 데이터 타입 : ', type('문자열'))\n",
    "print('숫자의 데이터 타입 : ', type(10), type(10.4))\n",
    "print('불리언의 데이터 타입 : ', type(True))"
   ]
  },
  {
   "cell_type": "code",
   "execution_count": 24,
   "id": "f4aea9af",
   "metadata": {},
   "outputs": [
    {
     "name": "stdout",
     "output_type": "stream",
     "text": [
      "\" 안녕하세요 !! \"\n"
     ]
    }
   ],
   "source": [
    "print('\" 안녕하세요 !! \"') # 문자열은 \" \"또는' '"
   ]
  },
  {
   "cell_type": "code",
   "execution_count": 25,
   "id": "0962f45b",
   "metadata": {},
   "outputs": [
    {
     "name": "stdout",
     "output_type": "stream",
     "text": [
      "\" 안녕하세요 !! \"\n",
      "\\ \\ \\\n"
     ]
    }
   ],
   "source": [
    "# 이스케이프 문자를 활용하여 문자열 만들기 : \\\"\" -> 일반 문자 \"  \"\n",
    "# \\t : 탭, \\n : 뉴라인\n",
    "print(\"\\\" 안녕하세요 !! \\\"\")\n",
    "print(\"\\\\ \\\\ \\\\\")"
   ]
  },
  {
   "cell_type": "code",
   "execution_count": 27,
   "id": "d176e1a2",
   "metadata": {},
   "outputs": [
    {
     "name": "stdout",
     "output_type": "stream",
     "text": [
      "이름\t나이\t지역\n",
      "윤인성\t25\t강서구\n",
      "윤아린\t24\t강서구\n",
      "구름\t23\t강서구\n"
     ]
    }
   ],
   "source": [
    "print(\"이름\\t나이\\t지역\")\n",
    "print(\"윤인성\\t25\\t강서구\")\n",
    "print(\"윤아린\\t24\\t강서구\")\n",
    "print(\"구름\\t23\\t강서구\")"
   ]
  },
  {
   "cell_type": "code",
   "execution_count": 34,
   "id": "cc73f2e6",
   "metadata": {},
   "outputs": [
    {
     "name": "stdout",
     "output_type": "stream",
     "text": [
      "1라인\n",
      "2라인\n",
      "\n",
      "1라인\n",
      "2라인\n"
     ]
    }
   ],
   "source": [
    "# 여러 라인의 문자를 출력하기\n",
    "print(\"1라인\\n2라인\")\n",
    "print()\n",
    "print(\"\"\"1라인\n",
    "2라인\"\"\")"
   ]
  },
  {
   "cell_type": "code",
   "execution_count": 37,
   "id": "85e30901",
   "metadata": {},
   "outputs": [
    {
     "name": "stdout",
     "output_type": "stream",
     "text": [
      "\" 안녕하세요 !! \"                 \n"
     ]
    }
   ],
   "source": [
    "# 명령어가 1라인 이상으로 길어질 때 \\\n",
    "print(\"\\\" 안녕하세요 !! \\\"                 \\\n",
    "\")"
   ]
  },
  {
   "cell_type": "code",
   "execution_count": 39,
   "id": "b2b8f458",
   "metadata": {},
   "outputs": [],
   "source": [
    "# 문자열 연산자, 문자열 자르기, 문자열 길이 구하기\n",
    "# 문자열 + 문자열 : 이어 붙히기\n",
    "# 문자열 * 문자열 : 문자열을 숫자만큼 반복"
   ]
  },
  {
   "cell_type": "code",
   "execution_count": 45,
   "id": "ed506b66",
   "metadata": {},
   "outputs": [
    {
     "name": "stdout",
     "output_type": "stream",
     "text": [
      "안녕하세요\n",
      "안녕하세요!\n"
     ]
    }
   ],
   "source": [
    "print(\"안녕\"+\"하세요\")\n",
    "print(\"안녕하세요\"+\"!\")"
   ]
  },
  {
   "cell_type": "code",
   "execution_count": 61,
   "id": "70904b2c",
   "metadata": {},
   "outputs": [
    {
     "name": "stdout",
     "output_type": "stream",
     "text": [
      "안녕하세요안녕하세요안녕하세요\n",
      "안녕하세요안녕하세요안녕하세요\n",
      "안녕하세요 안녕하세요 안녕하세요 \n",
      "안녕하세요 안녕하세요 안녕하세요 \n"
     ]
    }
   ],
   "source": [
    "print(\"안녕하세요\" * 3)\n",
    "print(3 * \"안녕하세요\")\n",
    "print(\"안녕하세요 \" * 3)\n",
    "print(3 * \"안녕하세요 \")"
   ]
  },
  {
   "cell_type": "code",
   "execution_count": 64,
   "id": "7ddc0cfe",
   "metadata": {},
   "outputs": [
    {
     "name": "stdout",
     "output_type": "stream",
     "text": [
      "5\n",
      "안 요\n",
      "안녕\n",
      "녕하\n",
      "세요\n"
     ]
    }
   ],
   "source": [
    "# 문자열 자르기 : 문자열[시작인덱스 : 마지막 인덱스]\n",
    "# 시작은 포함 마지막은 포함하지 않음\n",
    "hello = '안녕하세요'\n",
    "\n",
    "# 전체 문자열의 길이를 구하는 함수 : len(hello)\n",
    "print(len(hello))\n",
    "\n",
    "# 처음 문자와 마지막 문자 출력\n",
    "print(hello[0], hello[-1])\n",
    "\n",
    "#처음부터 두 글자만 출력\n",
    "print(hello[ :2])\n",
    "\n",
    "# 두번째 문자와 3번째 문자 출력\n",
    "print(hello[1:3])\n",
    "\n",
    "# 세번째 문자부터 끝까지 출력\n",
    "print(hello[3: ])"
   ]
  },
  {
   "cell_type": "code",
   "execution_count": 73,
   "id": "fea02ab5",
   "metadata": {},
   "outputs": [
    {
     "name": "stdout",
     "output_type": "stream",
     "text": [
      "요\n"
     ]
    }
   ],
   "source": [
    "# 문자열의 거리를 구해서 마지막 문자 출력\n",
    "print(hello[len(hello) - 1])"
   ]
  },
  {
   "cell_type": "markdown",
   "id": "613f0067",
   "metadata": {},
   "source": [
    "## 02. 숫자"
   ]
  },
  {
   "cell_type": "code",
   "execution_count": 77,
   "id": "cfd09b01",
   "metadata": {},
   "outputs": [
    {
     "name": "stdout",
     "output_type": "stream",
     "text": [
      "3test\n"
     ]
    },
    {
     "ename": "TypeError",
     "evalue": "unsupported operand type(s) for +: 'int' and 'str'",
     "output_type": "error",
     "traceback": [
      "\u001b[1;31m---------------------------------------------------------------------------\u001b[0m",
      "\u001b[1;31mTypeError\u001b[0m                                 Traceback (most recent call last)",
      "Input \u001b[1;32mIn [77]\u001b[0m, in \u001b[0;36m<cell line: 3>\u001b[1;34m()\u001b[0m\n\u001b[0;32m      1\u001b[0m \u001b[38;5;66;03m# +, *, *, /, //(몫), %(나머지), ** (거듭제곱)\u001b[39;00m\n\u001b[0;32m      2\u001b[0m \u001b[38;5;28mprint\u001b[39m(\u001b[38;5;124m'\u001b[39m\u001b[38;5;124m3\u001b[39m\u001b[38;5;124m'\u001b[39m \u001b[38;5;241m+\u001b[39m \u001b[38;5;124m'\u001b[39m\u001b[38;5;124mtest\u001b[39m\u001b[38;5;124m'\u001b[39m) \u001b[38;5;66;03m# ok\u001b[39;00m\n\u001b[1;32m----> 3\u001b[0m \u001b[38;5;28mprint\u001b[39m(\u001b[38;5;241;43m3\u001b[39;49m\u001b[43m \u001b[49m\u001b[38;5;241;43m+\u001b[39;49m\u001b[43m \u001b[49m\u001b[38;5;124;43m'\u001b[39;49m\u001b[38;5;124;43mtest\u001b[39;49m\u001b[38;5;124;43m'\u001b[39;49m)\n",
      "\u001b[1;31mTypeError\u001b[0m: unsupported operand type(s) for +: 'int' and 'str'"
     ]
    }
   ],
   "source": [
    "# +, *, *, /, //(몫), %(나머지), ** (거듭제곱)\n",
    "print('3' + 'test') # ok\n",
    "print(3 + 'test') # error -> 같은 데이터 타입만 가능!"
   ]
  },
  {
   "cell_type": "markdown",
   "id": "2f7d5a26",
   "metadata": {},
   "source": [
    " ### 3. 변수의 활용"
   ]
  },
  {
   "cell_type": "code",
   "execution_count": 87,
   "id": "c94fc6cf",
   "metadata": {},
   "outputs": [
    {
     "data": {
      "text/plain": [
       "20"
      ]
     },
     "execution_count": 87,
     "metadata": {},
     "output_type": "execute_result"
    }
   ],
   "source": [
    "var_a = 10\n",
    "var_a\n",
    "\n",
    "var_b = 20\n",
    "var_b\n",
    "# jupyter notebook에서는 마지막 값만 보임"
   ]
  },
  {
   "cell_type": "code",
   "execution_count": 86,
   "id": "5d2defd4",
   "metadata": {},
   "outputs": [
    {
     "data": {
      "text/plain": [
       "30"
      ]
     },
     "execution_count": 86,
     "metadata": {},
     "output_type": "execute_result"
    }
   ],
   "source": [
    "var_a + var_b"
   ]
  },
  {
   "cell_type": "code",
   "execution_count": 89,
   "id": "17751281",
   "metadata": {},
   "outputs": [
    {
     "name": "stdout",
     "output_type": "stream",
     "text": [
      "10 20\n"
     ]
    },
    {
     "data": {
      "text/plain": [
       "'안녕하세요'"
      ]
     },
     "execution_count": 89,
     "metadata": {},
     "output_type": "execute_result"
    }
   ],
   "source": [
    "print(var_a, var_b)\n",
    "hello"
   ]
  },
  {
   "cell_type": "code",
   "execution_count": 95,
   "id": "0bc9869a",
   "metadata": {},
   "outputs": [
    {
     "data": {
      "text/plain": [
       "'str variable'"
      ]
     },
     "execution_count": 95,
     "metadata": {},
     "output_type": "execute_result"
    }
   ],
   "source": [
    "var_a = 'str variable'\n",
    "var_a\n",
    "# python 에서는 변수에 숫자를 넣었다 글자를 넣었다 마음대로 변경 가능\n",
    "# C언어, java 에서는 불가능. 그렇기에 덮어 씌워질 수 있으므로 주의요망"
   ]
  },
  {
   "cell_type": "code",
   "execution_count": 97,
   "id": "f34615bf",
   "metadata": {},
   "outputs": [
    {
     "name": "stdout",
     "output_type": "stream",
     "text": [
      "원주율 = 3.14159265\n",
      "반지름= 10\n",
      "원의 둘레= 62.831853\n",
      "원의 넓이= 314.159265\n"
     ]
    }
   ],
   "source": [
    "# 변수 선언과 할당\n",
    "pi = 3.14159265\n",
    "r = 10\n",
    "\n",
    "# 변수  참조\n",
    "print(\"원주율 =\", pi)\n",
    "print(\"반지름=\", r)\n",
    "print(\"원의 둘레=\", 2 * pi * r) #원의 둘레\n",
    "print(\"원의 넓이=\", pi * r * r) #원의 넓이"
   ]
  },
  {
   "cell_type": "code",
   "execution_count": 116,
   "id": "eaa9ed40",
   "metadata": {},
   "outputs": [
    {
     "name": "stdout",
     "output_type": "stream",
     "text": [
      "20\n",
      "200\n",
      "13.333333333333334\n",
      "test!!\n",
      "test!!test!!\n"
     ]
    }
   ],
   "source": [
    "# 복합 대입 연산자\n",
    "a = 10\n",
    "a += 10 \n",
    "print(a) # a -> 20\n",
    "a *= 10\n",
    "print(a) # a -> 200\n",
    "a /= 15\n",
    "print(a) # a -> 13.333.....\n",
    "\n",
    "# 문자열 복합 대입 연산자\n",
    "a_str = 'test'\n",
    "a_str += '!!'\n",
    "print(a_str)\n",
    "\n",
    "a_str *= 2\n",
    "print(a_str)"
   ]
  },
  {
   "cell_type": "code",
   "execution_count": 126,
   "id": "131f40bb",
   "metadata": {},
   "outputs": [
    {
     "name": "stdout",
     "output_type": "stream",
     "text": [
      "문자입력hello python\n"
     ]
    },
    {
     "data": {
      "text/plain": [
       "'hello python'"
      ]
     },
     "execution_count": 126,
     "metadata": {},
     "output_type": "execute_result"
    }
   ],
   "source": [
    "# input() -> 사용자가 입력하는 함수\n",
    "input_str = input(\"문자입력\")\n",
    "input_str"
   ]
  },
  {
   "cell_type": "code",
   "execution_count": 128,
   "id": "018b2a64",
   "metadata": {},
   "outputs": [
    {
     "data": {
      "text/plain": [
       "str"
      ]
     },
     "execution_count": 128,
     "metadata": {},
     "output_type": "execute_result"
    }
   ],
   "source": [
    "type(input_str)"
   ]
  },
  {
   "cell_type": "code",
   "execution_count": 132,
   "id": "53756962",
   "metadata": {},
   "outputs": [
    {
     "name": "stdout",
     "output_type": "stream",
     "text": [
      "3\n"
     ]
    },
    {
     "data": {
      "text/plain": [
       "'3'"
      ]
     },
     "execution_count": 132,
     "metadata": {},
     "output_type": "execute_result"
    }
   ],
   "source": [
    "# 숫자를 입력해서 변수에 저장 후 변수의 데이터타입을 확인해 보세요\n",
    "bingo = input()\n",
    "bingo"
   ]
  },
  {
   "cell_type": "code",
   "execution_count": 133,
   "id": "1436beb8",
   "metadata": {},
   "outputs": [
    {
     "data": {
      "text/plain": [
       "str"
      ]
     },
     "execution_count": 133,
     "metadata": {},
     "output_type": "execute_result"
    }
   ],
   "source": [
    "type(bingo)"
   ]
  },
  {
   "cell_type": "code",
   "execution_count": 145,
   "id": "616c0b32",
   "metadata": {},
   "outputs": [
    {
     "name": "stdout",
     "output_type": "stream",
     "text": [
      "숫자입력 : 34.78\n"
     ]
    },
    {
     "data": {
      "text/plain": [
       "str"
      ]
     },
     "execution_count": 145,
     "metadata": {},
     "output_type": "execute_result"
    }
   ],
   "source": [
    "# ex\n",
    "input_data = input(\"숫자입력 : \")\n",
    "type(input_data)"
   ]
  },
  {
   "cell_type": "code",
   "execution_count": 146,
   "id": "4e0deff4",
   "metadata": {},
   "outputs": [
    {
     "data": {
      "text/plain": [
       "float"
      ]
     },
     "execution_count": 146,
     "metadata": {},
     "output_type": "execute_result"
    }
   ],
   "source": [
    "# 데이터 타입 변경 : 문자를 숫자로 -> int(), float()\n",
    "# 숫자를 문자로 -> str()\n",
    "input_data = float(input_data)\n",
    "type(input_data)"
   ]
  },
  {
   "cell_type": "code",
   "execution_count": 147,
   "id": "31fbfad4",
   "metadata": {},
   "outputs": [],
   "source": [
    "# 두 수를 입력 받아 두 수의 합과 곱을 구하세요\n",
    "# 1. 숫자 두 개를 입력 받음\n",
    "# 2. 입력 받은 두 수를 int로 형 변환\n",
    "# 3. 두 수의 합과 곱을 구함"
   ]
  },
  {
   "cell_type": "code",
   "execution_count": 148,
   "id": "e1fc0229",
   "metadata": {},
   "outputs": [
    {
     "name": "stdout",
     "output_type": "stream",
     "text": [
      "1\n"
     ]
    }
   ],
   "source": [
    "input_a = input()"
   ]
  },
  {
   "cell_type": "code",
   "execution_count": 149,
   "id": "736ef2bb",
   "metadata": {},
   "outputs": [
    {
     "name": "stdout",
     "output_type": "stream",
     "text": [
      "2\n"
     ]
    }
   ],
   "source": [
    "input_b = input()"
   ]
  },
  {
   "cell_type": "code",
   "execution_count": 159,
   "id": "27e21964",
   "metadata": {},
   "outputs": [
    {
     "name": "stdout",
     "output_type": "stream",
     "text": [
      "3\n",
      "2\n"
     ]
    }
   ],
   "source": [
    "input_a = int(input_a)\n",
    "input_b = int(input_b)\n",
    "type(input_a)\n",
    "type(input_b)\n",
    "\n",
    "print(input_a + input_b)\n",
    "print(input_a * input_b)"
   ]
  },
  {
   "cell_type": "code",
   "execution_count": 165,
   "id": "aac0171f",
   "metadata": {
    "scrolled": true
   },
   "outputs": [
    {
     "name": "stdout",
     "output_type": "stream",
     "text": [
      "처음 숫자 입력 : 1\n",
      "두번째 숫자 입력 : 2\n",
      "1  +  2  =  3\n",
      "1  *  2  =  2\n"
     ]
    }
   ],
   "source": [
    "input_a = int(input(\"처음 숫자 입력 : \"))\n",
    "input_b = int(input(\"두번째 숫자 입력 : \"))\n",
    "\n",
    "print(input_a, \" + \", input_b , \" = \", input_a + input_b)\n",
    "print(input_a, \" * \", input_b , \" = \", input_a * input_b)"
   ]
  },
  {
   "cell_type": "markdown",
   "id": "1ab8edb9",
   "metadata": {},
   "source": [
    "### 4.숫자와 문자열의 다양한 기능\n"
   ]
  },
  {
   "cell_type": "code",
   "execution_count": 180,
   "id": "1e8bffff",
   "metadata": {},
   "outputs": [
    {
     "name": "stdout",
     "output_type": "stream",
     "text": [
      "1 + 2 = 3\n"
     ]
    }
   ],
   "source": [
    "# 문자열.format()\n",
    "\"{} {}\".format(10,'str')\n",
    "print(\"{} + {} = {}\".format(input_a, input_b, input_a + input_b))"
   ]
  },
  {
   "cell_type": "code",
   "execution_count": 185,
   "id": "01c36507",
   "metadata": {},
   "outputs": [
    {
     "data": {
      "text/plain": [
       "'3.45 소수 float '"
      ]
     },
     "execution_count": 185,
     "metadata": {},
     "output_type": "execute_result"
    }
   ],
   "source": [
    "\"{} 소수 {} \".format(3.45, 'float')"
   ]
  },
  {
   "cell_type": "code",
   "execution_count": 190,
   "id": "b6a51185",
   "metadata": {},
   "outputs": [
    {
     "data": {
      "text/plain": [
       "'3.45 소수 float 34'"
      ]
     },
     "execution_count": 190,
     "metadata": {},
     "output_type": "execute_result"
    }
   ],
   "source": [
    "\"{} 소수 {} {}\".format(3.45, 'float', 34, 56)"
   ]
  },
  {
   "cell_type": "code",
   "execution_count": 191,
   "id": "7089b7a9",
   "metadata": {},
   "outputs": [
    {
     "name": "stdout",
     "output_type": "stream",
     "text": [
      "52\n",
      "52\n"
     ]
    }
   ],
   "source": [
    "# 정수 출력에서 format()함수 활용\n",
    "print(\"{}\".format(52))\n",
    "print(\"{:d}\".format(52))\n",
    "print(\"{:5d}\".format(52))\n",
    "print(\"{:05d}\".format(52))\n"
   ]
  },
  {
   "cell_type": "code",
   "execution_count": 195,
   "id": "443791b7",
   "metadata": {},
   "outputs": [
    {
     "name": "stdout",
     "output_type": "stream",
     "text": [
      "  +52\n",
      "  -52\n",
      "+  52\n",
      "-  52\n",
      "52.34\n",
      " 52.344650\n",
      "52\n"
     ]
    }
   ],
   "source": [
    "# 기호와 함께 출력\n",
    "print(\"{:+5d}\".format(52)) # 부호와 함께 표현\n",
    "print(\"{:+5d}\".format(-52))\n",
    "\n",
    "print(\"{:=+5d}\".format(52)) # 부호를 앞으로 밀기\n",
    "print(\"{:=+5d}\".format(-52))\n",
    "\n",
    "print(\"{:5.2f}\".format(52.34465)) # 소수점 미만 두자리까지만 표현\n",
    "print(\"{:10f}\".format(52.34465)) # 실수 표현\n",
    "\n",
    "print(\"{:g}\".format(52.0)) # 의미없는 소수점 미만 자료 버리기"
   ]
  },
  {
   "cell_type": "code",
   "execution_count": 197,
   "id": "d16c414d",
   "metadata": {},
   "outputs": [],
   "source": [
    "# 두 개의 숫자를 입력 받아 두 수의 합과 곱, 차 , 나머지 값을\n",
    "# 다음의 형식으로 출력\n",
    "# 1. 입력 받은 두 수는 10, 20\n",
    "# 2. 입력 받은 두 수 10과 20의 합은 30\n",
    "# 3. 입력 받은 두 수 10과 20의 곱은 200\n",
    "# 4. 입력 받은 두 수 10과 20의 차는 -10\n",
    "# 5. 입력 받은 두 수 10과 20의 나눈 나머지는\n",
    "\n"
   ]
  },
  {
   "cell_type": "code",
   "execution_count": 209,
   "id": "c34fa12e",
   "metadata": {},
   "outputs": [
    {
     "name": "stdout",
     "output_type": "stream",
     "text": [
      "첫번째 숫자입력 :10\n",
      "두번째 숫자 입력 :20\n",
      "입력 받은 두 수는 10, 20\n"
     ]
    }
   ],
   "source": [
    "#1\n",
    "input_a = int(input(\"첫번째 숫자입력 :\"))\n",
    "input_b = int(input(\"두번째 숫자 입력 :\"))\n",
    "prt_str = '입력 받은 두 수'\n",
    "print(\"{}는 {}, {}\".format(prt_str, input_a, input_b))"
   ]
  },
  {
   "cell_type": "code",
   "execution_count": 216,
   "id": "1641a9f3",
   "metadata": {},
   "outputs": [
    {
     "name": "stdout",
     "output_type": "stream",
     "text": [
      "입력 받은 두 수 10와 20의 합은 30\n"
     ]
    }
   ],
   "source": [
    "#2\n",
    "print(\"{} {}와 {}의 합은 {}\".format(prt_str, input_a, input_b,\n",
    "                                input_a + input_b))"
   ]
  },
  {
   "cell_type": "code",
   "execution_count": 219,
   "id": "d27561d9",
   "metadata": {},
   "outputs": [
    {
     "name": "stdout",
     "output_type": "stream",
     "text": [
      "입력 받은 두 수 10과 20의 곱은 200\n"
     ]
    }
   ],
   "source": [
    "#3\n",
    "print(\"{} {}과 {}의 곱은 {}\".format(prt_str, input_a, input_b,\n",
    "                               input_a * input_b))"
   ]
  },
  {
   "cell_type": "code",
   "execution_count": 222,
   "id": "5798d2f7",
   "metadata": {},
   "outputs": [
    {
     "name": "stdout",
     "output_type": "stream",
     "text": [
      "입력 받은 두 수 10과 20의 차는 -10\n"
     ]
    }
   ],
   "source": [
    "#4\n",
    "print(\"{} {}과 {}의 차는 {}\".format(prt_str, input_a, input_b,\n",
    "                               input_a - input_b))"
   ]
  },
  {
   "cell_type": "code",
   "execution_count": 223,
   "id": "526bc6a6",
   "metadata": {},
   "outputs": [
    {
     "name": "stdout",
     "output_type": "stream",
     "text": [
      "입력 받은 두 수 10과 20의 나눈 나머지는 10\n"
     ]
    }
   ],
   "source": [
    "#5\n",
    "print(\"{} {}과 {}의 나눈 나머지는 {}\".format(prt_str, input_a, input_b,\n",
    "                               input_a % input_b))"
   ]
  },
  {
   "cell_type": "code",
   "execution_count": 224,
   "id": "050bdd5e",
   "metadata": {},
   "outputs": [
    {
     "name": "stdout",
     "output_type": "stream",
     "text": [
      "첫번째 숫자입력 :10\n",
      "두번째 숫자 입력 :20\n",
      "입력 받은 두 수는 10, 20\n",
      "입력 받은 두 수 10와 20의 합은 30\n",
      "입력 받은 두 수 10과 20의 곱은 200\n",
      "입력 받은 두 수 10과 20의 차는 -10\n",
      "입력 받은 두 수 10과 20의 나눈 나머지는 10\n"
     ]
    }
   ],
   "source": [
    "#1 입력 받은 두 수는 10과 20\n",
    "input_a = int(input(\"첫번째 숫자입력 :\"))\n",
    "input_b = int(input(\"두번째 숫자 입력 :\"))\n",
    "prt_str = '입력 받은 두 수'\n",
    "print(\"{}는 {}, {}\".format(prt_str, input_a, input_b))\n",
    "\n",
    "#2 입력 받은 두 수 10과 20의 합은 30\n",
    "print(\"{} {}와 {}의 합은 {}\".format(prt_str, input_a, input_b,\n",
    "                                input_a + input_b))\n",
    "\n",
    "#3 입력 받은 두 수 10과 20의 곱은 200\n",
    "print(\"{} {}과 {}의 곱은 {}\".format(prt_str, input_a, input_b,\n",
    "                               input_a * input_b))\n",
    "\n",
    "#4 입력 받은 두 수 10과 20의 차는 -10\n",
    "print(\"{} {}과 {}의 차는 {}\".format(prt_str, input_a, input_b,\n",
    "                               input_a - input_b))\n",
    "\n",
    "#5 입력 받은 두 수 10과 20의 나눈 나머지 값은\n",
    "print(\"{} {}과 {}의 나눈 나머지는 {}\".format(prt_str, input_a, input_b,\n",
    "                               input_a % input_b))"
   ]
  },
  {
   "cell_type": "code",
   "execution_count": null,
   "id": "f7d89149",
   "metadata": {},
   "outputs": [],
   "source": []
  }
 ],
 "metadata": {
  "kernelspec": {
   "display_name": "Python 3 (ipykernel)",
   "language": "python",
   "name": "python3"
  },
  "language_info": {
   "codemirror_mode": {
    "name": "ipython",
    "version": 3
   },
   "file_extension": ".py",
   "mimetype": "text/x-python",
   "name": "python",
   "nbconvert_exporter": "python",
   "pygments_lexer": "ipython3",
   "version": "3.9.12"
  }
 },
 "nbformat": 4,
 "nbformat_minor": 5
}
