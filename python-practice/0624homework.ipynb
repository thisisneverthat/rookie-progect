{
 "cells": [
  {
   "cell_type": "code",
   "execution_count": 1,
   "id": "1a4cfb38",
   "metadata": {},
   "outputs": [],
   "source": [
    "# 1. 구의 부피와 겉넓이\n",
    "\n",
    "#구의 부피와 겉넓이를 구하는 프로그램 만들기.\n",
    "#구의 부피와 겉넓이를 구하는 공식은 다음과 같습니다.\n",
    "\n",
    "#구의 반지름을 r이라고 할 때\n",
    "#부피 = 4/3πr³\n",
    "#겉넓이 = 4πr2"
   ]
  },
  {
   "cell_type": "code",
   "execution_count": 4,
   "id": "a27540e9",
   "metadata": {},
   "outputs": [
    {
     "name": "stdout",
     "output_type": "stream",
     "text": [
      "구의 반지름을 입력하세요: 5\n",
      "구의 부피는 523.5986666666666입니다.\n",
      "구의 겉넓이는 314.1592입니다.\n"
     ]
    }
   ],
   "source": [
    "pi = 3.141592\n",
    "r = int(input(\"구의 반지름을 입력하세요: \"))\n",
    "\n",
    "A = (4/3) * pi * (r**3)\n",
    "B = 4 * pi * r**2\n",
    "\n",
    "print(\"구의 부피는 {}입니다.\".format(A))\n",
    "print(\"구의 겉넓이는 {}입니다.\".format(B))"
   ]
  },
  {
   "cell_type": "code",
   "execution_count": 22,
   "id": "00a892e8",
   "metadata": {},
   "outputs": [
    {
     "name": "stdout",
     "output_type": "stream",
     "text": [
      "밑변의 길이를 입력해주세요: 3.0\n",
      "높이의 길이를 입력해주세요: 4.0\n",
      "빗변의 길이는 5.0입니다.\n"
     ]
    }
   ],
   "source": [
    "#2. 피타고라스의 정리\n",
    "\n",
    "#밑변의 길이와 높이를 이용해서 빗변의 길이 구하기.\n",
    "\n",
    "input_a = float(input(\"밑변의 길이를 입력해주세요: \"))\n",
    "input_b = float(input(\"높이의 길이를 입력해주세요: \"))\n",
    "\n",
    "print(\"빗변의 길이는 {}입니다.\".format((input_a**2 + input_b**2) ** 0.5))\n"
   ]
  },
  {
   "cell_type": "code",
   "execution_count": 45,
   "id": "16b40771",
   "metadata": {},
   "outputs": [
    {
     "name": "stdout",
     "output_type": "stream",
     "text": [
      "입력: 잘 지내\n",
      "잘 지내\n"
     ]
    }
   ],
   "source": [
    "#간단한 대화프로그램 만들기\n",
    "\n",
    "#인사를 입력하면 인사\n",
    "#시간을 물어보면 현재 시간\n",
    "#준비되지 않은 문장을 입력시 해당 입력을 그대로 출력\n",
    "\n",
    "import datetime\n",
    "입력 = input(\"입력: \")\n",
    "\n",
    "if \"안녕\" in 입력:\n",
    "    print(\"안녕하세요.\")\n",
    "elif \"몇 시\" in 입력:\n",
    "    now = datetime.datetime.now()\n",
    "    print(\"지금은 {}시 입니다.\".format(now.hour))\n",
    "else:\n",
    "    print(입력)"
   ]
  },
  {
   "cell_type": "code",
   "execution_count": 2,
   "id": "b1a88620",
   "metadata": {},
   "outputs": [
    {
     "name": "stdout",
     "output_type": "stream",
     "text": [
      "정수를 입력해주세요.: 123\n",
      "123은(는) 2로 나누어 떨어지지 않는 숫자입니다.\n",
      "123은(는) 3으로 나누어 떨어지는 숫자 입니다.\n",
      "123은(는) 4로 나누어 떨어지지 않는 숫자 입니다.\n",
      "123은(는) 5로 나누어 떨어지지 않는 숫자 입니다.\n"
     ]
    }
   ],
   "source": [
    "#나누어 떨어지는 숫자\n",
    "\n",
    "#해당 숫자를 2,3,4,5로 나누어 떨어지는지 확인하고 출력하는 프로그램\n",
    "\n",
    "입력 = int(input(\"정수를 입력해주세요.: \"))\n",
    "\n",
    "if 입력% 2 == 0:\n",
    "    print(\"{}은(는) 2로 나누어 떨어지는 숫자 입니다.\".format(입력))\n",
    "else:\n",
    "    print(\"{}은(는) 2로 나누어 떨어지지 않는 숫자입니다.\".format(입력))\n",
    "\n",
    "if 입력 % 3 == 0:\n",
    "    print(\"{}은(는) 3으로 나누어 떨어지는 숫자 입니다.\".format(입력))\n",
    "else:\n",
    "    print(\"{}은(는) 3으로 나누어 떨어지지 않는 숫자 입니다.\".format(입력))\n",
    "    \n",
    "if 입력 % 4 == 0:\n",
    "    print(\"{}은(는) 4로 나누어 떨어지는 숫자 입니다.\".format(입력))\n",
    "else:\n",
    "    print(\"{}은(는) 4로 나누어 떨어지지 않는 숫자 입니다.\".format(입력))\n",
    "\n",
    "if 입력 % 5 == 0:\n",
    "    print(\"{}은(는) 5로 나누어 떨어지는 숫자 입니다.\".format(입력))\n",
    "else:\n",
    "    print(\"{}은(는) 5로 나누어 떨어지지 않는 숫자 입니다.\".format(입력))"
   ]
  },
  {
   "cell_type": "code",
   "execution_count": null,
   "id": "fa84bb9d",
   "metadata": {},
   "outputs": [],
   "source": [
    "#1. 다음 ,format() 함수 중에서 오류가 발생하는 경우를 골라보세요\n",
    "\n",
    "#1) \"{} {}\".format(52,273)\n",
    "#2) \"{} {}\".format(52,type(273))\n",
    "#3) \"{} {} {}\".format(52, type(273))\n",
    "#4) \"{}\".format(52, 273)"
   ]
  },
  {
   "cell_type": "code",
   "execution_count": null,
   "id": "d5ee2c7c",
   "metadata": {},
   "outputs": [],
   "source": [
    "# 3번.\n",
    "# 매개변수의 개수가 다르기 떄문."
   ]
  },
  {
   "cell_type": "code",
   "execution_count": null,
   "id": "ac5ea844",
   "metadata": {},
   "outputs": [],
   "source": [
    "#2. 함수와 그 기능을 연결해 보세요\n",
    "#1) split()          a)문자열을 소문자로 변환합니다.\n",
    "#2) upper()          b)문자열을 대문자로 변환합니다.\n",
    "#3) lower()          c)문자열 양옆의 공백을 제거합니다.\n",
    "#4) strip()          d)문자열을 특정 문자로 자릅니다.\n",
    "\n",
    "# 1 - d // 2 - b // 3 - a // 4 - c"
   ]
  },
  {
   "cell_type": "code",
   "execution_count": null,
   "id": "3e71a489",
   "metadata": {},
   "outputs": [],
   "source": [
    "#3. 다음 코드의 빈칸을 채워서 실향 결과처럼 출력해 보새요.\n",
    "\n",
    "# a = input(\"> 1번째 숫자: \")\n",
    "# b = input(\"> 2번째 숫자: \")\n",
    "print()\n",
    "\n",
    "#print(\"{} + {} = {}\".format(                 ))"
   ]
  },
  {
   "cell_type": "code",
   "execution_count": 4,
   "id": "696fd0e8",
   "metadata": {},
   "outputs": [
    {
     "name": "stdout",
     "output_type": "stream",
     "text": [
      " 1번째 숫자: 1\n",
      " 2번째 숫자: 2\n",
      "\n",
      "1 + 2 = 3\n"
     ]
    }
   ],
   "source": [
    "a = input(\" 1번째 숫자: \")\n",
    "b = input(\" 2번째 숫자: \")\n",
    "print()\n",
    "\n",
    "print(\"{} + {} = {}\".format(a, b, int(a)+int(b)))"
   ]
  },
  {
   "cell_type": "code",
   "execution_count": null,
   "id": "c842089e",
   "metadata": {},
   "outputs": [],
   "source": [
    "#4. 다음 프로그램의 실해 결과를 예측해보세요\n",
    "\n",
    "#string = \"hello\"\n",
    "\n",
    "#string.upper()를 실행하고, string 출력하기\n",
    "#string.upper()\n",
    "#print(\"A 지점:\", string)\n",
    "\n",
    "#string.upper() 실행하기\n",
    "#print(\"B 지점:\", string.upper()) "
   ]
  },
  {
   "cell_type": "code",
   "execution_count": 5,
   "id": "36812603",
   "metadata": {},
   "outputs": [
    {
     "name": "stdout",
     "output_type": "stream",
     "text": [
      "A 지점: hello\n",
      "B 지점: HELLO\n"
     ]
    }
   ],
   "source": [
    "string = \"hello\"\n",
    "\n",
    "string.upper()\n",
    "print(\"A 지점:\", string)\n",
    "\n",
    "print(\"B 지점:\", string.upper())"
   ]
  },
  {
   "cell_type": "code",
   "execution_count": null,
   "id": "9c8b39eb",
   "metadata": {},
   "outputs": [],
   "source": [
    "#10 == 100\n",
    "#10 != 100\n",
    "#10 > 100\n",
    "#10 < 100\n",
    "#10 <= 100\n",
    "#10 >=100\n",
    "\n",
    "#False\n",
    "#True\n",
    "#False\n",
    "#True\n",
    "#True\n",
    "#False"
   ]
  },
  {
   "cell_type": "code",
   "execution_count": 7,
   "id": "bc1300ce",
   "metadata": {},
   "outputs": [],
   "source": [
    "x = 2\n",
    "if x > 4:\n",
    "    print(\"참입니다.\")"
   ]
  },
  {
   "cell_type": "code",
   "execution_count": 9,
   "id": "79d3409c",
   "metadata": {},
   "outputs": [],
   "source": [
    "x = 1\n",
    "if x > 4:\n",
    "    print(\"참입니다.\")"
   ]
  },
  {
   "cell_type": "code",
   "execution_count": 11,
   "id": "4d0cc83b",
   "metadata": {},
   "outputs": [
    {
     "name": "stdout",
     "output_type": "stream",
     "text": [
      "참입니다.\n"
     ]
    }
   ],
   "source": [
    "x = 10\n",
    "if x > 4:\n",
    "    print(\"참입니다.\")\n",
    "\n",
    "# 3번예제"
   ]
  },
  {
   "cell_type": "code",
   "execution_count": null,
   "id": "925e5c90",
   "metadata": {},
   "outputs": [],
   "source": [
    "#1) 치킨이나 햄버거가 먹고 싶어서, 음식 주문 애플리케이션에서 치킨과 햄버거를 선택했다. (o)\n",
    "#2) H 브랜드가 출시한 10만원 이하의 가방을 구매하고 싶어서, H 브랜드와 10만원 이하를 조건으로 선택해서 검색했다. (a)\n",
    "#3) 고궁에 입장하는데, 65세 이상의 어르신과 5살 이하의 아동은 무료 입장이었다. (0)"
   ]
  },
  {
   "cell_type": "code",
   "execution_count": 12,
   "id": "9895d656",
   "metadata": {},
   "outputs": [
    {
     "name": "stdout",
     "output_type": "stream",
     "text": [
      "> 1번째 숫자: 100\n",
      "> 2번쨰 숫자: 10\n",
      "\n",
      "처음 입력했던 100.0가 10.0보다 더 큽니다.\n"
     ]
    }
   ],
   "source": [
    "a =  float(input(\"> 1번째 숫자: \"))\n",
    "b =  float(input(\"> 2번쨰 숫자: \"))\n",
    "print()\n",
    "\n",
    "if a>b:\n",
    "    print(\"처음 입력했던 {}가 {}보다 더 큽니다.\".format(a,b)) \n",
    "if a<b:           \n",
    "    print(\"두 번쨰로 입력했던 {}가 {}보다 더 큽니다.\".format(b,a)) "
   ]
  },
  {
   "cell_type": "code",
   "execution_count": 19,
   "id": "27f9ab2e",
   "metadata": {},
   "outputs": [
    {
     "name": "stdout",
     "output_type": "stream",
     "text": [
      "-100 이상의 수:  273\n",
      "-100 이상의 수:  103\n",
      "-100 이상의 수:  800\n"
     ]
    }
   ],
   "source": [
    "numbers = [273, 103, 5, 32, 65, 9, 72, 800, 99]\n",
    "\n",
    "for number in numbers:\n",
    "     if number >=100:\n",
    "            print(\"-100 이상의 수: \", number)\n"
   ]
  },
  {
   "cell_type": "code",
   "execution_count": 20,
   "id": "b8eec755",
   "metadata": {},
   "outputs": [
    {
     "name": "stdout",
     "output_type": "stream",
     "text": [
      "273 는 홀수입니다\n",
      "103 는 홀수입니다\n",
      "5 는 홀수입니다\n",
      "32 는 짝수입니다\n",
      "65 는 홀수입니다\n",
      "9 는 홀수입니다\n",
      "72 는 짝수입니다\n",
      "800 는 짝수입니다\n",
      "99 는 홀수입니다\n"
     ]
    }
   ],
   "source": [
    "numbers = [273, 103, 5, 32, 65, 9, 72, 800, 99]\n",
    "\n",
    "for number in numbers:\n",
    "    if number % 2 == 1:\n",
    "        print(number,\"는 홀수입니다\")\n",
    "    else:\n",
    "        print(number,\"는 짝수입니다\")   "
   ]
  },
  {
   "cell_type": "code",
   "execution_count": 21,
   "id": "f4c8d1fe",
   "metadata": {},
   "outputs": [
    {
     "name": "stdout",
     "output_type": "stream",
     "text": [
      "273 는 3 자릿수입니다\n",
      "103 는 3 자릿수입니다\n",
      "5 는 1 자릿수입니다\n",
      "32 는 2 자릿수입니다\n",
      "65 는 2 자릿수입니다\n",
      "9 는 1 자릿수입니다\n",
      "72 는 2 자릿수입니다\n",
      "800 는 3 자릿수입니다\n",
      "99 는 2 자릿수입니다\n"
     ]
    }
   ],
   "source": [
    "numbers = [273, 103, 5, 32, 65, 9, 72, 800, 99]\n",
    "\n",
    "for number in numbers:\n",
    "    print(number,\"는\", len(str(number)), \"자릿수입니다\")"
   ]
  },
  {
   "cell_type": "code",
   "execution_count": 22,
   "id": "44739f10",
   "metadata": {},
   "outputs": [
    {
     "name": "stdout",
     "output_type": "stream",
     "text": [
      "[[1, 4, 7], [2, 5, 8], [3, 6, 9]]\n"
     ]
    }
   ],
   "source": [
    "numbers = [1,2,3,4,5,6,7,8,9]\n",
    "output = [[], [], []]\n",
    "\n",
    "for number in numbers:\n",
    "    output[(number+2)%3].append(number)\n",
    "\n",
    "print(output)"
   ]
  },
  {
   "cell_type": "code",
   "execution_count": 23,
   "id": "cdce40c6",
   "metadata": {},
   "outputs": [
    {
     "name": "stdout",
     "output_type": "stream",
     "text": [
      "i=0, j=1\n",
      "i=1, j=3\n",
      "i=2, j=5\n",
      "i=3, j=7\n",
      "[1, 4, 3, 16, 5, 36, 7, 64, 9]\n"
     ]
    }
   ],
   "source": [
    "numbers = [1,2,3,4,5,6,7,8,9]\n",
    "\n",
    "for i in range(0, len(numbers)  // 2 ):\n",
    "    j=(i*2) +1\n",
    "    print(f\"i={i}, j={j}\")\n",
    "    numbers[j] = numbers[j] **2\n",
    "print(numbers)"
   ]
  },
  {
   "cell_type": "code",
   "execution_count": null,
   "id": "c06de554",
   "metadata": {},
   "outputs": [],
   "source": []
  },
  {
   "cell_type": "code",
   "execution_count": null,
   "id": "888f1e94",
   "metadata": {},
   "outputs": [],
   "source": []
  },
  {
   "cell_type": "code",
   "execution_count": null,
   "id": "c9691f73",
   "metadata": {},
   "outputs": [],
   "source": []
  }
 ],
 "metadata": {
  "kernelspec": {
   "display_name": "Python 3 (ipykernel)",
   "language": "python",
   "name": "python3"
  },
  "language_info": {
   "codemirror_mode": {
    "name": "ipython",
    "version": 3
   },
   "file_extension": ".py",
   "mimetype": "text/x-python",
   "name": "python",
   "nbconvert_exporter": "python",
   "pygments_lexer": "ipython3",
   "version": "3.9.12"
  }
 },
 "nbformat": 4,
 "nbformat_minor": 5
}
