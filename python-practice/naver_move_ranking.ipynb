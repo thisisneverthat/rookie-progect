{
 "cells": [
  {
   "cell_type": "code",
   "execution_count": 1,
   "id": "73dfe00d",
   "metadata": {},
   "outputs": [],
   "source": [
    "# 네이버 영화에서 현재 상영중인 영화의 순위 제목 평점을 출력\n",
    "from urllib import request\n",
    "from bs4 import BeautifulSoup\n",
    "\n",
    "open_url='https://movie.naver.com/movie/sdb/rank/rmovie.naver?sel=cur&date=20220627'\n",
    "target = request.urlopen(open_url)\n",
    "\n",
    "soup = BeautifulSoup(target)   # soup -> <html> 태그 형식으로 변경"
   ]
  },
  {
   "cell_type": "code",
   "execution_count": 13,
   "id": "e1f3d239",
   "metadata": {},
   "outputs": [
    {
     "name": "stdout",
     "output_type": "stream",
     "text": [
      "1 : 탑건: 매버릭 -> 9.81\n",
      "2 : 범죄도시2 -> 9.47\n",
      "3 : 로마의 휴일 -> 9.26\n",
      "4 : 피아니스트의 전설 -> 9.25\n",
      "5 : 극장판 주술회전 0 -> 9.25\n",
      "6 : 바람과 함께 사라지다 -> 9.25\n",
      "7 : 러빙 빈센트 -> 9.22\n",
      "8 : 러브레터 -> 9.13\n",
      "9 : 코다 -> 9.13\n",
      "10 : 카시오페아 -> 9.11\n",
      "11 : 전투왕 -> 9.10\n",
      "12 : 올드보이 -> 9.04\n",
      "13 : 이별의 아침에 약속의 꽃을 장식하자 -> 8.97\n",
      "14 : 디어 헌터 -> 8.94\n",
      "15 : 중경삼림 -> 8.90\n",
      "16 : 천로역정: 천국을 찾아서 -> 8.86\n",
      "17 : 화양연화 -> 8.81\n",
      "18 : 펄프 픽션 -> 8.76\n",
      "19 : 아메리칸 셰프 -> 8.75\n",
      "20 : 김광석 -> 8.67\n",
      "21 : 걸어도 걸어도 -> 8.63\n",
      "22 : 기생충 -> 8.49\n",
      "23 : 드라이브 마이 카 -> 8.41\n",
      "24 : 신은 죽지 않았다 3: 어둠 속의 빛 -> 8.32\n",
      "25 : 어나더 라운드 -> 8.31\n",
      "26 : 우연과 상상 -> 8.16\n",
      "27 : 릴리 슈슈의 모든 것 -> 8.12\n",
      "28 : 하나와 앨리스 -> 8.11\n",
      "29 : 애프터 양 -> 8.04\n",
      "30 : 원더풀 라이프 -> 8.00\n",
      "31 : 밀양 -> 7.95\n",
      "32 : 버즈 라이트이어 -> 7.71\n",
      "33 : 고스트 스토리 -> 7.63\n",
      "34 : 디어 에반 핸슨 -> 7.47\n",
      "35 : 립반윙클의 신부 -> 7.38\n",
      "36 : 그린 나이트 -> 7.31\n",
      "37 : 닥터 스트레인지: 대혼돈의 멀티버스 -> 7.30\n",
      "38 : 아사코 -> 7.28\n",
      "39 : 그대가 조국 -> 7.12\n",
      "40 : 불도저에 탄 소녀 -> 7.11\n",
      "41 : 마녀(魔女) Part2. The Other One -> 6.65\n",
      "42 : 박쥐 -> 6.32\n",
      "43 : 쥬라기 월드: 도미니언 -> 6.24\n",
      "44 : 대통령의 7시간 -> 5.99\n",
      "45 : 브로커 -> 5.52\n"
     ]
    }
   ],
   "source": [
    "# <tr> 태그 검색\n",
    "movie_title = []\n",
    "movie_point = []\n",
    "for line in soup.find_all('tr'):   # 리스트의 자료를 한개씩 가져와서 \n",
    "    title = line.find('div',class_='tit5')  # <div class='tit5'\n",
    "    if title:   # title이 존재하면 영화 제목 가져옴\n",
    "        movie_title.append(title.get_text().strip('\\n'))\n",
    "#         print(title.get_text())\n",
    "    point = line.find('td', class_='point')\n",
    "    if point:   # point 가 존재하면 평점 가져옴  \n",
    "        movie_point.append(point.get_text())\n",
    "#         print(point.get_text())\n",
    "\n",
    "for rank, (title, point) in enumerate(zip(movie_title, movie_point)):\n",
    "    print(\"{} : {} -> {}\".format(rank+1, title, point))\n"
   ]
  },
  {
   "cell_type": "code",
   "execution_count": 24,
   "id": "42688766",
   "metadata": {},
   "outputs": [
    {
     "data": {
      "text/plain": [
       "[('탑건: 매버릭', '9.81'),\n",
       " ('범죄도시2', '9.47'),\n",
       " ('로마의 휴일', '9.26'),\n",
       " ('피아니스트의 전설', '9.25'),\n",
       " ('극장판 주술회전 0', '9.25'),\n",
       " ('바람과 함께 사라지다', '9.25'),\n",
       " ('러빙 빈센트', '9.22'),\n",
       " ('러브레터', '9.13'),\n",
       " ('코다', '9.13'),\n",
       " ('카시오페아', '9.11'),\n",
       " ('전투왕', '9.10'),\n",
       " ('올드보이', '9.04'),\n",
       " ('이별의 아침에 약속의 꽃을 장식하자', '8.97'),\n",
       " ('디어 헌터', '8.94'),\n",
       " ('중경삼림', '8.90'),\n",
       " ('천로역정: 천국을 찾아서', '8.86'),\n",
       " ('화양연화', '8.81'),\n",
       " ('펄프 픽션', '8.76'),\n",
       " ('아메리칸 셰프', '8.75'),\n",
       " ('김광석', '8.67'),\n",
       " ('걸어도 걸어도', '8.63'),\n",
       " ('기생충', '8.49'),\n",
       " ('드라이브 마이 카', '8.41'),\n",
       " ('신은 죽지 않았다 3: 어둠 속의 빛', '8.32'),\n",
       " ('어나더 라운드', '8.31'),\n",
       " ('우연과 상상', '8.16'),\n",
       " ('릴리 슈슈의 모든 것', '8.12'),\n",
       " ('하나와 앨리스', '8.11'),\n",
       " ('애프터 양', '8.04'),\n",
       " ('원더풀 라이프', '8.00'),\n",
       " ('밀양', '7.95'),\n",
       " ('버즈 라이트이어', '7.71'),\n",
       " ('고스트 스토리', '7.63'),\n",
       " ('디어 에반 핸슨', '7.47'),\n",
       " ('립반윙클의 신부', '7.38'),\n",
       " ('그린 나이트', '7.31'),\n",
       " ('닥터 스트레인지: 대혼돈의 멀티버스', '7.30'),\n",
       " ('아사코', '7.28'),\n",
       " ('그대가 조국', '7.12'),\n",
       " ('불도저에 탄 소녀', '7.11'),\n",
       " ('마녀(魔女) Part2. The Other One', '6.65'),\n",
       " ('박쥐', '6.32'),\n",
       " ('쥬라기 월드: 도미니언', '6.24'),\n",
       " ('대통령의 7시간', '5.99'),\n",
       " ('브로커', '5.52')]"
      ]
     },
     "execution_count": 24,
     "metadata": {},
     "output_type": "execute_result"
    }
   ],
   "source": [
    "list(zip(movie_title, movie_point))"
   ]
  },
  {
   "cell_type": "code",
   "execution_count": 22,
   "id": "0e00a282",
   "metadata": {},
   "outputs": [
    {
     "name": "stdout",
     "output_type": "stream",
     "text": [
      "\n",
      "test\n",
      "\n",
      "test\n"
     ]
    }
   ],
   "source": [
    "a = '\\ntest\\n'\n",
    "print(a)\n",
    "print(a.strip('\\n'))"
   ]
  },
  {
   "cell_type": "code",
   "execution_count": 14,
   "id": "6f28ab10",
   "metadata": {},
   "outputs": [],
   "source": [
    "html_doc = \"\"\"<html>\n",
    "<head>\n",
    "  <title>The Dormouse's story</title>\n",
    "</head>\n",
    "<body>\n",
    "    <p class=\"title\"><b>The Dormouse's story</b></p>\n",
    "\n",
    "    <p class=\"story\">Once upon a time there were three little sisters; and their names were\n",
    "    <a href=\"http://example.com/elsie\" class=\"sister\" id=\"link1\">Elsie</a>,\n",
    "    <a href=\"http://example.com/lacie\" class=\"sister\" id=\"link2\">Lacie</a> and\n",
    "    <a href=\"http://example.com/tillie\" class=\"sister\" id=\"link3\">Tillie</a>;\n",
    "    and they lived at the bottom of a well.</p>\n",
    "\n",
    "    <p class=\"story\">...</p>\n",
    "\"\"\""
   ]
  },
  {
   "cell_type": "code",
   "execution_count": 18,
   "id": "55bee98c",
   "metadata": {},
   "outputs": [],
   "source": [
    "soup = BeautifulSoup(html_doc, 'html.parser')"
   ]
  },
  {
   "cell_type": "code",
   "execution_count": 20,
   "id": "62f124e7",
   "metadata": {},
   "outputs": [
    {
     "name": "stdout",
     "output_type": "stream",
     "text": [
      "<title>The Dormouse's story</title>\n",
      "title\n",
      "The Dormouse's story\n"
     ]
    }
   ],
   "source": [
    "print(soup.title)\n",
    "print(soup.title.name)\n",
    "print(soup.title.string)"
   ]
  },
  {
   "cell_type": "code",
   "execution_count": null,
   "id": "1c793436",
   "metadata": {},
   "outputs": [],
   "source": []
  }
 ],
 "metadata": {
  "kernelspec": {
   "display_name": "Python 3 (ipykernel)",
   "language": "python",
   "name": "python3"
  },
  "language_info": {
   "codemirror_mode": {
    "name": "ipython",
    "version": 3
   },
   "file_extension": ".py",
   "mimetype": "text/x-python",
   "name": "python",
   "nbconvert_exporter": "python",
   "pygments_lexer": "ipython3",
   "version": "3.9.12"
  }
 },
 "nbformat": 4,
 "nbformat_minor": 5
}
