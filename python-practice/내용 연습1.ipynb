{
  "metadata": {
    "language_info": {
      "codemirror_mode": {
        "name": "python",
        "version": 3
      },
      "file_extension": ".py",
      "mimetype": "text/x-python",
      "name": "python",
      "nbconvert_exporter": "python",
      "pygments_lexer": "ipython3",
      "version": "3.8"
    },
    "kernelspec": {
      "name": "python",
      "display_name": "Pyolite",
      "language": "python"
    }
  },
  "nbformat_minor": 4,
  "nbformat": 4,
  "cells": [
    {
      "cell_type": "code",
      "source": "print(type(123))\n\nprint(type(\"안녕하세요\"))\n\nprint(type('안녕하세요'))\n\nprint(type(2245 + 2512))\n\nprint(type('554'))\n\n# print(\" \"안녕하세요\"라고 말했습니다.\") < 해당 코드 출력시 error 발생. \" \" 안녕하세요 \"라고 말했습니다\" 로 인식하여 안녕하세요 부분은 나열이기 떄문.\n\nprint('\"안녕하세요.\"라고 말했습니다.')\n\nprint(\"'배가 고프다.'라고 생각했다.\") # 윗 부분 에러는 이런식으로 작은따옴표와 큰 따옴표를 활용하여 작성하면 해결 가능.\nprint()\nprint()\nprint(\"\\\"안녕하세요.\\\"라고 말했습니다.\")\n\nprint('\\'배가 고프다.\\'라고 생각했다.') # \\\" , \\' 등 역슬래시와 같이 사용 할 경우 문자열을 만드는 기호가 아닌, 단순한 따옴표로 인식.\nprint()\nprint()\nprint(\"동해물과 백두산이 마르고 닳도록\\n하느님이 보우하사 우리나라 만세\")\nprint()\nprint()\nprint(\"\"\"동해물과 백두산이 마르고 닳도록\n하느님이 보우하사 우리 나라만세\"\"\")\n\n",
      "metadata": {
        "trusted": true
      },
      "execution_count": 38,
      "outputs": [
        {
          "name": "stdout",
          "text": "<class 'int'>\n<class 'str'>\n<class 'str'>\n<class 'int'>\n<class 'str'>\n\"안녕하세요.\"라고 말했습니다.\n'배가 고프다.'라고 생각했다.\n\n\n\"안녕하세요.\"라고 말했습니다.\n'배가 고프다.'라고 생각했다.\n\n\n동해물과 백두산이 마르고 닳도록\n하느님이 보우하사 우리나라 만세\n\n\n동해물과 백두산이 마르고 닳도록\n하느님이 보우하사 우리 나라만세\n",
          "output_type": "stream"
        }
      ]
    },
    {
      "cell_type": "code",
      "source": "",
      "metadata": {},
      "execution_count": null,
      "outputs": []
    }
  ]
}