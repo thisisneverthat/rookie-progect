{
 "cells": [
  {
   "cell_type": "code",
   "execution_count": 17,
   "id": "d64afef5",
   "metadata": {},
   "outputs": [],
   "source": [
    "# 네이버 영화에서 현재 상영중인 영화의 순위, 제목, 평점을 출력\n",
    "from urllib import request\n",
    "from bs4 import BeautifulSoup\n",
    "\n",
    "open_url = 'https://movie.naver.com/movie/sdb/rank/rmovie.naver?sel=cur&date=20220627'\n",
    "target = request.urlopen(open_url)\n",
    "\n",
    "soup = BeautifulSoup(target)"
   ]
  },
  {
   "cell_type": "code",
   "execution_count": 24,
   "id": "de34946e",
   "metadata": {},
   "outputs": [
    {
     "name": "stdout",
     "output_type": "stream",
     "text": [
      "\n",
      "탑건: 매버릭\n",
      "\n"
     ]
    },
    {
     "ename": "NameError",
     "evalue": "name 'movie_point' is not defined",
     "output_type": "error",
     "traceback": [
      "\u001b[1;31m---------------------------------------------------------------------------\u001b[0m",
      "\u001b[1;31mNameError\u001b[0m                                 Traceback (most recent call last)",
      "Input \u001b[1;32mIn [24]\u001b[0m, in \u001b[0;36m<cell line: 4>\u001b[1;34m()\u001b[0m\n\u001b[0;32m      9\u001b[0m     point \u001b[38;5;241m=\u001b[39m line\u001b[38;5;241m.\u001b[39mfind(\u001b[38;5;124m'\u001b[39m\u001b[38;5;124mtd\u001b[39m\u001b[38;5;124m'\u001b[39m, class_\u001b[38;5;241m=\u001b[39m\u001b[38;5;124m'\u001b[39m\u001b[38;5;124mpoint\u001b[39m\u001b[38;5;124m'\u001b[39m)\n\u001b[0;32m     10\u001b[0m     \u001b[38;5;28;01mif\u001b[39;00m point:\n\u001b[1;32m---> 11\u001b[0m         \u001b[43mmovie_point\u001b[49m\u001b[38;5;241m.\u001b[39mappend(point\u001b[38;5;241m.\u001b[39mget_text())\n\u001b[0;32m     12\u001b[0m         \u001b[38;5;28mprint\u001b[39m(point\u001b[38;5;241m.\u001b[39mget_txt())\n\u001b[0;32m     13\u001b[0m \u001b[38;5;28;01mfor\u001b[39;00m rank, (title, point)\u001b[38;5;129;01min\u001b[39;00m \u001b[38;5;28menumerate\u001b[39m(\u001b[38;5;28mzip\u001b[39m(movie_title, movie_point)):\n",
      "\u001b[1;31mNameError\u001b[0m: name 'movie_point' is not defined"
     ]
    }
   ],
   "source": [
    "#<tr> 태그 검색\n",
    "movie_title = []\n",
    "movie_rank = []\n",
    "for line in soup.find_all('tr'):\n",
    "    title = line.find('div', class_='tit5')\n",
    "    if title:\n",
    "        movie_title.append(title.get_text().strip('\\n'))\n",
    "        print(title.get_text())\n",
    "    point = line.find('td', class_='point')\n",
    "    if point:\n",
    "        movie_point.append(point.get_text())\n",
    "        print(point.get_txt())\n",
    "for rank, (title, point)in enumerate(zip(movie_title, movie_point)):\n",
    "    point(\"{} : {} -> {}\".format(rank+1,title,point))                                "
   ]
  },
  {
   "cell_type": "code",
   "execution_count": 29,
   "id": "bcc19d47",
   "metadata": {},
   "outputs": [],
   "source": [
    "html_doc = \"\"\"<html>\n",
    "<head>\n",
    "<title>The Dormouse's story</title>\n",
    "</head>\n",
    "<body>\n",
    "<p class=\"title\"><b>The Dormouse's story</b></p>\n",
    "\n",
    "<p class=\"story\">Once upon a time there were three little sisters; and their names were\n",
    "<a href=\"http://example.com/elsie\" class=\"sister\" id=\"link1\">Elsie</a>,\n",
    "<a href=\"http://example.com/lacie\" class=\"sister\" id=\"link2\">Lacie</a> and\n",
    "<a href=\"http://example.com/tillie\" class=\"sister\" id=\"link3\">Tillie</a>;\n",
    "and they lived at the bottom of a well.</p>\n",
    "\n",
    "<p class=\"story\">...</p>\n",
    "\"\"\""
   ]
  },
  {
   "cell_type": "code",
   "execution_count": 30,
   "id": "74455e9a",
   "metadata": {},
   "outputs": [],
   "source": [
    "soup = BeautifulSoup(html_doc, 'html.parser')"
   ]
  },
  {
   "cell_type": "code",
   "execution_count": 31,
   "id": "111b5c53",
   "metadata": {},
   "outputs": [
    {
     "name": "stdout",
     "output_type": "stream",
     "text": [
      "<title>The Dormouse's story</title>\n",
      "title\n"
     ]
    }
   ],
   "source": [
    "print(soup.title)\n",
    "print(soup.title.name)"
   ]
  },
  {
   "cell_type": "code",
   "execution_count": null,
   "id": "45d2e746",
   "metadata": {},
   "outputs": [],
   "source": []
  },
  {
   "cell_type": "code",
   "execution_count": null,
   "id": "0b3c3a34",
   "metadata": {},
   "outputs": [],
   "source": []
  },
  {
   "cell_type": "code",
   "execution_count": null,
   "id": "1dbc65dc",
   "metadata": {},
   "outputs": [],
   "source": []
  },
  {
   "cell_type": "code",
   "execution_count": null,
   "id": "fcb2af15",
   "metadata": {},
   "outputs": [],
   "source": []
  },
  {
   "cell_type": "code",
   "execution_count": null,
   "id": "17e50fba",
   "metadata": {},
   "outputs": [],
   "source": []
  },
  {
   "cell_type": "code",
   "execution_count": null,
   "id": "99055f78",
   "metadata": {},
   "outputs": [],
   "source": []
  },
  {
   "cell_type": "code",
   "execution_count": null,
   "id": "6d38337b",
   "metadata": {},
   "outputs": [],
   "source": []
  }
 ],
 "metadata": {
  "kernelspec": {
   "display_name": "Python 3 (ipykernel)",
   "language": "python",
   "name": "python3"
  },
  "language_info": {
   "codemirror_mode": {
    "name": "ipython",
    "version": 3
   },
   "file_extension": ".py",
   "mimetype": "text/x-python",
   "name": "python",
   "nbconvert_exporter": "python",
   "pygments_lexer": "ipython3",
   "version": "3.9.12"
  }
 },
 "nbformat": 4,
 "nbformat_minor": 5
}
