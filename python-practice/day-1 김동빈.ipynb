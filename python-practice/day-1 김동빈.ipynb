{
 "cells": [
  {
   "cell_type": "code",
   "execution_count": 3,
   "id": "603825ef",
   "metadata": {},
   "outputs": [
    {
     "name": "stdout",
     "output_type": "stream",
     "text": [
      "테스트\n"
     ]
    }
   ],
   "source": [
    "print(\"테스트\")"
   ]
  },
  {
   "cell_type": "code",
   "execution_count": 4,
   "id": "13e76986",
   "metadata": {},
   "outputs": [
    {
     "name": "stdout",
     "output_type": "stream",
     "text": [
      "테스트 10 + 20\n"
     ]
    }
   ],
   "source": [
    "print(\"테스트\", \"10 + 20\")"
   ]
  },
  {
   "cell_type": "markdown",
   "id": "20b018ad",
   "metadata": {},
   "source": [
    "#### 문자열 연산자\n",
    "\n",
    "문자열 + 문자열 : 이어 붙히기\n",
    "문자열 * 문자열 : 문자열을 숫자만큼 반복"
   ]
  },
  {
   "cell_type": "code",
   "execution_count": 5,
   "id": "6902acb1",
   "metadata": {},
   "outputs": [
    {
     "name": "stdout",
     "output_type": "stream",
     "text": [
      "안녕하세요\n",
      "안녕하세요!\n"
     ]
    }
   ],
   "source": [
    "print(\"안녕\"+\"하세요\")\n",
    "print(\"안녕하세요\"+\"!\")"
   ]
  },
  {
   "cell_type": "code",
   "execution_count": 6,
   "id": "84ed304b",
   "metadata": {},
   "outputs": [
    {
     "name": "stdout",
     "output_type": "stream",
     "text": [
      "안녕하세요안녕하세요안녕하세요\n",
      "안녕하세요안녕하세요안녕하세요\n"
     ]
    }
   ],
   "source": [
    "print(\"안녕하세요\" * 3)\n",
    "print(3 * \"안녕하세요\")"
   ]
  },
  {
   "cell_type": "markdown",
   "id": "91000e26",
   "metadata": {},
   "source": [
    "#### 문자열 자르기\n",
    "문자열 [시작인덱스 : 마지막 인덱스]\n",
    "시작은 포함, 마지막은 포함되지 않음"
   ]
  },
  {
   "cell_type": "code",
   "execution_count": null,
   "id": "ed48935a",
   "metadata": {},
   "outputs": [],
   "source": []
  },
  {
   "cell_type": "code",
   "execution_count": null,
   "id": "b86b3227",
   "metadata": {},
   "outputs": [],
   "source": []
  },
  {
   "cell_type": "code",
   "execution_count": null,
   "id": "aaf5fa37",
   "metadata": {},
   "outputs": [],
   "source": []
  }
 ],
 "metadata": {
  "kernelspec": {
   "display_name": "Python 3 (ipykernel)",
   "language": "python",
   "name": "python3"
  },
  "language_info": {
   "codemirror_mode": {
    "name": "ipython",
    "version": 3
   },
   "file_extension": ".py",
   "mimetype": "text/x-python",
   "name": "python",
   "nbconvert_exporter": "python",
   "pygments_lexer": "ipython3",
   "version": "3.9.12"
  }
 },
 "nbformat": 4,
 "nbformat_minor": 5
}
